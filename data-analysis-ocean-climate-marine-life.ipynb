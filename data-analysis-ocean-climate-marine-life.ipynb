{
 "cells": [
  {
   "cell_type": "markdown",
   "id": "8d9e1fe9",
   "metadata": {
    "papermill": {
     "duration": 0.007969,
     "end_time": "2025-04-29T10:39:40.667691",
     "exception": false,
     "start_time": "2025-04-29T10:39:40.659722",
     "status": "completed"
    },
    "tags": []
   },
   "source": [
    "# Data Analysis: - Ocean Climate & Marine Life\n",
    "_____\n"
   ]
  },
  {
   "cell_type": "markdown",
   "id": "184ce296",
   "metadata": {
    "papermill": {
     "duration": 0.008013,
     "end_time": "2025-04-29T10:39:40.682685",
     "exception": false,
     "start_time": "2025-04-29T10:39:40.674672",
     "status": "completed"
    },
    "tags": []
   },
   "source": [
    "This analysis explores the relationship between ocean climate variables and marine biodiversity across a range of global ocean locations. The dataset spans 9 years and contains information on key ocean climate indicators, such as Sea Surface Temperature (SST), pH level, and the occurrence of marine heatwaves. Additionally, it provides insights into coral bleaching severity and the number of marine species observed at various locations.\n",
    "\n",
    "The primary aim of this analysis is to understand how changes in ocean conditions—such as rising temperatures and acidification — affect marine biodiversity. Through a series of visualizations, we investigate trends over time, geographical variations, and the potential impact of marine heatwaves and bleaching events on marine species diversity. This analysis is particularly relevant in the context of climate change, which is increasingly influencing ocean health and the biodiversity within. \n",
    "\n",
    "____"
   ]
  },
  {
   "cell_type": "markdown",
   "id": "a709d61c",
   "metadata": {
    "papermill": {
     "duration": 0.006235,
     "end_time": "2025-04-29T10:39:40.695688",
     "exception": false,
     "start_time": "2025-04-29T10:39:40.689453",
     "status": "completed"
    },
    "tags": []
   },
   "source": [
    "## Imports"
   ]
  },
  {
   "cell_type": "code",
   "execution_count": 1,
   "id": "53292907",
   "metadata": {
    "execution": {
     "iopub.execute_input": "2025-04-29T10:39:40.710462Z",
     "iopub.status.busy": "2025-04-29T10:39:40.710128Z",
     "iopub.status.idle": "2025-04-29T10:39:46.208359Z",
     "shell.execute_reply": "2025-04-29T10:39:46.207040Z"
    },
    "papermill": {
     "duration": 5.508344,
     "end_time": "2025-04-29T10:39:46.210650",
     "exception": false,
     "start_time": "2025-04-29T10:39:40.702306",
     "status": "completed"
    },
    "tags": []
   },
   "outputs": [],
   "source": [
    "import warnings\n",
    "warnings.filterwarnings('ignore')\n",
    "\n",
    "# Pandas and numpty for dataset/array manipulation\n",
    "import pandas as pd\n",
    "import numpy as np\n",
    "import datetime as dt\n",
    "\n",
    "#Seaborn and Matplotlib for visualisation\n",
    "import seaborn as sns\n",
    "import matplotlib.pyplot as plt\n",
    "%matplotlib inline\n",
    "\n",
    "#Plotly for more interactive graphs\n",
    "import plotly.graph_objects as go\n",
    "import plotly.express as px"
   ]
  },
  {
   "cell_type": "code",
   "execution_count": 2,
   "id": "0c863a4c",
   "metadata": {
    "execution": {
     "iopub.execute_input": "2025-04-29T10:39:46.228052Z",
     "iopub.status.busy": "2025-04-29T10:39:46.227365Z",
     "iopub.status.idle": "2025-04-29T10:39:46.261282Z",
     "shell.execute_reply": "2025-04-29T10:39:46.259988Z"
    },
    "papermill": {
     "duration": 0.045326,
     "end_time": "2025-04-29T10:39:46.263449",
     "exception": false,
     "start_time": "2025-04-29T10:39:46.218123",
     "status": "completed"
    },
    "tags": []
   },
   "outputs": [],
   "source": [
    "#Import the dataset \n",
    "df_activity = pd.read_csv(\"/kaggle/input/shifting-seas-ocean-climate-and-marine-life-dataset/realistic_ocean_climate_dataset.csv\")"
   ]
  },
  {
   "cell_type": "markdown",
   "id": "935dea5a",
   "metadata": {
    "papermill": {
     "duration": 0.00915,
     "end_time": "2025-04-29T10:39:46.279702",
     "exception": false,
     "start_time": "2025-04-29T10:39:46.270552",
     "status": "completed"
    },
    "tags": []
   },
   "source": [
    "## Basic Data Exploration"
   ]
  },
  {
   "cell_type": "code",
   "execution_count": 3,
   "id": "3aa878e5",
   "metadata": {
    "execution": {
     "iopub.execute_input": "2025-04-29T10:39:46.294845Z",
     "iopub.status.busy": "2025-04-29T10:39:46.294465Z",
     "iopub.status.idle": "2025-04-29T10:39:46.331383Z",
     "shell.execute_reply": "2025-04-29T10:39:46.330293Z"
    },
    "papermill": {
     "duration": 0.046624,
     "end_time": "2025-04-29T10:39:46.333302",
     "exception": false,
     "start_time": "2025-04-29T10:39:46.286678",
     "status": "completed"
    },
    "tags": []
   },
   "outputs": [
    {
     "data": {
      "text/html": [
       "<div>\n",
       "<style scoped>\n",
       "    .dataframe tbody tr th:only-of-type {\n",
       "        vertical-align: middle;\n",
       "    }\n",
       "\n",
       "    .dataframe tbody tr th {\n",
       "        vertical-align: top;\n",
       "    }\n",
       "\n",
       "    .dataframe thead th {\n",
       "        text-align: right;\n",
       "    }\n",
       "</style>\n",
       "<table border=\"1\" class=\"dataframe\">\n",
       "  <thead>\n",
       "    <tr style=\"text-align: right;\">\n",
       "      <th></th>\n",
       "      <th>Date</th>\n",
       "      <th>Location</th>\n",
       "      <th>Latitude</th>\n",
       "      <th>Longitude</th>\n",
       "      <th>SST (°C)</th>\n",
       "      <th>pH Level</th>\n",
       "      <th>Bleaching Severity</th>\n",
       "      <th>Species Observed</th>\n",
       "      <th>Marine Heatwave</th>\n",
       "    </tr>\n",
       "  </thead>\n",
       "  <tbody>\n",
       "    <tr>\n",
       "      <th>0</th>\n",
       "      <td>2015-01-01</td>\n",
       "      <td>Red Sea</td>\n",
       "      <td>20.0248</td>\n",
       "      <td>38.4931</td>\n",
       "      <td>29.47</td>\n",
       "      <td>8.107</td>\n",
       "      <td>NaN</td>\n",
       "      <td>106</td>\n",
       "      <td>False</td>\n",
       "    </tr>\n",
       "    <tr>\n",
       "      <th>1</th>\n",
       "      <td>2015-01-07</td>\n",
       "      <td>Great Barrier Reef</td>\n",
       "      <td>-18.2988</td>\n",
       "      <td>147.7782</td>\n",
       "      <td>29.65</td>\n",
       "      <td>8.004</td>\n",
       "      <td>High</td>\n",
       "      <td>116</td>\n",
       "      <td>False</td>\n",
       "    </tr>\n",
       "    <tr>\n",
       "      <th>2</th>\n",
       "      <td>2015-01-14</td>\n",
       "      <td>Caribbean Sea</td>\n",
       "      <td>14.9768</td>\n",
       "      <td>-75.0233</td>\n",
       "      <td>28.86</td>\n",
       "      <td>7.947</td>\n",
       "      <td>High</td>\n",
       "      <td>90</td>\n",
       "      <td>False</td>\n",
       "    </tr>\n",
       "    <tr>\n",
       "      <th>3</th>\n",
       "      <td>2015-01-20</td>\n",
       "      <td>Great Barrier Reef</td>\n",
       "      <td>-18.3152</td>\n",
       "      <td>147.6486</td>\n",
       "      <td>28.97</td>\n",
       "      <td>7.995</td>\n",
       "      <td>Medium</td>\n",
       "      <td>94</td>\n",
       "      <td>False</td>\n",
       "    </tr>\n",
       "    <tr>\n",
       "      <th>4</th>\n",
       "      <td>2015-01-27</td>\n",
       "      <td>Galápagos</td>\n",
       "      <td>-0.8805</td>\n",
       "      <td>-90.9769</td>\n",
       "      <td>28.60</td>\n",
       "      <td>7.977</td>\n",
       "      <td>NaN</td>\n",
       "      <td>110</td>\n",
       "      <td>False</td>\n",
       "    </tr>\n",
       "  </tbody>\n",
       "</table>\n",
       "</div>"
      ],
      "text/plain": [
       "         Date            Location  Latitude  Longitude  SST (°C)  pH Level  \\\n",
       "0  2015-01-01             Red Sea   20.0248    38.4931     29.47     8.107   \n",
       "1  2015-01-07  Great Barrier Reef  -18.2988   147.7782     29.65     8.004   \n",
       "2  2015-01-14       Caribbean Sea   14.9768   -75.0233     28.86     7.947   \n",
       "3  2015-01-20  Great Barrier Reef  -18.3152   147.6486     28.97     7.995   \n",
       "4  2015-01-27           Galápagos   -0.8805   -90.9769     28.60     7.977   \n",
       "\n",
       "  Bleaching Severity  Species Observed  Marine Heatwave  \n",
       "0                NaN               106            False  \n",
       "1               High               116            False  \n",
       "2               High                90            False  \n",
       "3             Medium                94            False  \n",
       "4                NaN               110            False  "
      ]
     },
     "execution_count": 3,
     "metadata": {},
     "output_type": "execute_result"
    }
   ],
   "source": [
    "#Return the first 5 rows of the dataset\n",
    "df_activity.head()"
   ]
  },
  {
   "cell_type": "markdown",
   "id": "9905b36f",
   "metadata": {
    "papermill": {
     "duration": 0.006301,
     "end_time": "2025-04-29T10:39:46.346695",
     "exception": false,
     "start_time": "2025-04-29T10:39:46.340394",
     "status": "completed"
    },
    "tags": []
   },
   "source": [
    "Brief Description of the data:\n",
    "- **Date**: Date of Observation\n",
    "- **Location**: Marine Location Name\n",
    "- **Latitude**: Latitude of the Observation Site\n",
    "- **Longitude**: Longitude of the Observation Site\n",
    "- **SST**: Sea Surface Temperature in Degrees Celcius\n",
    "- **pH Level**: Acidity Level of Seawater (lower means more acidic = acidification)\n",
    "- **Bleaching Severity**: Categorical Variables\n",
    "- **Species Observed**: Count of marine Species Observed During Sample Period\n",
    "- **Marine Heatwave**: Indicates whether SST > 30°C"
   ]
  },
  {
   "cell_type": "code",
   "execution_count": 4,
   "id": "08c3b23e",
   "metadata": {
    "execution": {
     "iopub.execute_input": "2025-04-29T10:39:46.362196Z",
     "iopub.status.busy": "2025-04-29T10:39:46.361017Z",
     "iopub.status.idle": "2025-04-29T10:39:46.390269Z",
     "shell.execute_reply": "2025-04-29T10:39:46.388882Z"
    },
    "papermill": {
     "duration": 0.038569,
     "end_time": "2025-04-29T10:39:46.391929",
     "exception": false,
     "start_time": "2025-04-29T10:39:46.353360",
     "status": "completed"
    },
    "tags": []
   },
   "outputs": [
    {
     "name": "stdout",
     "output_type": "stream",
     "text": [
      "<class 'pandas.core.frame.DataFrame'>\n",
      "RangeIndex: 500 entries, 0 to 499\n",
      "Data columns (total 9 columns):\n",
      " #   Column              Non-Null Count  Dtype  \n",
      "---  ------              --------------  -----  \n",
      " 0   Date                500 non-null    object \n",
      " 1   Location            500 non-null    object \n",
      " 2   Latitude            500 non-null    float64\n",
      " 3   Longitude           500 non-null    float64\n",
      " 4   SST (°C)            500 non-null    float64\n",
      " 5   pH Level            500 non-null    float64\n",
      " 6   Bleaching Severity  350 non-null    object \n",
      " 7   Species Observed    500 non-null    int64  \n",
      " 8   Marine Heatwave     500 non-null    bool   \n",
      "dtypes: bool(1), float64(4), int64(1), object(3)\n",
      "memory usage: 31.9+ KB\n"
     ]
    }
   ],
   "source": [
    "#Information about the dataframe including index dtypes and columns\n",
    "df_activity.info()"
   ]
  },
  {
   "cell_type": "code",
   "execution_count": 5,
   "id": "b5a11a85",
   "metadata": {
    "execution": {
     "iopub.execute_input": "2025-04-29T10:39:46.407525Z",
     "iopub.status.busy": "2025-04-29T10:39:46.407189Z",
     "iopub.status.idle": "2025-04-29T10:39:46.416081Z",
     "shell.execute_reply": "2025-04-29T10:39:46.414740Z"
    },
    "papermill": {
     "duration": 0.019027,
     "end_time": "2025-04-29T10:39:46.417811",
     "exception": false,
     "start_time": "2025-04-29T10:39:46.398784",
     "status": "completed"
    },
    "tags": []
   },
   "outputs": [
    {
     "name": "stdout",
     "output_type": "stream",
     "text": [
      "['Red Sea' 'Great Barrier Reef' 'Caribbean Sea' 'Galápagos'\n",
      " 'South China Sea' 'Maldives' 'Hawaiian Islands']\n",
      "------\n",
      "Location\n",
      "Great Barrier Reef    87\n",
      "Red Sea               83\n",
      "South China Sea       73\n",
      "Hawaiian Islands      71\n",
      "Caribbean Sea         70\n",
      "Galápagos             65\n",
      "Maldives              51\n",
      "Name: count, dtype: int64\n"
     ]
    }
   ],
   "source": [
    "print(df_activity['Location'].unique())\n",
    "print(\"------\")\n",
    "print(df_activity['Location'].value_counts())"
   ]
  },
  {
   "cell_type": "code",
   "execution_count": 6,
   "id": "43f73152",
   "metadata": {
    "execution": {
     "iopub.execute_input": "2025-04-29T10:39:46.433484Z",
     "iopub.status.busy": "2025-04-29T10:39:46.433096Z",
     "iopub.status.idle": "2025-04-29T10:39:46.441136Z",
     "shell.execute_reply": "2025-04-29T10:39:46.439994Z"
    },
    "papermill": {
     "duration": 0.018139,
     "end_time": "2025-04-29T10:39:46.443035",
     "exception": false,
     "start_time": "2025-04-29T10:39:46.424896",
     "status": "completed"
    },
    "tags": []
   },
   "outputs": [
    {
     "name": "stdout",
     "output_type": "stream",
     "text": [
      "[nan 'High' 'Medium' 'Low']\n",
      "------\n",
      "Bleaching Severity\n",
      "Low       132\n",
      "Medium    130\n",
      "High       88\n",
      "Name: count, dtype: int64\n"
     ]
    }
   ],
   "source": [
    "print(df_activity['Bleaching Severity'].unique())\n",
    "print(\"------\")\n",
    "print(df_activity['Bleaching Severity'].value_counts())"
   ]
  },
  {
   "cell_type": "markdown",
   "id": "22a136a5",
   "metadata": {
    "papermill": {
     "duration": 0.006569,
     "end_time": "2025-04-29T10:39:46.457166",
     "exception": false,
     "start_time": "2025-04-29T10:39:46.450597",
     "status": "completed"
    },
    "tags": []
   },
   "source": [
    "The summary above provides us with some key information that will come in use later on:\n",
    "- There are a total of 500 entries with 9 columns of data across the whole data \n",
    "- There are 7 unique locations in the dataset\n",
    "- 'Bleaching Severity' is the only column with missing or nan values, we can fix this later\n",
    "- Date is currently an object Dtype, we can fix this later"
   ]
  },
  {
   "cell_type": "markdown",
   "id": "de0e7ce5",
   "metadata": {
    "papermill": {
     "duration": 0.006429,
     "end_time": "2025-04-29T10:39:46.470225",
     "exception": false,
     "start_time": "2025-04-29T10:39:46.463796",
     "status": "completed"
    },
    "tags": []
   },
   "source": [
    "## Data Cleansing"
   ]
  },
  {
   "cell_type": "code",
   "execution_count": 7,
   "id": "2d72b5b0",
   "metadata": {
    "execution": {
     "iopub.execute_input": "2025-04-29T10:39:46.485727Z",
     "iopub.status.busy": "2025-04-29T10:39:46.485394Z",
     "iopub.status.idle": "2025-04-29T10:39:46.495587Z",
     "shell.execute_reply": "2025-04-29T10:39:46.494565Z"
    },
    "papermill": {
     "duration": 0.019515,
     "end_time": "2025-04-29T10:39:46.497205",
     "exception": false,
     "start_time": "2025-04-29T10:39:46.477690",
     "status": "completed"
    },
    "tags": []
   },
   "outputs": [],
   "source": [
    "# Convert the Date column into a DateTime dtype\n",
    "df_activity['Date'] = pd.to_datetime(df_activity['Date'])"
   ]
  },
  {
   "cell_type": "code",
   "execution_count": 8,
   "id": "1c2a4fc0",
   "metadata": {
    "execution": {
     "iopub.execute_input": "2025-04-29T10:39:46.512793Z",
     "iopub.status.busy": "2025-04-29T10:39:46.512029Z",
     "iopub.status.idle": "2025-04-29T10:39:46.528807Z",
     "shell.execute_reply": "2025-04-29T10:39:46.527520Z"
    },
    "papermill": {
     "duration": 0.026637,
     "end_time": "2025-04-29T10:39:46.530672",
     "exception": false,
     "start_time": "2025-04-29T10:39:46.504035",
     "status": "completed"
    },
    "tags": []
   },
   "outputs": [
    {
     "data": {
      "text/html": [
       "<div>\n",
       "<style scoped>\n",
       "    .dataframe tbody tr th:only-of-type {\n",
       "        vertical-align: middle;\n",
       "    }\n",
       "\n",
       "    .dataframe tbody tr th {\n",
       "        vertical-align: top;\n",
       "    }\n",
       "\n",
       "    .dataframe thead th {\n",
       "        text-align: right;\n",
       "    }\n",
       "</style>\n",
       "<table border=\"1\" class=\"dataframe\">\n",
       "  <thead>\n",
       "    <tr style=\"text-align: right;\">\n",
       "      <th></th>\n",
       "      <th>Date</th>\n",
       "      <th>Location</th>\n",
       "      <th>Latitude</th>\n",
       "      <th>Longitude</th>\n",
       "      <th>SST (°C)</th>\n",
       "      <th>pH Level</th>\n",
       "      <th>Bleaching Severity</th>\n",
       "      <th>Species Observed</th>\n",
       "      <th>Marine Heatwave</th>\n",
       "      <th>Year</th>\n",
       "    </tr>\n",
       "  </thead>\n",
       "  <tbody>\n",
       "    <tr>\n",
       "      <th>0</th>\n",
       "      <td>2015-01-01</td>\n",
       "      <td>Red Sea</td>\n",
       "      <td>20.0248</td>\n",
       "      <td>38.4931</td>\n",
       "      <td>29.47</td>\n",
       "      <td>8.107</td>\n",
       "      <td>NaN</td>\n",
       "      <td>106</td>\n",
       "      <td>False</td>\n",
       "      <td>2015</td>\n",
       "    </tr>\n",
       "    <tr>\n",
       "      <th>1</th>\n",
       "      <td>2015-01-07</td>\n",
       "      <td>Great Barrier Reef</td>\n",
       "      <td>-18.2988</td>\n",
       "      <td>147.7782</td>\n",
       "      <td>29.65</td>\n",
       "      <td>8.004</td>\n",
       "      <td>High</td>\n",
       "      <td>116</td>\n",
       "      <td>False</td>\n",
       "      <td>2015</td>\n",
       "    </tr>\n",
       "    <tr>\n",
       "      <th>2</th>\n",
       "      <td>2015-01-14</td>\n",
       "      <td>Caribbean Sea</td>\n",
       "      <td>14.9768</td>\n",
       "      <td>-75.0233</td>\n",
       "      <td>28.86</td>\n",
       "      <td>7.947</td>\n",
       "      <td>High</td>\n",
       "      <td>90</td>\n",
       "      <td>False</td>\n",
       "      <td>2015</td>\n",
       "    </tr>\n",
       "  </tbody>\n",
       "</table>\n",
       "</div>"
      ],
      "text/plain": [
       "        Date            Location  Latitude  Longitude  SST (°C)  pH Level  \\\n",
       "0 2015-01-01             Red Sea   20.0248    38.4931     29.47     8.107   \n",
       "1 2015-01-07  Great Barrier Reef  -18.2988   147.7782     29.65     8.004   \n",
       "2 2015-01-14       Caribbean Sea   14.9768   -75.0233     28.86     7.947   \n",
       "\n",
       "  Bleaching Severity  Species Observed  Marine Heatwave  Year  \n",
       "0                NaN               106            False  2015  \n",
       "1               High               116            False  2015  \n",
       "2               High                90            False  2015  "
      ]
     },
     "execution_count": 8,
     "metadata": {},
     "output_type": "execute_result"
    }
   ],
   "source": [
    "# Extract the year from the Date, we will want to use this later\n",
    "df_activity['Year'] = df_activity['Date'].dt.year\n",
    "df_activity.head(3)"
   ]
  },
  {
   "cell_type": "code",
   "execution_count": 9,
   "id": "1521468a",
   "metadata": {
    "execution": {
     "iopub.execute_input": "2025-04-29T10:39:46.546091Z",
     "iopub.status.busy": "2025-04-29T10:39:46.545726Z",
     "iopub.status.idle": "2025-04-29T10:39:46.556259Z",
     "shell.execute_reply": "2025-04-29T10:39:46.555244Z"
    },
    "papermill": {
     "duration": 0.020198,
     "end_time": "2025-04-29T10:39:46.558009",
     "exception": false,
     "start_time": "2025-04-29T10:39:46.537811",
     "status": "completed"
    },
    "tags": []
   },
   "outputs": [
    {
     "data": {
      "text/plain": [
       "Bleaching Severity\n",
       "Unknown    150\n",
       "Low        132\n",
       "Medium     130\n",
       "High        88\n",
       "Name: count, dtype: int64"
      ]
     },
     "execution_count": 9,
     "metadata": {},
     "output_type": "execute_result"
    }
   ],
   "source": [
    "# Replace any nan values in the Bleacing Severity column with 'Zero'\n",
    "df_activity = df_activity.replace(np.nan,'Unknown')\n",
    "df_activity['Bleaching Severity'].value_counts()"
   ]
  },
  {
   "cell_type": "code",
   "execution_count": 10,
   "id": "196a0212",
   "metadata": {
    "execution": {
     "iopub.execute_input": "2025-04-29T10:39:46.573880Z",
     "iopub.status.busy": "2025-04-29T10:39:46.573556Z",
     "iopub.status.idle": "2025-04-29T10:39:46.606418Z",
     "shell.execute_reply": "2025-04-29T10:39:46.605441Z"
    },
    "papermill": {
     "duration": 0.042693,
     "end_time": "2025-04-29T10:39:46.608173",
     "exception": false,
     "start_time": "2025-04-29T10:39:46.565480",
     "status": "completed"
    },
    "tags": []
   },
   "outputs": [
    {
     "data": {
      "text/html": [
       "<div>\n",
       "<style scoped>\n",
       "    .dataframe tbody tr th:only-of-type {\n",
       "        vertical-align: middle;\n",
       "    }\n",
       "\n",
       "    .dataframe tbody tr th {\n",
       "        vertical-align: top;\n",
       "    }\n",
       "\n",
       "    .dataframe thead th {\n",
       "        text-align: right;\n",
       "    }\n",
       "</style>\n",
       "<table border=\"1\" class=\"dataframe\">\n",
       "  <thead>\n",
       "    <tr style=\"text-align: right;\">\n",
       "      <th></th>\n",
       "      <th>Date</th>\n",
       "      <th>Latitude</th>\n",
       "      <th>Longitude</th>\n",
       "      <th>SST (°C)</th>\n",
       "      <th>pH Level</th>\n",
       "      <th>Species Observed</th>\n",
       "      <th>Year</th>\n",
       "    </tr>\n",
       "  </thead>\n",
       "  <tbody>\n",
       "    <tr>\n",
       "      <th>count</th>\n",
       "      <td>500</td>\n",
       "      <td>500.000000</td>\n",
       "      <td>500.000000</td>\n",
       "      <td>500.000000</td>\n",
       "      <td>500.000000</td>\n",
       "      <td>500.000000</td>\n",
       "      <td>500.000000</td>\n",
       "    </tr>\n",
       "    <tr>\n",
       "      <th>mean</th>\n",
       "      <td>2019-07-01 12:02:52.799999744</td>\n",
       "      <td>6.728440</td>\n",
       "      <td>11.930638</td>\n",
       "      <td>28.537200</td>\n",
       "      <td>8.049872</td>\n",
       "      <td>120.472000</td>\n",
       "      <td>2018.998000</td>\n",
       "    </tr>\n",
       "    <tr>\n",
       "      <th>min</th>\n",
       "      <td>2015-01-01 00:00:00</td>\n",
       "      <td>-18.383000</td>\n",
       "      <td>-155.717600</td>\n",
       "      <td>23.640000</td>\n",
       "      <td>7.872000</td>\n",
       "      <td>54.000000</td>\n",
       "      <td>2015.000000</td>\n",
       "    </tr>\n",
       "    <tr>\n",
       "      <th>25%</th>\n",
       "      <td>2017-04-01 06:00:00</td>\n",
       "      <td>-0.932925</td>\n",
       "      <td>-90.926400</td>\n",
       "      <td>27.530000</td>\n",
       "      <td>8.011000</td>\n",
       "      <td>107.750000</td>\n",
       "      <td>2017.000000</td>\n",
       "    </tr>\n",
       "    <tr>\n",
       "      <th>50%</th>\n",
       "      <td>2019-07-01 12:00:00</td>\n",
       "      <td>10.018750</td>\n",
       "      <td>38.520000</td>\n",
       "      <td>28.515000</td>\n",
       "      <td>8.052000</td>\n",
       "      <td>120.000000</td>\n",
       "      <td>2019.000000</td>\n",
       "    </tr>\n",
       "    <tr>\n",
       "      <th>75%</th>\n",
       "      <td>2021-09-29 18:00:00</td>\n",
       "      <td>19.891000</td>\n",
       "      <td>114.990975</td>\n",
       "      <td>29.452500</td>\n",
       "      <td>8.085250</td>\n",
       "      <td>133.250000</td>\n",
       "      <td>2021.000000</td>\n",
       "    </tr>\n",
       "    <tr>\n",
       "      <th>max</th>\n",
       "      <td>2023-12-31 00:00:00</td>\n",
       "      <td>20.122000</td>\n",
       "      <td>147.827100</td>\n",
       "      <td>33.210000</td>\n",
       "      <td>8.195000</td>\n",
       "      <td>171.000000</td>\n",
       "      <td>2023.000000</td>\n",
       "    </tr>\n",
       "    <tr>\n",
       "      <th>std</th>\n",
       "      <td>NaN</td>\n",
       "      <td>13.534648</td>\n",
       "      <td>108.174778</td>\n",
       "      <td>1.425076</td>\n",
       "      <td>0.055707</td>\n",
       "      <td>20.475441</td>\n",
       "      <td>2.589093</td>\n",
       "    </tr>\n",
       "  </tbody>\n",
       "</table>\n",
       "</div>"
      ],
      "text/plain": [
       "                                Date    Latitude   Longitude    SST (°C)  \\\n",
       "count                            500  500.000000  500.000000  500.000000   \n",
       "mean   2019-07-01 12:02:52.799999744    6.728440   11.930638   28.537200   \n",
       "min              2015-01-01 00:00:00  -18.383000 -155.717600   23.640000   \n",
       "25%              2017-04-01 06:00:00   -0.932925  -90.926400   27.530000   \n",
       "50%              2019-07-01 12:00:00   10.018750   38.520000   28.515000   \n",
       "75%              2021-09-29 18:00:00   19.891000  114.990975   29.452500   \n",
       "max              2023-12-31 00:00:00   20.122000  147.827100   33.210000   \n",
       "std                              NaN   13.534648  108.174778    1.425076   \n",
       "\n",
       "         pH Level  Species Observed         Year  \n",
       "count  500.000000        500.000000   500.000000  \n",
       "mean     8.049872        120.472000  2018.998000  \n",
       "min      7.872000         54.000000  2015.000000  \n",
       "25%      8.011000        107.750000  2017.000000  \n",
       "50%      8.052000        120.000000  2019.000000  \n",
       "75%      8.085250        133.250000  2021.000000  \n",
       "max      8.195000        171.000000  2023.000000  \n",
       "std      0.055707         20.475441     2.589093  "
      ]
     },
     "execution_count": 10,
     "metadata": {},
     "output_type": "execute_result"
    }
   ],
   "source": [
    "df_activity.describe()"
   ]
  },
  {
   "cell_type": "markdown",
   "id": "16549148",
   "metadata": {
    "papermill": {
     "duration": 0.006865,
     "end_time": "2025-04-29T10:39:46.622729",
     "exception": false,
     "start_time": "2025-04-29T10:39:46.615864",
     "status": "completed"
    },
    "tags": []
   },
   "source": [
    "Lets breakdown the description of the data in the dataframe\n",
    "\n",
    "Dataset spans 9 years, across global ocean locations.\n",
    "\n",
    "🌍 Latitude\n",
    "- Range: -18.38° to 20.12° — Data is from tropical or equatorial zones.\n",
    "- mean: ~6.73°, std: ~13.5 — wide geographical spread.\n",
    "\n",
    "🌍 Longitude\n",
    "- Range: -155.7° to 147.8° — Global ocean coverage.\n",
    "- std: ~108 — Global data.\n",
    "\n",
    "🌡️ SST (°C) — Sea Surface Temperature\n",
    "- Range: 23.64°C to 33.21°C.\n",
    "- mean: ~28.54°C, std: ~1.43°C.\n",
    "- Relatively warm range — makes sense for coral environments.\n",
    "\n",
    "🧪 pH Level\n",
    "- Range: 7.872 to 8.195\n",
    "- mean: ~8.05 — Consistent with ocean surface pH.\n",
    "- std: ~0.056 — Extremely small, but even slight changes in ocean pH can matter a lot for marine life (acidification concerns).\n",
    "\n",
    "🐠 Species Observed\n",
    "- Range: 54 to 171\n",
    "- mean: ~120 species per observation.\n",
    "- std: ~20.47 — Suggests some sites are more biodiverse than others."
   ]
  },
  {
   "cell_type": "markdown",
   "id": "8d690e0b",
   "metadata": {
    "papermill": {
     "duration": 0.006997,
     "end_time": "2025-04-29T10:39:46.637035",
     "exception": false,
     "start_time": "2025-04-29T10:39:46.630038",
     "status": "completed"
    },
    "tags": []
   },
   "source": [
    "## Data Visualisation"
   ]
  },
  {
   "cell_type": "markdown",
   "id": "4f724e8e",
   "metadata": {
    "papermill": {
     "duration": 0.006957,
     "end_time": "2025-04-29T10:39:46.651368",
     "exception": false,
     "start_time": "2025-04-29T10:39:46.644411",
     "status": "completed"
    },
    "tags": []
   },
   "source": [
    "### Total Species Observed by Bleaching Severity"
   ]
  },
  {
   "cell_type": "code",
   "execution_count": 11,
   "id": "7f9352b2",
   "metadata": {
    "execution": {
     "iopub.execute_input": "2025-04-29T10:39:46.667097Z",
     "iopub.status.busy": "2025-04-29T10:39:46.666754Z",
     "iopub.status.idle": "2025-04-29T10:39:49.079125Z",
     "shell.execute_reply": "2025-04-29T10:39:49.077911Z"
    },
    "papermill": {
     "duration": 2.422464,
     "end_time": "2025-04-29T10:39:49.081109",
     "exception": false,
     "start_time": "2025-04-29T10:39:46.658645",
     "status": "completed"
    },
    "tags": []
   },
   "outputs": [
    {
     "data": {
      "text/html": [
       "<html>\n",
       "<head><meta charset=\"utf-8\" /></head>\n",
       "<body>\n",
       "    <div>            <script src=\"https://cdnjs.cloudflare.com/ajax/libs/mathjax/2.7.5/MathJax.js?config=TeX-AMS-MML_SVG\"></script><script type=\"text/javascript\">if (window.MathJax && window.MathJax.Hub && window.MathJax.Hub.Config) {window.MathJax.Hub.Config({SVG: {font: \"STIX-Web\"}});}</script>                <script type=\"text/javascript\">window.PlotlyConfig = {MathJaxConfig: 'local'};</script>\n",
       "        <script charset=\"utf-8\" src=\"https://cdn.plot.ly/plotly-2.35.2.min.js\"></script>                <div id=\"dc023128-dfb2-4152-8994-e2a0d943ce98\" class=\"plotly-graph-div\" style=\"height:525px; width:100%;\"></div>            <script type=\"text/javascript\">                                    window.PLOTLYENV=window.PLOTLYENV || {};                                    if (document.getElementById(\"dc023128-dfb2-4152-8994-e2a0d943ce98\")) {                    Plotly.newPlot(                        \"dc023128-dfb2-4152-8994-e2a0d943ce98\",                        [{\"alignmentgroup\":\"True\",\"hovertemplate\":\"Bleaching Severity=%{x}\\u003cbr\\u003eTotal Species Observed=%{y}\\u003cextra\\u003e\\u003c\\u002fextra\\u003e\",\"legendgroup\":\"Unknown\",\"marker\":{\"color\":\"#636efa\",\"pattern\":{\"shape\":\"\"}},\"name\":\"Unknown\",\"offsetgroup\":\"Unknown\",\"orientation\":\"v\",\"showlegend\":true,\"textposition\":\"auto\",\"x\":[\"Unknown\"],\"xaxis\":\"x\",\"y\":[18556],\"yaxis\":\"y\",\"type\":\"bar\"},{\"alignmentgroup\":\"True\",\"hovertemplate\":\"Bleaching Severity=%{x}\\u003cbr\\u003eTotal Species Observed=%{y}\\u003cextra\\u003e\\u003c\\u002fextra\\u003e\",\"legendgroup\":\"Low\",\"marker\":{\"color\":\"#EF553B\",\"pattern\":{\"shape\":\"\"}},\"name\":\"Low\",\"offsetgroup\":\"Low\",\"orientation\":\"v\",\"showlegend\":true,\"textposition\":\"auto\",\"x\":[\"Low\"],\"xaxis\":\"x\",\"y\":[15702],\"yaxis\":\"y\",\"type\":\"bar\"},{\"alignmentgroup\":\"True\",\"hovertemplate\":\"Bleaching Severity=%{x}\\u003cbr\\u003eTotal Species Observed=%{y}\\u003cextra\\u003e\\u003c\\u002fextra\\u003e\",\"legendgroup\":\"Medium\",\"marker\":{\"color\":\"#00cc96\",\"pattern\":{\"shape\":\"\"}},\"name\":\"Medium\",\"offsetgroup\":\"Medium\",\"orientation\":\"v\",\"showlegend\":true,\"textposition\":\"auto\",\"x\":[\"Medium\"],\"xaxis\":\"x\",\"y\":[15536],\"yaxis\":\"y\",\"type\":\"bar\"},{\"alignmentgroup\":\"True\",\"hovertemplate\":\"Bleaching Severity=%{x}\\u003cbr\\u003eTotal Species Observed=%{y}\\u003cextra\\u003e\\u003c\\u002fextra\\u003e\",\"legendgroup\":\"High\",\"marker\":{\"color\":\"#ab63fa\",\"pattern\":{\"shape\":\"\"}},\"name\":\"High\",\"offsetgroup\":\"High\",\"orientation\":\"v\",\"showlegend\":true,\"textposition\":\"auto\",\"x\":[\"High\"],\"xaxis\":\"x\",\"y\":[10442],\"yaxis\":\"y\",\"type\":\"bar\"}],                        {\"template\":{\"data\":{\"histogram2dcontour\":[{\"type\":\"histogram2dcontour\",\"colorbar\":{\"outlinewidth\":0,\"ticks\":\"\"},\"colorscale\":[[0.0,\"#0d0887\"],[0.1111111111111111,\"#46039f\"],[0.2222222222222222,\"#7201a8\"],[0.3333333333333333,\"#9c179e\"],[0.4444444444444444,\"#bd3786\"],[0.5555555555555556,\"#d8576b\"],[0.6666666666666666,\"#ed7953\"],[0.7777777777777778,\"#fb9f3a\"],[0.8888888888888888,\"#fdca26\"],[1.0,\"#f0f921\"]]}],\"choropleth\":[{\"type\":\"choropleth\",\"colorbar\":{\"outlinewidth\":0,\"ticks\":\"\"}}],\"histogram2d\":[{\"type\":\"histogram2d\",\"colorbar\":{\"outlinewidth\":0,\"ticks\":\"\"},\"colorscale\":[[0.0,\"#0d0887\"],[0.1111111111111111,\"#46039f\"],[0.2222222222222222,\"#7201a8\"],[0.3333333333333333,\"#9c179e\"],[0.4444444444444444,\"#bd3786\"],[0.5555555555555556,\"#d8576b\"],[0.6666666666666666,\"#ed7953\"],[0.7777777777777778,\"#fb9f3a\"],[0.8888888888888888,\"#fdca26\"],[1.0,\"#f0f921\"]]}],\"heatmap\":[{\"type\":\"heatmap\",\"colorbar\":{\"outlinewidth\":0,\"ticks\":\"\"},\"colorscale\":[[0.0,\"#0d0887\"],[0.1111111111111111,\"#46039f\"],[0.2222222222222222,\"#7201a8\"],[0.3333333333333333,\"#9c179e\"],[0.4444444444444444,\"#bd3786\"],[0.5555555555555556,\"#d8576b\"],[0.6666666666666666,\"#ed7953\"],[0.7777777777777778,\"#fb9f3a\"],[0.8888888888888888,\"#fdca26\"],[1.0,\"#f0f921\"]]}],\"heatmapgl\":[{\"type\":\"heatmapgl\",\"colorbar\":{\"outlinewidth\":0,\"ticks\":\"\"},\"colorscale\":[[0.0,\"#0d0887\"],[0.1111111111111111,\"#46039f\"],[0.2222222222222222,\"#7201a8\"],[0.3333333333333333,\"#9c179e\"],[0.4444444444444444,\"#bd3786\"],[0.5555555555555556,\"#d8576b\"],[0.6666666666666666,\"#ed7953\"],[0.7777777777777778,\"#fb9f3a\"],[0.8888888888888888,\"#fdca26\"],[1.0,\"#f0f921\"]]}],\"contourcarpet\":[{\"type\":\"contourcarpet\",\"colorbar\":{\"outlinewidth\":0,\"ticks\":\"\"}}],\"contour\":[{\"type\":\"contour\",\"colorbar\":{\"outlinewidth\":0,\"ticks\":\"\"},\"colorscale\":[[0.0,\"#0d0887\"],[0.1111111111111111,\"#46039f\"],[0.2222222222222222,\"#7201a8\"],[0.3333333333333333,\"#9c179e\"],[0.4444444444444444,\"#bd3786\"],[0.5555555555555556,\"#d8576b\"],[0.6666666666666666,\"#ed7953\"],[0.7777777777777778,\"#fb9f3a\"],[0.8888888888888888,\"#fdca26\"],[1.0,\"#f0f921\"]]}],\"surface\":[{\"type\":\"surface\",\"colorbar\":{\"outlinewidth\":0,\"ticks\":\"\"},\"colorscale\":[[0.0,\"#0d0887\"],[0.1111111111111111,\"#46039f\"],[0.2222222222222222,\"#7201a8\"],[0.3333333333333333,\"#9c179e\"],[0.4444444444444444,\"#bd3786\"],[0.5555555555555556,\"#d8576b\"],[0.6666666666666666,\"#ed7953\"],[0.7777777777777778,\"#fb9f3a\"],[0.8888888888888888,\"#fdca26\"],[1.0,\"#f0f921\"]]}],\"mesh3d\":[{\"type\":\"mesh3d\",\"colorbar\":{\"outlinewidth\":0,\"ticks\":\"\"}}],\"scatter\":[{\"fillpattern\":{\"fillmode\":\"overlay\",\"size\":10,\"solidity\":0.2},\"type\":\"scatter\"}],\"parcoords\":[{\"type\":\"parcoords\",\"line\":{\"colorbar\":{\"outlinewidth\":0,\"ticks\":\"\"}}}],\"scatterpolargl\":[{\"type\":\"scatterpolargl\",\"marker\":{\"colorbar\":{\"outlinewidth\":0,\"ticks\":\"\"}}}],\"bar\":[{\"error_x\":{\"color\":\"#2a3f5f\"},\"error_y\":{\"color\":\"#2a3f5f\"},\"marker\":{\"line\":{\"color\":\"#E5ECF6\",\"width\":0.5},\"pattern\":{\"fillmode\":\"overlay\",\"size\":10,\"solidity\":0.2}},\"type\":\"bar\"}],\"scattergeo\":[{\"type\":\"scattergeo\",\"marker\":{\"colorbar\":{\"outlinewidth\":0,\"ticks\":\"\"}}}],\"scatterpolar\":[{\"type\":\"scatterpolar\",\"marker\":{\"colorbar\":{\"outlinewidth\":0,\"ticks\":\"\"}}}],\"histogram\":[{\"marker\":{\"pattern\":{\"fillmode\":\"overlay\",\"size\":10,\"solidity\":0.2}},\"type\":\"histogram\"}],\"scattergl\":[{\"type\":\"scattergl\",\"marker\":{\"colorbar\":{\"outlinewidth\":0,\"ticks\":\"\"}}}],\"scatter3d\":[{\"type\":\"scatter3d\",\"line\":{\"colorbar\":{\"outlinewidth\":0,\"ticks\":\"\"}},\"marker\":{\"colorbar\":{\"outlinewidth\":0,\"ticks\":\"\"}}}],\"scattermapbox\":[{\"type\":\"scattermapbox\",\"marker\":{\"colorbar\":{\"outlinewidth\":0,\"ticks\":\"\"}}}],\"scatterternary\":[{\"type\":\"scatterternary\",\"marker\":{\"colorbar\":{\"outlinewidth\":0,\"ticks\":\"\"}}}],\"scattercarpet\":[{\"type\":\"scattercarpet\",\"marker\":{\"colorbar\":{\"outlinewidth\":0,\"ticks\":\"\"}}}],\"carpet\":[{\"aaxis\":{\"endlinecolor\":\"#2a3f5f\",\"gridcolor\":\"white\",\"linecolor\":\"white\",\"minorgridcolor\":\"white\",\"startlinecolor\":\"#2a3f5f\"},\"baxis\":{\"endlinecolor\":\"#2a3f5f\",\"gridcolor\":\"white\",\"linecolor\":\"white\",\"minorgridcolor\":\"white\",\"startlinecolor\":\"#2a3f5f\"},\"type\":\"carpet\"}],\"table\":[{\"cells\":{\"fill\":{\"color\":\"#EBF0F8\"},\"line\":{\"color\":\"white\"}},\"header\":{\"fill\":{\"color\":\"#C8D4E3\"},\"line\":{\"color\":\"white\"}},\"type\":\"table\"}],\"barpolar\":[{\"marker\":{\"line\":{\"color\":\"#E5ECF6\",\"width\":0.5},\"pattern\":{\"fillmode\":\"overlay\",\"size\":10,\"solidity\":0.2}},\"type\":\"barpolar\"}],\"pie\":[{\"automargin\":true,\"type\":\"pie\"}]},\"layout\":{\"autotypenumbers\":\"strict\",\"colorway\":[\"#636efa\",\"#EF553B\",\"#00cc96\",\"#ab63fa\",\"#FFA15A\",\"#19d3f3\",\"#FF6692\",\"#B6E880\",\"#FF97FF\",\"#FECB52\"],\"font\":{\"color\":\"#2a3f5f\"},\"hovermode\":\"closest\",\"hoverlabel\":{\"align\":\"left\"},\"paper_bgcolor\":\"white\",\"plot_bgcolor\":\"#E5ECF6\",\"polar\":{\"bgcolor\":\"#E5ECF6\",\"angularaxis\":{\"gridcolor\":\"white\",\"linecolor\":\"white\",\"ticks\":\"\"},\"radialaxis\":{\"gridcolor\":\"white\",\"linecolor\":\"white\",\"ticks\":\"\"}},\"ternary\":{\"bgcolor\":\"#E5ECF6\",\"aaxis\":{\"gridcolor\":\"white\",\"linecolor\":\"white\",\"ticks\":\"\"},\"baxis\":{\"gridcolor\":\"white\",\"linecolor\":\"white\",\"ticks\":\"\"},\"caxis\":{\"gridcolor\":\"white\",\"linecolor\":\"white\",\"ticks\":\"\"}},\"coloraxis\":{\"colorbar\":{\"outlinewidth\":0,\"ticks\":\"\"}},\"colorscale\":{\"sequential\":[[0.0,\"#0d0887\"],[0.1111111111111111,\"#46039f\"],[0.2222222222222222,\"#7201a8\"],[0.3333333333333333,\"#9c179e\"],[0.4444444444444444,\"#bd3786\"],[0.5555555555555556,\"#d8576b\"],[0.6666666666666666,\"#ed7953\"],[0.7777777777777778,\"#fb9f3a\"],[0.8888888888888888,\"#fdca26\"],[1.0,\"#f0f921\"]],\"sequentialminus\":[[0.0,\"#0d0887\"],[0.1111111111111111,\"#46039f\"],[0.2222222222222222,\"#7201a8\"],[0.3333333333333333,\"#9c179e\"],[0.4444444444444444,\"#bd3786\"],[0.5555555555555556,\"#d8576b\"],[0.6666666666666666,\"#ed7953\"],[0.7777777777777778,\"#fb9f3a\"],[0.8888888888888888,\"#fdca26\"],[1.0,\"#f0f921\"]],\"diverging\":[[0,\"#8e0152\"],[0.1,\"#c51b7d\"],[0.2,\"#de77ae\"],[0.3,\"#f1b6da\"],[0.4,\"#fde0ef\"],[0.5,\"#f7f7f7\"],[0.6,\"#e6f5d0\"],[0.7,\"#b8e186\"],[0.8,\"#7fbc41\"],[0.9,\"#4d9221\"],[1,\"#276419\"]]},\"xaxis\":{\"gridcolor\":\"white\",\"linecolor\":\"white\",\"ticks\":\"\",\"title\":{\"standoff\":15},\"zerolinecolor\":\"white\",\"automargin\":true,\"zerolinewidth\":2},\"yaxis\":{\"gridcolor\":\"white\",\"linecolor\":\"white\",\"ticks\":\"\",\"title\":{\"standoff\":15},\"zerolinecolor\":\"white\",\"automargin\":true,\"zerolinewidth\":2},\"scene\":{\"xaxis\":{\"backgroundcolor\":\"#E5ECF6\",\"gridcolor\":\"white\",\"linecolor\":\"white\",\"showbackground\":true,\"ticks\":\"\",\"zerolinecolor\":\"white\",\"gridwidth\":2},\"yaxis\":{\"backgroundcolor\":\"#E5ECF6\",\"gridcolor\":\"white\",\"linecolor\":\"white\",\"showbackground\":true,\"ticks\":\"\",\"zerolinecolor\":\"white\",\"gridwidth\":2},\"zaxis\":{\"backgroundcolor\":\"#E5ECF6\",\"gridcolor\":\"white\",\"linecolor\":\"white\",\"showbackground\":true,\"ticks\":\"\",\"zerolinecolor\":\"white\",\"gridwidth\":2}},\"shapedefaults\":{\"line\":{\"color\":\"#2a3f5f\"}},\"annotationdefaults\":{\"arrowcolor\":\"#2a3f5f\",\"arrowhead\":0,\"arrowwidth\":1},\"geo\":{\"bgcolor\":\"white\",\"landcolor\":\"#E5ECF6\",\"subunitcolor\":\"white\",\"showland\":true,\"showlakes\":true,\"lakecolor\":\"white\"},\"title\":{\"x\":0.05},\"mapbox\":{\"style\":\"light\"}}},\"xaxis\":{\"anchor\":\"y\",\"domain\":[0.0,1.0],\"title\":{\"text\":\"Bleaching Severity\"},\"categoryorder\":\"array\",\"categoryarray\":[\"Unknown\",\"Low\",\"Medium\",\"High\"]},\"yaxis\":{\"anchor\":\"x\",\"domain\":[0.0,1.0],\"title\":{\"text\":\"Total Species Observed\"}},\"legend\":{\"title\":{\"text\":\"Bleaching Severity\"},\"tracegroupgap\":0},\"title\":{\"text\":\"Total Species Observed by Bleaching Severity\"},\"barmode\":\"relative\"},                        {\"responsive\": true}                    ).then(function(){\n",
       "                            \n",
       "var gd = document.getElementById('dc023128-dfb2-4152-8994-e2a0d943ce98');\n",
       "var x = new MutationObserver(function (mutations, observer) {{\n",
       "        var display = window.getComputedStyle(gd).display;\n",
       "        if (!display || display === 'none') {{\n",
       "            console.log([gd, 'removed!']);\n",
       "            Plotly.purge(gd);\n",
       "            observer.disconnect();\n",
       "        }}\n",
       "}});\n",
       "\n",
       "// Listen for the removal of the full notebook cells\n",
       "var notebookContainer = gd.closest('#notebook-container');\n",
       "if (notebookContainer) {{\n",
       "    x.observe(notebookContainer, {childList: true});\n",
       "}}\n",
       "\n",
       "// Listen for the clearing of the current output cell\n",
       "var outputEl = gd.closest('.output');\n",
       "if (outputEl) {{\n",
       "    x.observe(outputEl, {childList: true});\n",
       "}}\n",
       "\n",
       "                        })                };                            </script>        </div>\n",
       "</body>\n",
       "</html>"
      ]
     },
     "metadata": {},
     "output_type": "display_data"
    }
   ],
   "source": [
    "# Group by 'Bleaching Severity' and calculate the sum of 'Species Observed' for each severity\n",
    "df_severity_species = df_activity.groupby('Bleaching Severity')['Species Observed'].sum().reset_index()\n",
    "\n",
    "# Create a simple bar chart\n",
    "fig_severity = px.bar(\n",
    "    df_severity_species, \n",
    "    x='Bleaching Severity', \n",
    "    y='Species Observed', \n",
    "    title='Total Species Observed by Bleaching Severity',\n",
    "    labels={'Bleaching Severity': 'Bleaching Severity', 'Species Observed': 'Total Species Observed'},\n",
    "    color='Bleaching Severity',  # Color bars based on severity level\n",
    "    category_orders={'Bleaching Severity': ['Unknown', 'Low', 'Medium', 'High']}  # Custom order\n",
    ")\n",
    "\n",
    "# Show the bar chart\n",
    "fig_severity.show()"
   ]
  },
  {
   "cell_type": "markdown",
   "id": "4ff896ce",
   "metadata": {
    "papermill": {
     "duration": 0.007834,
     "end_time": "2025-04-29T10:39:49.097790",
     "exception": false,
     "start_time": "2025-04-29T10:39:49.089956",
     "status": "completed"
    },
    "tags": []
   },
   "source": [
    "Categories such as 'Unknown', 'Low', 'Medium', and 'High' represent the extent to which coral bleaching has occurred.\n",
    "\n",
    "The above visualisation helps us understand the relationship between coral bleaching and the biodeversity of marine life in the affected areas. We can see that Low or Medium severity corresponds to higher species numbers, while High severity leads to fewer species, this might suggest that more severe bleaching is harmful to marine biodiversity.\n",
    "\n",
    "-----"
   ]
  },
  {
   "cell_type": "markdown",
   "id": "a63d6c49",
   "metadata": {
    "papermill": {
     "duration": 0.008072,
     "end_time": "2025-04-29T10:39:49.215842",
     "exception": false,
     "start_time": "2025-04-29T10:39:49.207770",
     "status": "completed"
    },
    "tags": []
   },
   "source": [
    "### Average SST"
   ]
  },
  {
   "cell_type": "code",
   "execution_count": 12,
   "id": "5d2222a9",
   "metadata": {
    "execution": {
     "iopub.execute_input": "2025-04-29T10:39:49.233677Z",
     "iopub.status.busy": "2025-04-29T10:39:49.233325Z",
     "iopub.status.idle": "2025-04-29T10:39:49.281096Z",
     "shell.execute_reply": "2025-04-29T10:39:49.279803Z"
    },
    "papermill": {
     "duration": 0.059053,
     "end_time": "2025-04-29T10:39:49.282990",
     "exception": false,
     "start_time": "2025-04-29T10:39:49.223937",
     "status": "completed"
    },
    "tags": []
   },
   "outputs": [
    {
     "data": {
      "text/html": [
       "<html>\n",
       "<head><meta charset=\"utf-8\" /></head>\n",
       "<body>\n",
       "    <div>            <script src=\"https://cdnjs.cloudflare.com/ajax/libs/mathjax/2.7.5/MathJax.js?config=TeX-AMS-MML_SVG\"></script><script type=\"text/javascript\">if (window.MathJax && window.MathJax.Hub && window.MathJax.Hub.Config) {window.MathJax.Hub.Config({SVG: {font: \"STIX-Web\"}});}</script>                <script type=\"text/javascript\">window.PlotlyConfig = {MathJaxConfig: 'local'};</script>\n",
       "        <script charset=\"utf-8\" src=\"https://cdn.plot.ly/plotly-2.35.2.min.js\"></script>                <div id=\"73f623ed-a2a0-426f-9de5-8a5b39b421de\" class=\"plotly-graph-div\" style=\"height:525px; width:100%;\"></div>            <script type=\"text/javascript\">                                    window.PLOTLYENV=window.PLOTLYENV || {};                                    if (document.getElementById(\"73f623ed-a2a0-426f-9de5-8a5b39b421de\")) {                    Plotly.newPlot(                        \"73f623ed-a2a0-426f-9de5-8a5b39b421de\",                        [{\"line\":{\"color\":\"blue\"},\"mode\":\"lines+markers\",\"name\":\"SST (°C)\",\"x\":[2015,2016,2017,2018,2019,2020,2021,2022,2023],\"y\":[28.481964285714287,28.173392857142858,28.764545454545452,28.670181818181817,28.547857142857143,28.865090909090906,28.46892857142857,28.650181818181817,28.226964285714285],\"type\":\"scatter\"},{\"line\":{\"color\":\"red\",\"dash\":\"dash\"},\"mode\":\"lines\",\"name\":\"SST Trendline\",\"x\":[2015,2016,2017,2018,2019,2020,2021,2022,2023],\"y\":[null,null,28.473300865800866,28.536040043290043,28.66086147186147,28.694376623376623,28.62729220779221,28.661400432900432,28.448691558441556],\"type\":\"scatter\"}],                        {\"template\":{\"data\":{\"histogram2dcontour\":[{\"type\":\"histogram2dcontour\",\"colorbar\":{\"outlinewidth\":0,\"ticks\":\"\"},\"colorscale\":[[0.0,\"#0d0887\"],[0.1111111111111111,\"#46039f\"],[0.2222222222222222,\"#7201a8\"],[0.3333333333333333,\"#9c179e\"],[0.4444444444444444,\"#bd3786\"],[0.5555555555555556,\"#d8576b\"],[0.6666666666666666,\"#ed7953\"],[0.7777777777777778,\"#fb9f3a\"],[0.8888888888888888,\"#fdca26\"],[1.0,\"#f0f921\"]]}],\"choropleth\":[{\"type\":\"choropleth\",\"colorbar\":{\"outlinewidth\":0,\"ticks\":\"\"}}],\"histogram2d\":[{\"type\":\"histogram2d\",\"colorbar\":{\"outlinewidth\":0,\"ticks\":\"\"},\"colorscale\":[[0.0,\"#0d0887\"],[0.1111111111111111,\"#46039f\"],[0.2222222222222222,\"#7201a8\"],[0.3333333333333333,\"#9c179e\"],[0.4444444444444444,\"#bd3786\"],[0.5555555555555556,\"#d8576b\"],[0.6666666666666666,\"#ed7953\"],[0.7777777777777778,\"#fb9f3a\"],[0.8888888888888888,\"#fdca26\"],[1.0,\"#f0f921\"]]}],\"heatmap\":[{\"type\":\"heatmap\",\"colorbar\":{\"outlinewidth\":0,\"ticks\":\"\"},\"colorscale\":[[0.0,\"#0d0887\"],[0.1111111111111111,\"#46039f\"],[0.2222222222222222,\"#7201a8\"],[0.3333333333333333,\"#9c179e\"],[0.4444444444444444,\"#bd3786\"],[0.5555555555555556,\"#d8576b\"],[0.6666666666666666,\"#ed7953\"],[0.7777777777777778,\"#fb9f3a\"],[0.8888888888888888,\"#fdca26\"],[1.0,\"#f0f921\"]]}],\"heatmapgl\":[{\"type\":\"heatmapgl\",\"colorbar\":{\"outlinewidth\":0,\"ticks\":\"\"},\"colorscale\":[[0.0,\"#0d0887\"],[0.1111111111111111,\"#46039f\"],[0.2222222222222222,\"#7201a8\"],[0.3333333333333333,\"#9c179e\"],[0.4444444444444444,\"#bd3786\"],[0.5555555555555556,\"#d8576b\"],[0.6666666666666666,\"#ed7953\"],[0.7777777777777778,\"#fb9f3a\"],[0.8888888888888888,\"#fdca26\"],[1.0,\"#f0f921\"]]}],\"contourcarpet\":[{\"type\":\"contourcarpet\",\"colorbar\":{\"outlinewidth\":0,\"ticks\":\"\"}}],\"contour\":[{\"type\":\"contour\",\"colorbar\":{\"outlinewidth\":0,\"ticks\":\"\"},\"colorscale\":[[0.0,\"#0d0887\"],[0.1111111111111111,\"#46039f\"],[0.2222222222222222,\"#7201a8\"],[0.3333333333333333,\"#9c179e\"],[0.4444444444444444,\"#bd3786\"],[0.5555555555555556,\"#d8576b\"],[0.6666666666666666,\"#ed7953\"],[0.7777777777777778,\"#fb9f3a\"],[0.8888888888888888,\"#fdca26\"],[1.0,\"#f0f921\"]]}],\"surface\":[{\"type\":\"surface\",\"colorbar\":{\"outlinewidth\":0,\"ticks\":\"\"},\"colorscale\":[[0.0,\"#0d0887\"],[0.1111111111111111,\"#46039f\"],[0.2222222222222222,\"#7201a8\"],[0.3333333333333333,\"#9c179e\"],[0.4444444444444444,\"#bd3786\"],[0.5555555555555556,\"#d8576b\"],[0.6666666666666666,\"#ed7953\"],[0.7777777777777778,\"#fb9f3a\"],[0.8888888888888888,\"#fdca26\"],[1.0,\"#f0f921\"]]}],\"mesh3d\":[{\"type\":\"mesh3d\",\"colorbar\":{\"outlinewidth\":0,\"ticks\":\"\"}}],\"scatter\":[{\"fillpattern\":{\"fillmode\":\"overlay\",\"size\":10,\"solidity\":0.2},\"type\":\"scatter\"}],\"parcoords\":[{\"type\":\"parcoords\",\"line\":{\"colorbar\":{\"outlinewidth\":0,\"ticks\":\"\"}}}],\"scatterpolargl\":[{\"type\":\"scatterpolargl\",\"marker\":{\"colorbar\":{\"outlinewidth\":0,\"ticks\":\"\"}}}],\"bar\":[{\"error_x\":{\"color\":\"#2a3f5f\"},\"error_y\":{\"color\":\"#2a3f5f\"},\"marker\":{\"line\":{\"color\":\"#E5ECF6\",\"width\":0.5},\"pattern\":{\"fillmode\":\"overlay\",\"size\":10,\"solidity\":0.2}},\"type\":\"bar\"}],\"scattergeo\":[{\"type\":\"scattergeo\",\"marker\":{\"colorbar\":{\"outlinewidth\":0,\"ticks\":\"\"}}}],\"scatterpolar\":[{\"type\":\"scatterpolar\",\"marker\":{\"colorbar\":{\"outlinewidth\":0,\"ticks\":\"\"}}}],\"histogram\":[{\"marker\":{\"pattern\":{\"fillmode\":\"overlay\",\"size\":10,\"solidity\":0.2}},\"type\":\"histogram\"}],\"scattergl\":[{\"type\":\"scattergl\",\"marker\":{\"colorbar\":{\"outlinewidth\":0,\"ticks\":\"\"}}}],\"scatter3d\":[{\"type\":\"scatter3d\",\"line\":{\"colorbar\":{\"outlinewidth\":0,\"ticks\":\"\"}},\"marker\":{\"colorbar\":{\"outlinewidth\":0,\"ticks\":\"\"}}}],\"scattermapbox\":[{\"type\":\"scattermapbox\",\"marker\":{\"colorbar\":{\"outlinewidth\":0,\"ticks\":\"\"}}}],\"scatterternary\":[{\"type\":\"scatterternary\",\"marker\":{\"colorbar\":{\"outlinewidth\":0,\"ticks\":\"\"}}}],\"scattercarpet\":[{\"type\":\"scattercarpet\",\"marker\":{\"colorbar\":{\"outlinewidth\":0,\"ticks\":\"\"}}}],\"carpet\":[{\"aaxis\":{\"endlinecolor\":\"#2a3f5f\",\"gridcolor\":\"white\",\"linecolor\":\"white\",\"minorgridcolor\":\"white\",\"startlinecolor\":\"#2a3f5f\"},\"baxis\":{\"endlinecolor\":\"#2a3f5f\",\"gridcolor\":\"white\",\"linecolor\":\"white\",\"minorgridcolor\":\"white\",\"startlinecolor\":\"#2a3f5f\"},\"type\":\"carpet\"}],\"table\":[{\"cells\":{\"fill\":{\"color\":\"#EBF0F8\"},\"line\":{\"color\":\"white\"}},\"header\":{\"fill\":{\"color\":\"#C8D4E3\"},\"line\":{\"color\":\"white\"}},\"type\":\"table\"}],\"barpolar\":[{\"marker\":{\"line\":{\"color\":\"#E5ECF6\",\"width\":0.5},\"pattern\":{\"fillmode\":\"overlay\",\"size\":10,\"solidity\":0.2}},\"type\":\"barpolar\"}],\"pie\":[{\"automargin\":true,\"type\":\"pie\"}]},\"layout\":{\"autotypenumbers\":\"strict\",\"colorway\":[\"#636efa\",\"#EF553B\",\"#00cc96\",\"#ab63fa\",\"#FFA15A\",\"#19d3f3\",\"#FF6692\",\"#B6E880\",\"#FF97FF\",\"#FECB52\"],\"font\":{\"color\":\"#2a3f5f\"},\"hovermode\":\"closest\",\"hoverlabel\":{\"align\":\"left\"},\"paper_bgcolor\":\"white\",\"plot_bgcolor\":\"#E5ECF6\",\"polar\":{\"bgcolor\":\"#E5ECF6\",\"angularaxis\":{\"gridcolor\":\"white\",\"linecolor\":\"white\",\"ticks\":\"\"},\"radialaxis\":{\"gridcolor\":\"white\",\"linecolor\":\"white\",\"ticks\":\"\"}},\"ternary\":{\"bgcolor\":\"#E5ECF6\",\"aaxis\":{\"gridcolor\":\"white\",\"linecolor\":\"white\",\"ticks\":\"\"},\"baxis\":{\"gridcolor\":\"white\",\"linecolor\":\"white\",\"ticks\":\"\"},\"caxis\":{\"gridcolor\":\"white\",\"linecolor\":\"white\",\"ticks\":\"\"}},\"coloraxis\":{\"colorbar\":{\"outlinewidth\":0,\"ticks\":\"\"}},\"colorscale\":{\"sequential\":[[0.0,\"#0d0887\"],[0.1111111111111111,\"#46039f\"],[0.2222222222222222,\"#7201a8\"],[0.3333333333333333,\"#9c179e\"],[0.4444444444444444,\"#bd3786\"],[0.5555555555555556,\"#d8576b\"],[0.6666666666666666,\"#ed7953\"],[0.7777777777777778,\"#fb9f3a\"],[0.8888888888888888,\"#fdca26\"],[1.0,\"#f0f921\"]],\"sequentialminus\":[[0.0,\"#0d0887\"],[0.1111111111111111,\"#46039f\"],[0.2222222222222222,\"#7201a8\"],[0.3333333333333333,\"#9c179e\"],[0.4444444444444444,\"#bd3786\"],[0.5555555555555556,\"#d8576b\"],[0.6666666666666666,\"#ed7953\"],[0.7777777777777778,\"#fb9f3a\"],[0.8888888888888888,\"#fdca26\"],[1.0,\"#f0f921\"]],\"diverging\":[[0,\"#8e0152\"],[0.1,\"#c51b7d\"],[0.2,\"#de77ae\"],[0.3,\"#f1b6da\"],[0.4,\"#fde0ef\"],[0.5,\"#f7f7f7\"],[0.6,\"#e6f5d0\"],[0.7,\"#b8e186\"],[0.8,\"#7fbc41\"],[0.9,\"#4d9221\"],[1,\"#276419\"]]},\"xaxis\":{\"gridcolor\":\"white\",\"linecolor\":\"white\",\"ticks\":\"\",\"title\":{\"standoff\":15},\"zerolinecolor\":\"white\",\"automargin\":true,\"zerolinewidth\":2},\"yaxis\":{\"gridcolor\":\"white\",\"linecolor\":\"white\",\"ticks\":\"\",\"title\":{\"standoff\":15},\"zerolinecolor\":\"white\",\"automargin\":true,\"zerolinewidth\":2},\"scene\":{\"xaxis\":{\"backgroundcolor\":\"#E5ECF6\",\"gridcolor\":\"white\",\"linecolor\":\"white\",\"showbackground\":true,\"ticks\":\"\",\"zerolinecolor\":\"white\",\"gridwidth\":2},\"yaxis\":{\"backgroundcolor\":\"#E5ECF6\",\"gridcolor\":\"white\",\"linecolor\":\"white\",\"showbackground\":true,\"ticks\":\"\",\"zerolinecolor\":\"white\",\"gridwidth\":2},\"zaxis\":{\"backgroundcolor\":\"#E5ECF6\",\"gridcolor\":\"white\",\"linecolor\":\"white\",\"showbackground\":true,\"ticks\":\"\",\"zerolinecolor\":\"white\",\"gridwidth\":2}},\"shapedefaults\":{\"line\":{\"color\":\"#2a3f5f\"}},\"annotationdefaults\":{\"arrowcolor\":\"#2a3f5f\",\"arrowhead\":0,\"arrowwidth\":1},\"geo\":{\"bgcolor\":\"white\",\"landcolor\":\"#E5ECF6\",\"subunitcolor\":\"white\",\"showland\":true,\"showlakes\":true,\"lakecolor\":\"white\"},\"title\":{\"x\":0.05},\"mapbox\":{\"style\":\"light\"}}},\"title\":{\"text\":\"Yearly Average Sea Surface Temperature (SST)\"},\"xaxis\":{\"title\":{\"text\":\"Year\"}},\"yaxis\":{\"title\":{\"text\":\"Sea Surface Temperature (°C)\"}}},                        {\"responsive\": true}                    ).then(function(){\n",
       "                            \n",
       "var gd = document.getElementById('73f623ed-a2a0-426f-9de5-8a5b39b421de');\n",
       "var x = new MutationObserver(function (mutations, observer) {{\n",
       "        var display = window.getComputedStyle(gd).display;\n",
       "        if (!display || display === 'none') {{\n",
       "            console.log([gd, 'removed!']);\n",
       "            Plotly.purge(gd);\n",
       "            observer.disconnect();\n",
       "        }}\n",
       "}});\n",
       "\n",
       "// Listen for the removal of the full notebook cells\n",
       "var notebookContainer = gd.closest('#notebook-container');\n",
       "if (notebookContainer) {{\n",
       "    x.observe(notebookContainer, {childList: true});\n",
       "}}\n",
       "\n",
       "// Listen for the clearing of the current output cell\n",
       "var outputEl = gd.closest('.output');\n",
       "if (outputEl) {{\n",
       "    x.observe(outputEl, {childList: true});\n",
       "}}\n",
       "\n",
       "                        })                };                            </script>        </div>\n",
       "</body>\n",
       "</html>"
      ]
     },
     "metadata": {},
     "output_type": "display_data"
    }
   ],
   "source": [
    "# Grouping by year and calculating the mean of SST and pH\n",
    "df_yearly = df_activity.groupby(df_activity['Date'].dt.year)[['SST (°C)', 'pH Level']].mean()\n",
    "\n",
    "# Optional: Reset the index for plotting\n",
    "df_yearly = df_yearly.reset_index()\n",
    "\n",
    "# Plotting SST (Sea Surface Temperature) with Trendline\n",
    "fig_sst = go.Figure()\n",
    "\n",
    "# Adding SST line\n",
    "fig_sst.add_trace(go.Scatter\n",
    "    (x=df_yearly['Date'], \n",
    "     y=df_yearly['SST (°C)'],\n",
    "     mode='lines+markers', \n",
    "     name='SST (°C)', \n",
    "     line=dict(color='blue')))\n",
    "\n",
    "# Adding trendline (linear regression)\n",
    "fig_sst.add_trace(go.Scatter(\n",
    "    x=df_yearly['Date'], \n",
    "    y=df_yearly['SST (°C)'].rolling(window=3).mean(),\n",
    "    mode='lines', \n",
    "    name='SST Trendline', \n",
    "    line=dict(color='red', \n",
    "              dash='dash')))\n",
    "\n",
    "fig_sst.update_layout(\n",
    "    title=\"Yearly Average Sea Surface Temperature (SST)\",\n",
    "    xaxis_title=\"Year\", \n",
    "    yaxis_title=\"Sea Surface Temperature (°C)\")\n",
    "\n",
    "fig_sst.show()"
   ]
  },
  {
   "cell_type": "markdown",
   "id": "ec47acd8",
   "metadata": {
    "papermill": {
     "duration": 0.007608,
     "end_time": "2025-04-29T10:39:49.299087",
     "exception": false,
     "start_time": "2025-04-29T10:39:49.291479",
     "status": "completed"
    },
    "tags": []
   },
   "source": [
    "The temperature of the ocean surface, which is crucial for understanding climate trends and their impact on marine life, particularly on coral reefs.\n",
    "\n",
    "This plot highlights trends in ocean warming over time. The moving average smooths out yearly fluctuations and helps us see long-term trends, such as whether SST is rising. An increase in SST could signal a warming climate, which can be harmful to marine ecosystems, especially corals. If SST rises consistently over the years, it could contribute to more frequent and intense marine heatwaves.\n",
    "\n",
    "----"
   ]
  },
  {
   "cell_type": "markdown",
   "id": "3d5ba12b",
   "metadata": {
    "papermill": {
     "duration": 0.00807,
     "end_time": "2025-04-29T10:39:49.314906",
     "exception": false,
     "start_time": "2025-04-29T10:39:49.306836",
     "status": "completed"
    },
    "tags": []
   },
   "source": [
    "### Average pH Level"
   ]
  },
  {
   "cell_type": "code",
   "execution_count": 13,
   "id": "13f8e1c5",
   "metadata": {
    "execution": {
     "iopub.execute_input": "2025-04-29T10:39:49.332784Z",
     "iopub.status.busy": "2025-04-29T10:39:49.332409Z",
     "iopub.status.idle": "2025-04-29T10:39:49.348962Z",
     "shell.execute_reply": "2025-04-29T10:39:49.347742Z"
    },
    "papermill": {
     "duration": 0.027718,
     "end_time": "2025-04-29T10:39:49.350575",
     "exception": false,
     "start_time": "2025-04-29T10:39:49.322857",
     "status": "completed"
    },
    "tags": []
   },
   "outputs": [
    {
     "data": {
      "text/html": [
       "<html>\n",
       "<head><meta charset=\"utf-8\" /></head>\n",
       "<body>\n",
       "    <div>            <script src=\"https://cdnjs.cloudflare.com/ajax/libs/mathjax/2.7.5/MathJax.js?config=TeX-AMS-MML_SVG\"></script><script type=\"text/javascript\">if (window.MathJax && window.MathJax.Hub && window.MathJax.Hub.Config) {window.MathJax.Hub.Config({SVG: {font: \"STIX-Web\"}});}</script>                <script type=\"text/javascript\">window.PlotlyConfig = {MathJaxConfig: 'local'};</script>\n",
       "        <script charset=\"utf-8\" src=\"https://cdn.plot.ly/plotly-2.35.2.min.js\"></script>                <div id=\"e5eb30df-9732-49b0-99fd-48b2055fd7e4\" class=\"plotly-graph-div\" style=\"height:525px; width:100%;\"></div>            <script type=\"text/javascript\">                                    window.PLOTLYENV=window.PLOTLYENV || {};                                    if (document.getElementById(\"e5eb30df-9732-49b0-99fd-48b2055fd7e4\")) {                    Plotly.newPlot(                        \"e5eb30df-9732-49b0-99fd-48b2055fd7e4\",                        [{\"line\":{\"color\":\"green\"},\"mode\":\"lines+markers\",\"name\":\"pH Level\",\"x\":[2015,2016,2017,2018,2019,2020,2021,2022,2023],\"y\":[8.046160714285714,8.074696428571428,8.036109090909092,8.05850909090909,8.046178571428571,8.041218181818182,8.053839285714286,8.045218181818182,8.046589285714285],\"type\":\"scatter\"},{\"line\":{\"color\":\"red\",\"dash\":\"dash\"},\"mode\":\"lines\",\"name\":\"pH Trendline\",\"x\":[2015,2016,2017,2018,2019,2020,2021,2022,2023],\"y\":[null,null,8.052322077922078,8.056438203463204,8.046932251082252,8.048635281385282,8.04707867965368,8.04675854978355,8.048548917748917],\"type\":\"scatter\"}],                        {\"template\":{\"data\":{\"histogram2dcontour\":[{\"type\":\"histogram2dcontour\",\"colorbar\":{\"outlinewidth\":0,\"ticks\":\"\"},\"colorscale\":[[0.0,\"#0d0887\"],[0.1111111111111111,\"#46039f\"],[0.2222222222222222,\"#7201a8\"],[0.3333333333333333,\"#9c179e\"],[0.4444444444444444,\"#bd3786\"],[0.5555555555555556,\"#d8576b\"],[0.6666666666666666,\"#ed7953\"],[0.7777777777777778,\"#fb9f3a\"],[0.8888888888888888,\"#fdca26\"],[1.0,\"#f0f921\"]]}],\"choropleth\":[{\"type\":\"choropleth\",\"colorbar\":{\"outlinewidth\":0,\"ticks\":\"\"}}],\"histogram2d\":[{\"type\":\"histogram2d\",\"colorbar\":{\"outlinewidth\":0,\"ticks\":\"\"},\"colorscale\":[[0.0,\"#0d0887\"],[0.1111111111111111,\"#46039f\"],[0.2222222222222222,\"#7201a8\"],[0.3333333333333333,\"#9c179e\"],[0.4444444444444444,\"#bd3786\"],[0.5555555555555556,\"#d8576b\"],[0.6666666666666666,\"#ed7953\"],[0.7777777777777778,\"#fb9f3a\"],[0.8888888888888888,\"#fdca26\"],[1.0,\"#f0f921\"]]}],\"heatmap\":[{\"type\":\"heatmap\",\"colorbar\":{\"outlinewidth\":0,\"ticks\":\"\"},\"colorscale\":[[0.0,\"#0d0887\"],[0.1111111111111111,\"#46039f\"],[0.2222222222222222,\"#7201a8\"],[0.3333333333333333,\"#9c179e\"],[0.4444444444444444,\"#bd3786\"],[0.5555555555555556,\"#d8576b\"],[0.6666666666666666,\"#ed7953\"],[0.7777777777777778,\"#fb9f3a\"],[0.8888888888888888,\"#fdca26\"],[1.0,\"#f0f921\"]]}],\"heatmapgl\":[{\"type\":\"heatmapgl\",\"colorbar\":{\"outlinewidth\":0,\"ticks\":\"\"},\"colorscale\":[[0.0,\"#0d0887\"],[0.1111111111111111,\"#46039f\"],[0.2222222222222222,\"#7201a8\"],[0.3333333333333333,\"#9c179e\"],[0.4444444444444444,\"#bd3786\"],[0.5555555555555556,\"#d8576b\"],[0.6666666666666666,\"#ed7953\"],[0.7777777777777778,\"#fb9f3a\"],[0.8888888888888888,\"#fdca26\"],[1.0,\"#f0f921\"]]}],\"contourcarpet\":[{\"type\":\"contourcarpet\",\"colorbar\":{\"outlinewidth\":0,\"ticks\":\"\"}}],\"contour\":[{\"type\":\"contour\",\"colorbar\":{\"outlinewidth\":0,\"ticks\":\"\"},\"colorscale\":[[0.0,\"#0d0887\"],[0.1111111111111111,\"#46039f\"],[0.2222222222222222,\"#7201a8\"],[0.3333333333333333,\"#9c179e\"],[0.4444444444444444,\"#bd3786\"],[0.5555555555555556,\"#d8576b\"],[0.6666666666666666,\"#ed7953\"],[0.7777777777777778,\"#fb9f3a\"],[0.8888888888888888,\"#fdca26\"],[1.0,\"#f0f921\"]]}],\"surface\":[{\"type\":\"surface\",\"colorbar\":{\"outlinewidth\":0,\"ticks\":\"\"},\"colorscale\":[[0.0,\"#0d0887\"],[0.1111111111111111,\"#46039f\"],[0.2222222222222222,\"#7201a8\"],[0.3333333333333333,\"#9c179e\"],[0.4444444444444444,\"#bd3786\"],[0.5555555555555556,\"#d8576b\"],[0.6666666666666666,\"#ed7953\"],[0.7777777777777778,\"#fb9f3a\"],[0.8888888888888888,\"#fdca26\"],[1.0,\"#f0f921\"]]}],\"mesh3d\":[{\"type\":\"mesh3d\",\"colorbar\":{\"outlinewidth\":0,\"ticks\":\"\"}}],\"scatter\":[{\"fillpattern\":{\"fillmode\":\"overlay\",\"size\":10,\"solidity\":0.2},\"type\":\"scatter\"}],\"parcoords\":[{\"type\":\"parcoords\",\"line\":{\"colorbar\":{\"outlinewidth\":0,\"ticks\":\"\"}}}],\"scatterpolargl\":[{\"type\":\"scatterpolargl\",\"marker\":{\"colorbar\":{\"outlinewidth\":0,\"ticks\":\"\"}}}],\"bar\":[{\"error_x\":{\"color\":\"#2a3f5f\"},\"error_y\":{\"color\":\"#2a3f5f\"},\"marker\":{\"line\":{\"color\":\"#E5ECF6\",\"width\":0.5},\"pattern\":{\"fillmode\":\"overlay\",\"size\":10,\"solidity\":0.2}},\"type\":\"bar\"}],\"scattergeo\":[{\"type\":\"scattergeo\",\"marker\":{\"colorbar\":{\"outlinewidth\":0,\"ticks\":\"\"}}}],\"scatterpolar\":[{\"type\":\"scatterpolar\",\"marker\":{\"colorbar\":{\"outlinewidth\":0,\"ticks\":\"\"}}}],\"histogram\":[{\"marker\":{\"pattern\":{\"fillmode\":\"overlay\",\"size\":10,\"solidity\":0.2}},\"type\":\"histogram\"}],\"scattergl\":[{\"type\":\"scattergl\",\"marker\":{\"colorbar\":{\"outlinewidth\":0,\"ticks\":\"\"}}}],\"scatter3d\":[{\"type\":\"scatter3d\",\"line\":{\"colorbar\":{\"outlinewidth\":0,\"ticks\":\"\"}},\"marker\":{\"colorbar\":{\"outlinewidth\":0,\"ticks\":\"\"}}}],\"scattermapbox\":[{\"type\":\"scattermapbox\",\"marker\":{\"colorbar\":{\"outlinewidth\":0,\"ticks\":\"\"}}}],\"scatterternary\":[{\"type\":\"scatterternary\",\"marker\":{\"colorbar\":{\"outlinewidth\":0,\"ticks\":\"\"}}}],\"scattercarpet\":[{\"type\":\"scattercarpet\",\"marker\":{\"colorbar\":{\"outlinewidth\":0,\"ticks\":\"\"}}}],\"carpet\":[{\"aaxis\":{\"endlinecolor\":\"#2a3f5f\",\"gridcolor\":\"white\",\"linecolor\":\"white\",\"minorgridcolor\":\"white\",\"startlinecolor\":\"#2a3f5f\"},\"baxis\":{\"endlinecolor\":\"#2a3f5f\",\"gridcolor\":\"white\",\"linecolor\":\"white\",\"minorgridcolor\":\"white\",\"startlinecolor\":\"#2a3f5f\"},\"type\":\"carpet\"}],\"table\":[{\"cells\":{\"fill\":{\"color\":\"#EBF0F8\"},\"line\":{\"color\":\"white\"}},\"header\":{\"fill\":{\"color\":\"#C8D4E3\"},\"line\":{\"color\":\"white\"}},\"type\":\"table\"}],\"barpolar\":[{\"marker\":{\"line\":{\"color\":\"#E5ECF6\",\"width\":0.5},\"pattern\":{\"fillmode\":\"overlay\",\"size\":10,\"solidity\":0.2}},\"type\":\"barpolar\"}],\"pie\":[{\"automargin\":true,\"type\":\"pie\"}]},\"layout\":{\"autotypenumbers\":\"strict\",\"colorway\":[\"#636efa\",\"#EF553B\",\"#00cc96\",\"#ab63fa\",\"#FFA15A\",\"#19d3f3\",\"#FF6692\",\"#B6E880\",\"#FF97FF\",\"#FECB52\"],\"font\":{\"color\":\"#2a3f5f\"},\"hovermode\":\"closest\",\"hoverlabel\":{\"align\":\"left\"},\"paper_bgcolor\":\"white\",\"plot_bgcolor\":\"#E5ECF6\",\"polar\":{\"bgcolor\":\"#E5ECF6\",\"angularaxis\":{\"gridcolor\":\"white\",\"linecolor\":\"white\",\"ticks\":\"\"},\"radialaxis\":{\"gridcolor\":\"white\",\"linecolor\":\"white\",\"ticks\":\"\"}},\"ternary\":{\"bgcolor\":\"#E5ECF6\",\"aaxis\":{\"gridcolor\":\"white\",\"linecolor\":\"white\",\"ticks\":\"\"},\"baxis\":{\"gridcolor\":\"white\",\"linecolor\":\"white\",\"ticks\":\"\"},\"caxis\":{\"gridcolor\":\"white\",\"linecolor\":\"white\",\"ticks\":\"\"}},\"coloraxis\":{\"colorbar\":{\"outlinewidth\":0,\"ticks\":\"\"}},\"colorscale\":{\"sequential\":[[0.0,\"#0d0887\"],[0.1111111111111111,\"#46039f\"],[0.2222222222222222,\"#7201a8\"],[0.3333333333333333,\"#9c179e\"],[0.4444444444444444,\"#bd3786\"],[0.5555555555555556,\"#d8576b\"],[0.6666666666666666,\"#ed7953\"],[0.7777777777777778,\"#fb9f3a\"],[0.8888888888888888,\"#fdca26\"],[1.0,\"#f0f921\"]],\"sequentialminus\":[[0.0,\"#0d0887\"],[0.1111111111111111,\"#46039f\"],[0.2222222222222222,\"#7201a8\"],[0.3333333333333333,\"#9c179e\"],[0.4444444444444444,\"#bd3786\"],[0.5555555555555556,\"#d8576b\"],[0.6666666666666666,\"#ed7953\"],[0.7777777777777778,\"#fb9f3a\"],[0.8888888888888888,\"#fdca26\"],[1.0,\"#f0f921\"]],\"diverging\":[[0,\"#8e0152\"],[0.1,\"#c51b7d\"],[0.2,\"#de77ae\"],[0.3,\"#f1b6da\"],[0.4,\"#fde0ef\"],[0.5,\"#f7f7f7\"],[0.6,\"#e6f5d0\"],[0.7,\"#b8e186\"],[0.8,\"#7fbc41\"],[0.9,\"#4d9221\"],[1,\"#276419\"]]},\"xaxis\":{\"gridcolor\":\"white\",\"linecolor\":\"white\",\"ticks\":\"\",\"title\":{\"standoff\":15},\"zerolinecolor\":\"white\",\"automargin\":true,\"zerolinewidth\":2},\"yaxis\":{\"gridcolor\":\"white\",\"linecolor\":\"white\",\"ticks\":\"\",\"title\":{\"standoff\":15},\"zerolinecolor\":\"white\",\"automargin\":true,\"zerolinewidth\":2},\"scene\":{\"xaxis\":{\"backgroundcolor\":\"#E5ECF6\",\"gridcolor\":\"white\",\"linecolor\":\"white\",\"showbackground\":true,\"ticks\":\"\",\"zerolinecolor\":\"white\",\"gridwidth\":2},\"yaxis\":{\"backgroundcolor\":\"#E5ECF6\",\"gridcolor\":\"white\",\"linecolor\":\"white\",\"showbackground\":true,\"ticks\":\"\",\"zerolinecolor\":\"white\",\"gridwidth\":2},\"zaxis\":{\"backgroundcolor\":\"#E5ECF6\",\"gridcolor\":\"white\",\"linecolor\":\"white\",\"showbackground\":true,\"ticks\":\"\",\"zerolinecolor\":\"white\",\"gridwidth\":2}},\"shapedefaults\":{\"line\":{\"color\":\"#2a3f5f\"}},\"annotationdefaults\":{\"arrowcolor\":\"#2a3f5f\",\"arrowhead\":0,\"arrowwidth\":1},\"geo\":{\"bgcolor\":\"white\",\"landcolor\":\"#E5ECF6\",\"subunitcolor\":\"white\",\"showland\":true,\"showlakes\":true,\"lakecolor\":\"white\"},\"title\":{\"x\":0.05},\"mapbox\":{\"style\":\"light\"}}},\"title\":{\"text\":\"Yearly Average pH Levels\"},\"xaxis\":{\"title\":{\"text\":\"Year\"}},\"yaxis\":{\"title\":{\"text\":\"pH Level\"}}},                        {\"responsive\": true}                    ).then(function(){\n",
       "                            \n",
       "var gd = document.getElementById('e5eb30df-9732-49b0-99fd-48b2055fd7e4');\n",
       "var x = new MutationObserver(function (mutations, observer) {{\n",
       "        var display = window.getComputedStyle(gd).display;\n",
       "        if (!display || display === 'none') {{\n",
       "            console.log([gd, 'removed!']);\n",
       "            Plotly.purge(gd);\n",
       "            observer.disconnect();\n",
       "        }}\n",
       "}});\n",
       "\n",
       "// Listen for the removal of the full notebook cells\n",
       "var notebookContainer = gd.closest('#notebook-container');\n",
       "if (notebookContainer) {{\n",
       "    x.observe(notebookContainer, {childList: true});\n",
       "}}\n",
       "\n",
       "// Listen for the clearing of the current output cell\n",
       "var outputEl = gd.closest('.output');\n",
       "if (outputEl) {{\n",
       "    x.observe(outputEl, {childList: true});\n",
       "}}\n",
       "\n",
       "                        })                };                            </script>        </div>\n",
       "</body>\n",
       "</html>"
      ]
     },
     "metadata": {},
     "output_type": "display_data"
    }
   ],
   "source": [
    "# Plotting pH Level with Trendline\n",
    "fig_ph = go.Figure()\n",
    "\n",
    "# Adding pH line\n",
    "fig_ph.add_trace(go.Scatter(x=df_yearly['Date'], y=df_yearly['pH Level'],\n",
    "                            mode='lines+markers', name='pH Level', line=dict(color='green')))\n",
    "\n",
    "# Adding trendline (linear regression)\n",
    "fig_ph.add_trace(go.Scatter(\n",
    "    x=df_yearly['Date'], \n",
    "    y=df_yearly['pH Level'].rolling(window=3).mean(),\n",
    "    mode='lines', \n",
    "    name='pH Trendline', \n",
    "    line=dict(color='red', dash='dash')))\n",
    "\n",
    "fig_ph.update_layout(\n",
    "    title=\"Yearly Average pH Levels\",\n",
    "    xaxis_title=\"Year\", \n",
    "    yaxis_title=\"pH Level\")\n",
    "\n",
    "fig_ph.show()"
   ]
  },
  {
   "cell_type": "markdown",
   "id": "92bfb573",
   "metadata": {
    "papermill": {
     "duration": 0.007886,
     "end_time": "2025-04-29T10:39:49.366797",
     "exception": false,
     "start_time": "2025-04-29T10:39:49.358911",
     "status": "completed"
    },
    "tags": []
   },
   "source": [
    "The pH level measures the acidity of seawater. A decrease in pH (more acidic water) is a concern for marine life, particularly for calcifying organisms such as corals, shellfish, and plankton.\n",
    "\n",
    "This visualization helps us monitor ocean acidification. A decrease in pH over time could suggest increased CO₂ absorption by the oceans, which is a key concern in climate change. Ocean acidification can disrupt marine food chains and biodiversity, and tracking changes in pH over time allows us to assess the severity of this issue.\n",
    "\n",
    "_____"
   ]
  },
  {
   "cell_type": "markdown",
   "id": "94bcff0e",
   "metadata": {
    "papermill": {
     "duration": 0.008284,
     "end_time": "2025-04-29T10:39:49.383311",
     "exception": false,
     "start_time": "2025-04-29T10:39:49.375027",
     "status": "completed"
    },
    "tags": []
   },
   "source": [
    "###  SST vs pH Level"
   ]
  },
  {
   "cell_type": "code",
   "execution_count": 14,
   "id": "897e0030",
   "metadata": {
    "execution": {
     "iopub.execute_input": "2025-04-29T10:39:49.401537Z",
     "iopub.status.busy": "2025-04-29T10:39:49.401215Z",
     "iopub.status.idle": "2025-04-29T10:39:49.477939Z",
     "shell.execute_reply": "2025-04-29T10:39:49.476696Z"
    },
    "papermill": {
     "duration": 0.0882,
     "end_time": "2025-04-29T10:39:49.479691",
     "exception": false,
     "start_time": "2025-04-29T10:39:49.391491",
     "status": "completed"
    },
    "tags": []
   },
   "outputs": [
    {
     "data": {
      "text/html": [
       "<html>\n",
       "<head><meta charset=\"utf-8\" /></head>\n",
       "<body>\n",
       "    <div>            <script src=\"https://cdnjs.cloudflare.com/ajax/libs/mathjax/2.7.5/MathJax.js?config=TeX-AMS-MML_SVG\"></script><script type=\"text/javascript\">if (window.MathJax && window.MathJax.Hub && window.MathJax.Hub.Config) {window.MathJax.Hub.Config({SVG: {font: \"STIX-Web\"}});}</script>                <script type=\"text/javascript\">window.PlotlyConfig = {MathJaxConfig: 'local'};</script>\n",
       "        <script charset=\"utf-8\" src=\"https://cdn.plot.ly/plotly-2.35.2.min.js\"></script>                <div id=\"aea772a6-4030-4801-ad73-5fd076782cfa\" class=\"plotly-graph-div\" style=\"height:525px; width:100%;\"></div>            <script type=\"text/javascript\">                                    window.PLOTLYENV=window.PLOTLYENV || {};                                    if (document.getElementById(\"aea772a6-4030-4801-ad73-5fd076782cfa\")) {                    Plotly.newPlot(                        \"aea772a6-4030-4801-ad73-5fd076782cfa\",                        [{\"hovertemplate\":\"SST: %{x}°C\\u003cbr\\u003epH Level: %{y}\\u003cbr\\u003e\\u003cextra\\u003e\\u003c\\u002fextra\\u003e\",\"marker\":{\"color\":[\"blue\",\"blue\",\"blue\",\"blue\",\"blue\",\"blue\",\"blue\",\"blue\",\"blue\",\"red\",\"blue\",\"blue\",\"blue\",\"red\",\"blue\",\"blue\",\"red\",\"blue\",\"blue\",\"blue\",\"blue\",\"blue\",\"blue\",\"blue\",\"red\",\"blue\",\"blue\",\"blue\",\"blue\",\"blue\",\"blue\",\"blue\",\"red\",\"red\",\"blue\",\"red\",\"blue\",\"blue\",\"blue\",\"blue\",\"red\",\"blue\",\"blue\",\"blue\",\"blue\",\"blue\",\"blue\",\"blue\",\"blue\",\"blue\",\"red\",\"blue\",\"blue\",\"blue\",\"red\",\"blue\",\"red\",\"blue\",\"blue\",\"blue\",\"blue\",\"blue\",\"blue\",\"blue\",\"blue\",\"blue\",\"blue\",\"blue\",\"blue\",\"blue\",\"blue\",\"blue\",\"blue\",\"blue\",\"red\",\"blue\",\"blue\",\"red\",\"blue\",\"red\",\"blue\",\"blue\",\"blue\",\"blue\",\"blue\",\"blue\",\"blue\",\"blue\",\"blue\",\"blue\",\"blue\",\"blue\",\"blue\",\"blue\",\"blue\",\"blue\",\"blue\",\"blue\",\"blue\",\"blue\",\"blue\",\"blue\",\"blue\",\"blue\",\"blue\",\"blue\",\"blue\",\"blue\",\"blue\",\"blue\",\"red\",\"blue\",\"blue\",\"blue\",\"blue\",\"blue\",\"blue\",\"blue\",\"blue\",\"blue\",\"blue\",\"blue\",\"blue\",\"blue\",\"red\",\"blue\",\"blue\",\"blue\",\"blue\",\"blue\",\"blue\",\"blue\",\"blue\",\"red\",\"blue\",\"red\",\"blue\",\"blue\",\"blue\",\"blue\",\"blue\",\"red\",\"blue\",\"blue\",\"blue\",\"blue\",\"blue\",\"blue\",\"blue\",\"blue\",\"blue\",\"blue\",\"red\",\"red\",\"blue\",\"blue\",\"blue\",\"blue\",\"blue\",\"blue\",\"blue\",\"blue\",\"red\",\"blue\",\"red\",\"blue\",\"blue\",\"blue\",\"blue\",\"red\",\"blue\",\"blue\",\"red\",\"blue\",\"blue\",\"blue\",\"blue\",\"blue\",\"red\",\"blue\",\"blue\",\"blue\",\"blue\",\"blue\",\"blue\",\"blue\",\"blue\",\"blue\",\"blue\",\"blue\",\"blue\",\"blue\",\"blue\",\"red\",\"blue\",\"blue\",\"blue\",\"blue\",\"blue\",\"blue\",\"blue\",\"blue\",\"red\",\"blue\",\"blue\",\"blue\",\"blue\",\"blue\",\"red\",\"blue\",\"blue\",\"red\",\"red\",\"red\",\"blue\",\"blue\",\"blue\",\"blue\",\"blue\",\"blue\",\"red\",\"blue\",\"blue\",\"blue\",\"blue\",\"blue\",\"red\",\"blue\",\"blue\",\"blue\",\"blue\",\"red\",\"blue\",\"blue\",\"blue\",\"blue\",\"blue\",\"blue\",\"blue\",\"blue\",\"blue\",\"blue\",\"blue\",\"blue\",\"blue\",\"blue\",\"blue\",\"blue\",\"blue\",\"blue\",\"blue\",\"blue\",\"blue\",\"blue\",\"blue\",\"blue\",\"blue\",\"blue\",\"blue\",\"blue\",\"blue\",\"blue\",\"red\",\"blue\",\"blue\",\"blue\",\"blue\",\"blue\",\"blue\",\"blue\",\"blue\",\"blue\",\"blue\",\"blue\",\"blue\",\"red\",\"red\",\"red\",\"red\",\"blue\",\"red\",\"red\",\"blue\",\"blue\",\"blue\",\"blue\",\"blue\",\"red\",\"blue\",\"blue\",\"blue\",\"blue\",\"blue\",\"blue\",\"blue\",\"blue\",\"red\",\"blue\",\"blue\",\"red\",\"blue\",\"blue\",\"blue\",\"blue\",\"blue\",\"red\",\"blue\",\"blue\",\"red\",\"blue\",\"blue\",\"blue\",\"blue\",\"blue\",\"blue\",\"red\",\"blue\",\"blue\",\"blue\",\"red\",\"blue\",\"red\",\"blue\",\"blue\",\"blue\",\"red\",\"blue\",\"blue\",\"blue\",\"blue\",\"blue\",\"red\",\"blue\",\"blue\",\"blue\",\"red\",\"blue\",\"blue\",\"blue\",\"blue\",\"blue\",\"red\",\"blue\",\"blue\",\"blue\",\"blue\",\"blue\",\"blue\",\"blue\",\"blue\",\"blue\",\"blue\",\"blue\",\"blue\",\"blue\",\"blue\",\"blue\",\"blue\",\"blue\",\"blue\",\"blue\",\"blue\",\"red\",\"blue\",\"blue\",\"red\",\"blue\",\"blue\",\"blue\",\"blue\",\"blue\",\"blue\",\"blue\",\"red\",\"blue\",\"blue\",\"blue\",\"blue\",\"blue\",\"red\",\"red\",\"blue\",\"blue\",\"blue\",\"blue\",\"blue\",\"blue\",\"blue\",\"blue\",\"blue\",\"blue\",\"red\",\"blue\",\"blue\",\"blue\",\"blue\",\"blue\",\"blue\",\"red\",\"blue\",\"blue\",\"blue\",\"blue\",\"blue\",\"red\",\"red\",\"blue\",\"blue\",\"blue\",\"blue\",\"blue\",\"blue\",\"blue\",\"blue\",\"blue\",\"red\",\"blue\",\"blue\",\"blue\",\"blue\",\"blue\",\"blue\",\"blue\",\"blue\",\"blue\",\"red\",\"blue\",\"red\",\"blue\",\"blue\",\"blue\",\"blue\",\"blue\",\"blue\",\"blue\",\"blue\",\"blue\",\"blue\",\"red\",\"blue\",\"blue\",\"blue\",\"blue\",\"blue\",\"blue\",\"blue\",\"blue\",\"blue\",\"red\",\"blue\",\"blue\",\"blue\",\"red\",\"blue\",\"blue\",\"blue\",\"red\",\"blue\",\"blue\",\"red\",\"blue\",\"blue\",\"blue\",\"blue\",\"blue\",\"blue\",\"blue\",\"blue\",\"blue\",\"blue\",\"blue\",\"blue\",\"blue\",\"blue\",\"blue\",\"blue\",\"blue\",\"blue\",\"blue\",\"blue\",\"blue\",\"blue\",\"blue\",\"blue\",\"blue\",\"blue\",\"blue\",\"blue\",\"blue\",\"blue\",\"blue\",\"blue\",\"blue\",\"blue\",\"blue\",\"red\",\"red\",\"blue\",\"blue\",\"blue\"],\"opacity\":0.75,\"size\":8},\"mode\":\"markers\",\"name\":\"Observations\",\"x\":[29.47,29.65,28.86,28.97,28.6,29.06,28.48,25.56,28.33,30.09,27.48,28.04,26.84,30.01,28.45,28.05,30.72,28.99,27.45,28.89,27.99,28.76,28.59,26.75,30.6,27.65,26.91,28.02,26.09,26.52,27.48,29.21,30.24,31.35,28.38,30.68,26.89,28.39,28.82,28.73,30.12,29.27,29.93,28.14,29.53,26.88,28.57,28.78,29.26,27.52,31.68,27.44,23.64,26.35,30.24,27.6,30.88,29.38,27.62,28.96,29.62,27.61,29.74,28.03,27.27,29.69,28.61,28.02,28.87,26.39,29.79,28.07,28.34,28.52,30.68,28.78,25.31,31.31,26.52,30.53,28.51,28.29,26.2,28.67,28.13,29.53,28.1,26.43,25.4,27.09,27.02,26.95,27.45,29.64,26.23,28.97,26.09,26.88,28.62,28.21,26.4,27.2,28.14,27.03,27.51,28.57,28.4,27.92,29.29,28.2,30.25,27.85,29.81,26.99,28.99,29.66,29.45,27.23,29.22,27.03,29.8,26.63,28.92,29.59,31.32,28.31,28.26,28.61,28.11,28.42,28.1,28.46,28.45,30.76,27.99,31.13,27.71,27.94,26.88,26.62,27.44,31.13,27.68,28.73,26.48,29.02,29.11,29.97,27.56,27.37,27.04,28.78,32.34,31.16,29.45,28.13,29.07,29.19,28.91,29.52,28.64,27.78,30.67,29.83,31.95,27.72,26.99,27.0,26.82,32.18,27.54,29.21,30.82,29.0,26.43,28.84,27.77,27.96,30.1,28.72,28.54,29.62,28.87,28.78,28.7,29.07,26.33,29.56,29.48,27.46,26.62,29.19,28.79,31.2,29.76,24.86,27.05,29.82,28.13,29.46,28.59,29.45,31.61,27.77,28.46,28.68,29.1,26.3,30.12,26.14,29.24,30.26,30.22,30.24,28.62,27.86,28.02,28.86,29.59,25.5,31.63,26.92,29.81,28.41,29.46,27.37,30.92,26.66,28.27,26.34,27.54,31.88,26.42,29.35,28.66,28.35,29.88,28.16,27.6,29.33,28.68,27.51,27.42,28.92,29.45,28.28,28.37,27.67,27.63,27.35,25.51,29.13,29.31,27.14,26.86,29.09,29.56,29.26,28.49,28.06,28.24,28.49,30.59,28.04,28.39,28.28,28.18,28.05,29.16,29.9,29.31,29.09,28.68,27.1,26.44,30.06,31.74,30.84,31.52,27.04,30.28,30.75,29.18,28.9,27.95,26.85,29.79,30.91,28.77,29.38,28.86,29.07,28.19,29.09,28.3,29.13,31.09,25.86,27.65,30.31,27.27,29.93,27.42,29.45,28.16,30.81,28.98,27.7,30.99,28.95,27.18,27.3,24.86,29.27,28.94,30.25,26.98,27.95,29.15,31.59,27.53,30.94,29.82,27.37,29.88,30.42,27.53,29.14,28.38,29.98,28.79,30.48,25.32,27.74,27.91,30.78,27.14,28.8,29.81,27.48,29.45,31.35,25.24,28.79,29.61,29.71,28.47,26.9,28.61,29.25,27.52,29.93,28.61,28.24,27.57,28.44,26.24,27.37,28.26,27.31,27.44,29.26,30.92,27.42,28.16,30.62,29.93,28.66,27.68,27.2,26.71,28.12,29.69,30.19,28.04,28.19,26.65,29.14,27.85,30.9,30.26,26.81,29.46,27.57,26.89,28.07,27.8,29.2,28.9,28.46,27.14,33.21,29.28,28.27,29.48,29.92,27.56,29.27,30.28,27.18,27.31,27.27,27.35,25.49,30.54,30.36,29.21,27.74,27.71,28.49,27.51,29.81,29.09,28.3,28.63,30.31,26.33,28.28,29.43,26.89,27.2,29.46,28.56,27.01,28.47,30.17,29.51,30.82,28.76,27.26,28.53,28.02,29.25,26.61,28.02,28.78,28.23,28.1,31.54,28.53,29.58,29.03,29.82,28.4,29.62,27.6,25.54,27.07,31.46,26.5,26.32,27.87,30.35,28.98,27.49,26.78,30.29,28.12,28.63,30.6,27.92,28.23,28.85,27.57,29.19,27.92,26.22,28.57,29.24,27.21,29.53,28.72,26.22,25.94,28.74,26.51,29.02,27.11,26.26,26.99,27.68,29.74,26.82,29.01,28.16,28.41,28.46,29.74,26.56,28.15,28.4,28.86,29.22,28.56,27.32,30.68,31.49,28.43,27.76,28.08],\"y\":[8.107,8.004,7.947,7.995,7.977,8.009,7.998,8.042,8.038,8.035,8.101,8.076,8.023,8.038,8.129,8.064,7.98,8.014,8.055,8.042,8.02,8.058,8.171,8.142,7.938,8.072,8.106,8.1,8.107,8.116,8.082,7.976,7.974,7.981,8.069,7.993,8.106,8.01,7.981,8.048,8.07,8.06,8.054,8.033,7.949,8.047,8.016,8.011,8.078,8.158,8.038,8.093,8.096,8.071,8.016,8.071,7.941,8.046,8.11,8.081,8.058,8.095,8.066,8.076,8.179,8.057,8.014,8.08,8.017,8.056,8.016,8.075,8.073,8.055,8.054,8.154,8.087,8.041,8.181,8.004,8.052,8.06,8.16,8.105,8.106,8.082,8.094,8.006,8.108,8.053,8.105,8.053,8.082,8.001,8.164,8.195,8.108,8.167,8.005,8.012,8.12,8.078,8.012,8.084,8.098,8.062,7.991,8.112,8.106,8.075,8.028,8.083,8.008,7.987,8.029,7.953,8.145,8.117,8.052,8.057,8.092,7.998,7.985,8.052,8.061,8.057,8.033,7.983,7.983,8.04,8.003,8.061,8.024,7.872,8.042,8.044,8.09,8.097,8.113,8.134,8.001,7.893,8.086,8.027,8.128,8.013,7.953,8.104,8.07,8.042,8.132,8.002,7.968,7.966,8.08,8.054,8.069,8.033,7.978,8.031,8.024,8.127,8.016,8.027,7.963,8.045,8.042,8.129,8.103,7.944,8.129,8.008,8.093,8.073,8.055,8.042,8.117,8.09,8.076,8.106,8.113,8.06,8.121,8.022,8.011,8.117,7.984,8.041,8.026,8.068,8.16,8.065,8.08,7.994,7.992,8.044,8.077,8.013,8.023,8.002,8.016,8.083,7.953,8.048,8.158,8.077,8.07,8.105,8.016,8.171,8.048,8.042,7.929,7.992,7.984,8.138,8.163,8.03,8.031,8.156,7.98,8.05,8.049,8.062,7.974,8.069,8.024,8.117,8.061,8.173,8.003,8.032,8.009,8.063,8.044,8.004,7.944,8.084,8.084,8.045,8.073,8.0,8.116,8.0,8.052,8.103,8.182,8.095,8.017,8.085,8.129,8.002,7.988,8.04,8.067,8.048,8.077,7.98,8.092,8.072,8.017,8.105,8.036,8.029,8.076,7.994,8.131,8.04,8.096,7.954,8.072,7.964,7.998,8.056,8.01,7.989,7.955,8.005,7.996,8.139,8.05,7.989,8.145,8.118,8.019,8.072,7.995,8.026,7.98,8.094,8.173,8.103,8.014,7.978,8.055,7.993,7.978,8.027,8.076,8.065,8.074,8.026,7.978,7.98,8.009,7.979,8.033,8.007,7.977,8.079,8.035,8.149,8.167,7.956,7.973,7.978,8.084,8.02,8.082,7.989,8.029,8.017,8.02,8.051,7.989,8.015,8.121,8.14,8.075,8.08,8.027,7.96,8.083,8.107,8.016,8.054,8.093,8.058,7.957,8.096,8.086,7.986,8.158,8.08,8.059,8.044,8.035,8.13,8.106,8.044,7.978,8.102,7.968,8.061,8.078,8.03,8.133,8.089,8.088,8.128,7.996,7.956,8.046,8.061,8.024,8.003,8.036,8.045,8.071,8.124,8.132,8.072,7.939,7.962,8.098,7.972,8.057,8.014,8.058,8.03,8.033,8.024,8.056,8.06,8.094,8.114,8.059,8.09,8.025,8.107,8.044,8.009,8.067,8.045,8.04,7.983,8.112,8.002,8.05,8.068,8.058,8.107,8.026,8.142,7.944,8.023,8.061,8.064,8.073,8.034,8.055,8.037,8.033,8.125,8.057,8.007,7.979,8.032,7.974,8.004,8.132,8.014,7.999,7.952,8.037,8.052,8.059,7.942,8.057,8.07,8.061,8.124,8.092,8.076,8.067,8.146,8.124,8.037,7.921,8.017,7.964,8.024,8.001,8.157,8.019,7.975,8.154,8.058,7.912,8.08,8.093,7.932,7.959,8.015,8.072,8.118,7.965,8.028,8.007,8.04,8.074,8.082,8.068,8.041,8.12,8.096,8.078,8.049,8.009,8.111,7.961,7.957,8.151,8.045,8.07,8.069,8.037,8.122,8.062,8.09,8.053,8.066,8.038,8.059,8.055,8.108,8.042,8.003,8.123,8.018,8.016,8.068,7.974,8.083,8.005,7.939,7.952,8.053,8.137,8.098],\"type\":\"scatter\"}],                        {\"template\":{\"data\":{\"histogram2dcontour\":[{\"type\":\"histogram2dcontour\",\"colorbar\":{\"outlinewidth\":0,\"ticks\":\"\"},\"colorscale\":[[0.0,\"#0d0887\"],[0.1111111111111111,\"#46039f\"],[0.2222222222222222,\"#7201a8\"],[0.3333333333333333,\"#9c179e\"],[0.4444444444444444,\"#bd3786\"],[0.5555555555555556,\"#d8576b\"],[0.6666666666666666,\"#ed7953\"],[0.7777777777777778,\"#fb9f3a\"],[0.8888888888888888,\"#fdca26\"],[1.0,\"#f0f921\"]]}],\"choropleth\":[{\"type\":\"choropleth\",\"colorbar\":{\"outlinewidth\":0,\"ticks\":\"\"}}],\"histogram2d\":[{\"type\":\"histogram2d\",\"colorbar\":{\"outlinewidth\":0,\"ticks\":\"\"},\"colorscale\":[[0.0,\"#0d0887\"],[0.1111111111111111,\"#46039f\"],[0.2222222222222222,\"#7201a8\"],[0.3333333333333333,\"#9c179e\"],[0.4444444444444444,\"#bd3786\"],[0.5555555555555556,\"#d8576b\"],[0.6666666666666666,\"#ed7953\"],[0.7777777777777778,\"#fb9f3a\"],[0.8888888888888888,\"#fdca26\"],[1.0,\"#f0f921\"]]}],\"heatmap\":[{\"type\":\"heatmap\",\"colorbar\":{\"outlinewidth\":0,\"ticks\":\"\"},\"colorscale\":[[0.0,\"#0d0887\"],[0.1111111111111111,\"#46039f\"],[0.2222222222222222,\"#7201a8\"],[0.3333333333333333,\"#9c179e\"],[0.4444444444444444,\"#bd3786\"],[0.5555555555555556,\"#d8576b\"],[0.6666666666666666,\"#ed7953\"],[0.7777777777777778,\"#fb9f3a\"],[0.8888888888888888,\"#fdca26\"],[1.0,\"#f0f921\"]]}],\"heatmapgl\":[{\"type\":\"heatmapgl\",\"colorbar\":{\"outlinewidth\":0,\"ticks\":\"\"},\"colorscale\":[[0.0,\"#0d0887\"],[0.1111111111111111,\"#46039f\"],[0.2222222222222222,\"#7201a8\"],[0.3333333333333333,\"#9c179e\"],[0.4444444444444444,\"#bd3786\"],[0.5555555555555556,\"#d8576b\"],[0.6666666666666666,\"#ed7953\"],[0.7777777777777778,\"#fb9f3a\"],[0.8888888888888888,\"#fdca26\"],[1.0,\"#f0f921\"]]}],\"contourcarpet\":[{\"type\":\"contourcarpet\",\"colorbar\":{\"outlinewidth\":0,\"ticks\":\"\"}}],\"contour\":[{\"type\":\"contour\",\"colorbar\":{\"outlinewidth\":0,\"ticks\":\"\"},\"colorscale\":[[0.0,\"#0d0887\"],[0.1111111111111111,\"#46039f\"],[0.2222222222222222,\"#7201a8\"],[0.3333333333333333,\"#9c179e\"],[0.4444444444444444,\"#bd3786\"],[0.5555555555555556,\"#d8576b\"],[0.6666666666666666,\"#ed7953\"],[0.7777777777777778,\"#fb9f3a\"],[0.8888888888888888,\"#fdca26\"],[1.0,\"#f0f921\"]]}],\"surface\":[{\"type\":\"surface\",\"colorbar\":{\"outlinewidth\":0,\"ticks\":\"\"},\"colorscale\":[[0.0,\"#0d0887\"],[0.1111111111111111,\"#46039f\"],[0.2222222222222222,\"#7201a8\"],[0.3333333333333333,\"#9c179e\"],[0.4444444444444444,\"#bd3786\"],[0.5555555555555556,\"#d8576b\"],[0.6666666666666666,\"#ed7953\"],[0.7777777777777778,\"#fb9f3a\"],[0.8888888888888888,\"#fdca26\"],[1.0,\"#f0f921\"]]}],\"mesh3d\":[{\"type\":\"mesh3d\",\"colorbar\":{\"outlinewidth\":0,\"ticks\":\"\"}}],\"scatter\":[{\"fillpattern\":{\"fillmode\":\"overlay\",\"size\":10,\"solidity\":0.2},\"type\":\"scatter\"}],\"parcoords\":[{\"type\":\"parcoords\",\"line\":{\"colorbar\":{\"outlinewidth\":0,\"ticks\":\"\"}}}],\"scatterpolargl\":[{\"type\":\"scatterpolargl\",\"marker\":{\"colorbar\":{\"outlinewidth\":0,\"ticks\":\"\"}}}],\"bar\":[{\"error_x\":{\"color\":\"#2a3f5f\"},\"error_y\":{\"color\":\"#2a3f5f\"},\"marker\":{\"line\":{\"color\":\"#E5ECF6\",\"width\":0.5},\"pattern\":{\"fillmode\":\"overlay\",\"size\":10,\"solidity\":0.2}},\"type\":\"bar\"}],\"scattergeo\":[{\"type\":\"scattergeo\",\"marker\":{\"colorbar\":{\"outlinewidth\":0,\"ticks\":\"\"}}}],\"scatterpolar\":[{\"type\":\"scatterpolar\",\"marker\":{\"colorbar\":{\"outlinewidth\":0,\"ticks\":\"\"}}}],\"histogram\":[{\"marker\":{\"pattern\":{\"fillmode\":\"overlay\",\"size\":10,\"solidity\":0.2}},\"type\":\"histogram\"}],\"scattergl\":[{\"type\":\"scattergl\",\"marker\":{\"colorbar\":{\"outlinewidth\":0,\"ticks\":\"\"}}}],\"scatter3d\":[{\"type\":\"scatter3d\",\"line\":{\"colorbar\":{\"outlinewidth\":0,\"ticks\":\"\"}},\"marker\":{\"colorbar\":{\"outlinewidth\":0,\"ticks\":\"\"}}}],\"scattermapbox\":[{\"type\":\"scattermapbox\",\"marker\":{\"colorbar\":{\"outlinewidth\":0,\"ticks\":\"\"}}}],\"scatterternary\":[{\"type\":\"scatterternary\",\"marker\":{\"colorbar\":{\"outlinewidth\":0,\"ticks\":\"\"}}}],\"scattercarpet\":[{\"type\":\"scattercarpet\",\"marker\":{\"colorbar\":{\"outlinewidth\":0,\"ticks\":\"\"}}}],\"carpet\":[{\"aaxis\":{\"endlinecolor\":\"#2a3f5f\",\"gridcolor\":\"white\",\"linecolor\":\"white\",\"minorgridcolor\":\"white\",\"startlinecolor\":\"#2a3f5f\"},\"baxis\":{\"endlinecolor\":\"#2a3f5f\",\"gridcolor\":\"white\",\"linecolor\":\"white\",\"minorgridcolor\":\"white\",\"startlinecolor\":\"#2a3f5f\"},\"type\":\"carpet\"}],\"table\":[{\"cells\":{\"fill\":{\"color\":\"#EBF0F8\"},\"line\":{\"color\":\"white\"}},\"header\":{\"fill\":{\"color\":\"#C8D4E3\"},\"line\":{\"color\":\"white\"}},\"type\":\"table\"}],\"barpolar\":[{\"marker\":{\"line\":{\"color\":\"#E5ECF6\",\"width\":0.5},\"pattern\":{\"fillmode\":\"overlay\",\"size\":10,\"solidity\":0.2}},\"type\":\"barpolar\"}],\"pie\":[{\"automargin\":true,\"type\":\"pie\"}]},\"layout\":{\"autotypenumbers\":\"strict\",\"colorway\":[\"#636efa\",\"#EF553B\",\"#00cc96\",\"#ab63fa\",\"#FFA15A\",\"#19d3f3\",\"#FF6692\",\"#B6E880\",\"#FF97FF\",\"#FECB52\"],\"font\":{\"color\":\"#2a3f5f\"},\"hovermode\":\"closest\",\"hoverlabel\":{\"align\":\"left\"},\"paper_bgcolor\":\"white\",\"plot_bgcolor\":\"#E5ECF6\",\"polar\":{\"bgcolor\":\"#E5ECF6\",\"angularaxis\":{\"gridcolor\":\"white\",\"linecolor\":\"white\",\"ticks\":\"\"},\"radialaxis\":{\"gridcolor\":\"white\",\"linecolor\":\"white\",\"ticks\":\"\"}},\"ternary\":{\"bgcolor\":\"#E5ECF6\",\"aaxis\":{\"gridcolor\":\"white\",\"linecolor\":\"white\",\"ticks\":\"\"},\"baxis\":{\"gridcolor\":\"white\",\"linecolor\":\"white\",\"ticks\":\"\"},\"caxis\":{\"gridcolor\":\"white\",\"linecolor\":\"white\",\"ticks\":\"\"}},\"coloraxis\":{\"colorbar\":{\"outlinewidth\":0,\"ticks\":\"\"}},\"colorscale\":{\"sequential\":[[0.0,\"#0d0887\"],[0.1111111111111111,\"#46039f\"],[0.2222222222222222,\"#7201a8\"],[0.3333333333333333,\"#9c179e\"],[0.4444444444444444,\"#bd3786\"],[0.5555555555555556,\"#d8576b\"],[0.6666666666666666,\"#ed7953\"],[0.7777777777777778,\"#fb9f3a\"],[0.8888888888888888,\"#fdca26\"],[1.0,\"#f0f921\"]],\"sequentialminus\":[[0.0,\"#0d0887\"],[0.1111111111111111,\"#46039f\"],[0.2222222222222222,\"#7201a8\"],[0.3333333333333333,\"#9c179e\"],[0.4444444444444444,\"#bd3786\"],[0.5555555555555556,\"#d8576b\"],[0.6666666666666666,\"#ed7953\"],[0.7777777777777778,\"#fb9f3a\"],[0.8888888888888888,\"#fdca26\"],[1.0,\"#f0f921\"]],\"diverging\":[[0,\"#8e0152\"],[0.1,\"#c51b7d\"],[0.2,\"#de77ae\"],[0.3,\"#f1b6da\"],[0.4,\"#fde0ef\"],[0.5,\"#f7f7f7\"],[0.6,\"#e6f5d0\"],[0.7,\"#b8e186\"],[0.8,\"#7fbc41\"],[0.9,\"#4d9221\"],[1,\"#276419\"]]},\"xaxis\":{\"gridcolor\":\"white\",\"linecolor\":\"white\",\"ticks\":\"\",\"title\":{\"standoff\":15},\"zerolinecolor\":\"white\",\"automargin\":true,\"zerolinewidth\":2},\"yaxis\":{\"gridcolor\":\"white\",\"linecolor\":\"white\",\"ticks\":\"\",\"title\":{\"standoff\":15},\"zerolinecolor\":\"white\",\"automargin\":true,\"zerolinewidth\":2},\"scene\":{\"xaxis\":{\"backgroundcolor\":\"#E5ECF6\",\"gridcolor\":\"white\",\"linecolor\":\"white\",\"showbackground\":true,\"ticks\":\"\",\"zerolinecolor\":\"white\",\"gridwidth\":2},\"yaxis\":{\"backgroundcolor\":\"#E5ECF6\",\"gridcolor\":\"white\",\"linecolor\":\"white\",\"showbackground\":true,\"ticks\":\"\",\"zerolinecolor\":\"white\",\"gridwidth\":2},\"zaxis\":{\"backgroundcolor\":\"#E5ECF6\",\"gridcolor\":\"white\",\"linecolor\":\"white\",\"showbackground\":true,\"ticks\":\"\",\"zerolinecolor\":\"white\",\"gridwidth\":2}},\"shapedefaults\":{\"line\":{\"color\":\"#2a3f5f\"}},\"annotationdefaults\":{\"arrowcolor\":\"#2a3f5f\",\"arrowhead\":0,\"arrowwidth\":1},\"geo\":{\"bgcolor\":\"white\",\"landcolor\":\"#E5ECF6\",\"subunitcolor\":\"white\",\"showland\":true,\"showlakes\":true,\"lakecolor\":\"white\"},\"title\":{\"x\":0.05},\"mapbox\":{\"style\":\"light\"}}},\"title\":{\"text\":\"Relationship between Sea Surface Temperature (SST) and pH Level\"},\"xaxis\":{\"title\":{\"text\":\"Sea Surface Temperature (°C)\"}},\"yaxis\":{\"title\":{\"text\":\"pH Level\"}}},                        {\"responsive\": true}                    ).then(function(){\n",
       "                            \n",
       "var gd = document.getElementById('aea772a6-4030-4801-ad73-5fd076782cfa');\n",
       "var x = new MutationObserver(function (mutations, observer) {{\n",
       "        var display = window.getComputedStyle(gd).display;\n",
       "        if (!display || display === 'none') {{\n",
       "            console.log([gd, 'removed!']);\n",
       "            Plotly.purge(gd);\n",
       "            observer.disconnect();\n",
       "        }}\n",
       "}});\n",
       "\n",
       "// Listen for the removal of the full notebook cells\n",
       "var notebookContainer = gd.closest('#notebook-container');\n",
       "if (notebookContainer) {{\n",
       "    x.observe(notebookContainer, {childList: true});\n",
       "}}\n",
       "\n",
       "// Listen for the clearing of the current output cell\n",
       "var outputEl = gd.closest('.output');\n",
       "if (outputEl) {{\n",
       "    x.observe(outputEl, {childList: true});\n",
       "}}\n",
       "\n",
       "                        })                };                            </script>        </div>\n",
       "</body>\n",
       "</html>"
      ]
     },
     "metadata": {},
     "output_type": "display_data"
    },
    {
     "name": "stdout",
     "output_type": "stream",
     "text": [
      "Correlation between SST and pH Level: -0.515\n"
     ]
    }
   ],
   "source": [
    "# 1. Create a color array based on SST\n",
    "colors = ['red' if sst > 30 else 'blue' for sst in df_activity['SST (°C)']]\n",
    "\n",
    "# 2. Create the figure\n",
    "fig = go.Figure()\n",
    "\n",
    "# 3. Add scatter points\n",
    "fig.add_trace(go.Scatter(\n",
    "    x=df_activity['SST (°C)'],\n",
    "    y=df_activity['pH Level'],\n",
    "    mode='markers',\n",
    "    marker=dict(color=colors, size=8, opacity=0.75),\n",
    "    name='Observations',\n",
    "    hovertemplate=\n",
    "        'SST: %{x}°C<br>' +  # Show SST value\n",
    "        'pH Level: %{y}<br>' +  # Show pH value\n",
    "        '<extra></extra>'  \n",
    "))\n",
    "\n",
    "# 4. Customize layout\n",
    "fig.update_layout(\n",
    "    title=\"Relationship between Sea Surface Temperature (SST) and pH Level\",\n",
    "    xaxis_title=\"Sea Surface Temperature (°C)\",\n",
    "    yaxis_title=\"pH Level\"\n",
    ")\n",
    "\n",
    "fig.show()\n",
    "\n",
    "correlation = df_activity['SST (°C)'].corr(df_activity['pH Level'])\n",
    "print(f\"Correlation between SST and pH Level: {correlation:.3f}\")"
   ]
  },
  {
   "cell_type": "markdown",
   "id": "cc942551",
   "metadata": {
    "papermill": {
     "duration": 0.008283,
     "end_time": "2025-04-29T10:39:49.496814",
     "exception": false,
     "start_time": "2025-04-29T10:39:49.488531",
     "status": "completed"
    },
    "tags": []
   },
   "source": [
    "We see a corellation of -0.515, which indicates a moderate negative. in this case an increase in SST equals to a decrease in pH Level. higher SST often correlates with increased acidification. Warmer waters can lead to a lower pH (more acidic), which impacts marine organisms. For example, corals, which are sensitive to both heat and acidification, can suffer bleaching or death under these conditions.\n",
    "\n",
    "Points are color-coded to distinguish between marine heatwaves (where SST is above 30°C) and non-heatwave conditions. Red represents heatwaves, and blue represents normal conditions.\n",
    "\n",
    "____"
   ]
  },
  {
   "cell_type": "markdown",
   "id": "b6d1e7a1",
   "metadata": {
    "papermill": {
     "duration": 0.008329,
     "end_time": "2025-04-29T10:39:49.513866",
     "exception": false,
     "start_time": "2025-04-29T10:39:49.505537",
     "status": "completed"
    },
    "tags": []
   },
   "source": [
    "###  Geographical Distribution of SST, pH, and Species Observed"
   ]
  },
  {
   "cell_type": "code",
   "execution_count": 15,
   "id": "7122bbf2",
   "metadata": {
    "execution": {
     "iopub.execute_input": "2025-04-29T10:39:49.532864Z",
     "iopub.status.busy": "2025-04-29T10:39:49.532446Z",
     "iopub.status.idle": "2025-04-29T10:39:49.673799Z",
     "shell.execute_reply": "2025-04-29T10:39:49.672887Z"
    },
    "papermill": {
     "duration": 0.153165,
     "end_time": "2025-04-29T10:39:49.675552",
     "exception": false,
     "start_time": "2025-04-29T10:39:49.522387",
     "status": "completed"
    },
    "tags": []
   },
   "outputs": [
    {
     "data": {
      "text/html": [
       "<html>\n",
       "<head><meta charset=\"utf-8\" /></head>\n",
       "<body>\n",
       "    <div>            <script src=\"https://cdnjs.cloudflare.com/ajax/libs/mathjax/2.7.5/MathJax.js?config=TeX-AMS-MML_SVG\"></script><script type=\"text/javascript\">if (window.MathJax && window.MathJax.Hub && window.MathJax.Hub.Config) {window.MathJax.Hub.Config({SVG: {font: \"STIX-Web\"}});}</script>                <script type=\"text/javascript\">window.PlotlyConfig = {MathJaxConfig: 'local'};</script>\n",
       "        <script charset=\"utf-8\" src=\"https://cdn.plot.ly/plotly-2.35.2.min.js\"></script>                <div id=\"a5e7266d-dd66-4963-9465-524f61c94317\" class=\"plotly-graph-div\" style=\"height:525px; width:100%;\"></div>            <script type=\"text/javascript\">                                    window.PLOTLYENV=window.PLOTLYENV || {};                                    if (document.getElementById(\"a5e7266d-dd66-4963-9465-524f61c94317\")) {                    Plotly.newPlot(                        \"a5e7266d-dd66-4963-9465-524f61c94317\",                        [{\"customdata\":[[\"Red Sea\",29.47,8.107,106,2015],[\"Great Barrier Reef\",29.65,8.004,116,2015],[\"Caribbean Sea\",28.86,7.947,90,2015],[\"Great Barrier Reef\",28.97,7.995,94,2015],[\"Galápagos\",28.6,7.977,110,2015],[\"Red Sea\",29.06,8.009,109,2015],[\"South China Sea\",28.48,7.998,132,2015],[\"Red Sea\",25.56,8.042,152,2015],[\"Maldives\",28.33,8.038,99,2015],[\"Caribbean Sea\",30.09,8.035,77,2015],[\"Galápagos\",27.48,8.101,145,2015],[\"Caribbean Sea\",28.04,8.076,139,2015],[\"Galápagos\",26.84,8.023,148,2015],[\"South China Sea\",30.01,8.038,95,2015],[\"Red Sea\",28.45,8.129,81,2015],[\"South China Sea\",28.05,8.064,94,2015],[\"Caribbean Sea\",30.72,7.98,85,2015],[\"Caribbean Sea\",28.99,8.014,122,2015],[\"Caribbean Sea\",27.45,8.055,124,2015],[\"Maldives\",28.89,8.042,112,2015],[\"Great Barrier Reef\",27.99,8.02,122,2015],[\"Hawaiian Islands\",28.76,8.058,116,2015],[\"Great Barrier Reef\",28.59,8.171,116,2015],[\"Great Barrier Reef\",26.75,8.142,148,2015],[\"Red Sea\",30.6,7.938,107,2015],[\"Red Sea\",27.65,8.072,120,2015],[\"Hawaiian Islands\",26.91,8.106,122,2015],[\"Galápagos\",28.02,8.1,106,2015],[\"Galápagos\",26.09,8.107,148,2015],[\"Maldives\",26.52,8.116,144,2015],[\"Red Sea\",27.48,8.082,134,2015],[\"Great Barrier Reef\",29.21,7.976,122,2015],[\"Maldives\",30.24,7.974,117,2015],[\"Red Sea\",31.35,7.981,80,2015],[\"South China Sea\",28.38,8.069,125,2015],[\"Hawaiian Islands\",30.68,7.993,138,2015],[\"Caribbean Sea\",26.89,8.106,132,2015],[\"Caribbean Sea\",28.39,8.01,98,2015],[\"Great Barrier Reef\",28.82,7.981,119,2015],[\"South China Sea\",28.73,8.048,100,2015],[\"Galápagos\",30.12,8.07,83,2015],[\"South China Sea\",29.27,8.06,170,2015],[\"Red Sea\",29.93,8.054,100,2015],[\"Red Sea\",28.14,8.033,124,2015],[\"Maldives\",29.53,7.949,102,2015],[\"Galápagos\",26.88,8.047,146,2015],[\"Great Barrier Reef\",28.57,8.016,151,2015],[\"Great Barrier Reef\",28.78,8.011,129,2015],[\"Galápagos\",29.26,8.078,94,2015],[\"Hawaiian Islands\",27.52,8.158,135,2015],[\"South China Sea\",31.68,8.038,65,2015],[\"Red Sea\",27.44,8.093,142,2015],[\"Hawaiian Islands\",23.64,8.096,164,2015],[\"Galápagos\",26.35,8.071,143,2015],[\"Great Barrier Reef\",30.24,8.016,87,2015],[\"South China Sea\",27.6,8.071,123,2015],[\"Galápagos\",30.88,7.941,128,2016],[\"Maldives\",29.38,8.046,101,2016],[\"Hawaiian Islands\",27.62,8.11,134,2016],[\"Red Sea\",28.96,8.081,124,2016],[\"Galápagos\",29.62,8.058,108,2016],[\"Hawaiian Islands\",27.61,8.095,125,2016],[\"South China Sea\",29.74,8.066,127,2016],[\"Great Barrier Reef\",28.03,8.076,122,2016],[\"South China Sea\",27.27,8.179,117,2016],[\"South China Sea\",29.69,8.057,117,2016],[\"Red Sea\",28.61,8.014,133,2016],[\"Red Sea\",28.02,8.08,116,2016],[\"Great Barrier Reef\",28.87,8.017,109,2016],[\"Maldives\",26.39,8.056,137,2016],[\"Galápagos\",29.79,8.016,106,2016],[\"Great Barrier Reef\",28.07,8.075,111,2016],[\"Hawaiian Islands\",28.34,8.073,131,2016],[\"Galápagos\",28.52,8.055,108,2016],[\"Maldives\",30.68,8.054,130,2016],[\"Great Barrier Reef\",28.78,8.154,105,2016],[\"Galápagos\",25.31,8.087,140,2016],[\"Caribbean Sea\",31.31,8.041,83,2016],[\"South China Sea\",26.52,8.181,157,2016],[\"Caribbean Sea\",30.53,8.004,118,2016],[\"Galápagos\",28.51,8.052,113,2016],[\"Caribbean Sea\",28.29,8.06,129,2016],[\"Great Barrier Reef\",26.2,8.16,147,2016],[\"Maldives\",28.67,8.105,119,2016],[\"Great Barrier Reef\",28.13,8.106,133,2016],[\"Maldives\",29.53,8.082,83,2016],[\"South China Sea\",28.1,8.094,146,2016],[\"Great Barrier Reef\",26.43,8.006,139,2016],[\"Red Sea\",25.4,8.108,131,2016],[\"Galápagos\",27.09,8.053,118,2016],[\"Great Barrier Reef\",27.02,8.105,126,2016],[\"Galápagos\",26.95,8.053,117,2016],[\"Maldives\",27.45,8.082,128,2016],[\"Caribbean Sea\",29.64,8.001,100,2016],[\"Caribbean Sea\",26.23,8.164,167,2016],[\"Red Sea\",28.97,8.195,132,2016],[\"Caribbean Sea\",26.09,8.108,132,2016],[\"Hawaiian Islands\",26.88,8.167,149,2016],[\"South China Sea\",28.62,8.005,141,2016],[\"Great Barrier Reef\",28.21,8.012,102,2016],[\"Great Barrier Reef\",26.4,8.12,131,2016],[\"Great Barrier Reef\",27.2,8.078,120,2016],[\"Hawaiian Islands\",28.14,8.012,114,2016],[\"South China Sea\",27.03,8.084,145,2016],[\"Great Barrier Reef\",27.51,8.098,118,2016],[\"Galápagos\",28.57,8.062,105,2016],[\"South China Sea\",28.4,7.991,111,2016],[\"Maldives\",27.92,8.112,117,2016],[\"Galápagos\",29.29,8.106,74,2016],[\"Caribbean Sea\",28.2,8.075,113,2016],[\"Great Barrier Reef\",30.25,8.028,107,2016],[\"Great Barrier Reef\",27.85,8.083,120,2016],[\"Great Barrier Reef\",29.81,8.008,124,2017],[\"Great Barrier Reef\",26.99,7.987,129,2017],[\"Hawaiian Islands\",28.99,8.029,127,2017],[\"South China Sea\",29.66,7.953,125,2017],[\"Galápagos\",29.45,8.145,113,2017],[\"Great Barrier Reef\",27.23,8.117,119,2017],[\"Hawaiian Islands\",29.22,8.052,128,2017],[\"Hawaiian Islands\",27.03,8.057,140,2017],[\"Galápagos\",29.8,8.092,113,2017],[\"Maldives\",26.63,7.998,161,2017],[\"Red Sea\",28.92,7.985,152,2017],[\"Caribbean Sea\",29.59,8.052,112,2017],[\"South China Sea\",31.32,8.061,115,2017],[\"Red Sea\",28.31,8.057,138,2017],[\"Red Sea\",28.26,8.033,107,2017],[\"Galápagos\",28.61,7.983,99,2017],[\"Hawaiian Islands\",28.11,7.983,120,2017],[\"Hawaiian Islands\",28.42,8.04,131,2017],[\"Great Barrier Reef\",28.1,8.003,162,2017],[\"South China Sea\",28.46,8.061,118,2017],[\"South China Sea\",28.45,8.024,109,2017],[\"Hawaiian Islands\",30.76,7.872,113,2017],[\"Hawaiian Islands\",27.99,8.042,104,2017],[\"South China Sea\",31.13,8.044,112,2017],[\"Red Sea\",27.71,8.09,109,2017],[\"Galápagos\",27.94,8.097,132,2017],[\"South China Sea\",26.88,8.113,145,2017],[\"Hawaiian Islands\",26.62,8.134,135,2017],[\"Galápagos\",27.44,8.001,107,2017],[\"Hawaiian Islands\",31.13,7.893,119,2017],[\"Great Barrier Reef\",27.68,8.086,127,2017],[\"Great Barrier Reef\",28.73,8.027,116,2017],[\"Hawaiian Islands\",26.48,8.128,142,2017],[\"Hawaiian Islands\",29.02,8.013,103,2017],[\"South China Sea\",29.11,7.953,129,2017],[\"Maldives\",29.97,8.104,120,2017],[\"Great Barrier Reef\",27.56,8.07,137,2017],[\"South China Sea\",27.37,8.042,110,2017],[\"Hawaiian Islands\",27.04,8.132,120,2017],[\"Maldives\",28.78,8.002,127,2017],[\"Great Barrier Reef\",32.34,7.968,98,2017],[\"Caribbean Sea\",31.16,7.966,120,2017],[\"Great Barrier Reef\",29.45,8.08,119,2017],[\"Red Sea\",28.13,8.054,133,2017],[\"South China Sea\",29.07,8.069,122,2017],[\"Maldives\",29.19,8.033,88,2017],[\"Great Barrier Reef\",28.91,7.978,99,2017],[\"Great Barrier Reef\",29.52,8.031,110,2017],[\"Galápagos\",28.64,8.024,112,2017],[\"Hawaiian Islands\",27.78,8.127,113,2017],[\"Galápagos\",30.67,8.016,113,2017],[\"Galápagos\",29.83,8.027,122,2017],[\"Great Barrier Reef\",31.95,7.963,78,2017],[\"Maldives\",27.72,8.045,123,2017],[\"South China Sea\",26.99,8.042,134,2017],[\"Red Sea\",27.0,8.129,131,2018],[\"Maldives\",26.82,8.103,139,2018],[\"Great Barrier Reef\",32.18,7.944,75,2018],[\"Great Barrier Reef\",27.54,8.129,150,2018],[\"Red Sea\",29.21,8.008,122,2018],[\"Great Barrier Reef\",30.82,8.093,87,2018],[\"Maldives\",29.0,8.073,145,2018],[\"Great Barrier Reef\",26.43,8.055,140,2018],[\"Galápagos\",28.84,8.042,134,2018],[\"Hawaiian Islands\",27.77,8.117,137,2018],[\"Red Sea\",27.96,8.09,142,2018],[\"Maldives\",30.1,8.076,124,2018],[\"Great Barrier Reef\",28.72,8.106,105,2018],[\"Maldives\",28.54,8.113,122,2018],[\"Great Barrier Reef\",29.62,8.06,141,2018],[\"Caribbean Sea\",28.87,8.121,114,2018],[\"Galápagos\",28.78,8.022,120,2018],[\"Hawaiian Islands\",28.7,8.011,135,2018],[\"Great Barrier Reef\",29.07,8.117,113,2018],[\"Great Barrier Reef\",26.33,7.984,148,2018],[\"Maldives\",29.56,8.041,100,2018],[\"Hawaiian Islands\",29.48,8.026,137,2018],[\"Maldives\",27.46,8.068,134,2018],[\"Maldives\",26.62,8.16,137,2018],[\"Great Barrier Reef\",29.19,8.065,119,2018],[\"Hawaiian Islands\",28.79,8.08,115,2018],[\"Hawaiian Islands\",31.2,7.994,71,2018],[\"Hawaiian Islands\",29.76,7.992,100,2018],[\"Caribbean Sea\",24.86,8.044,167,2018],[\"Caribbean Sea\",27.05,8.077,134,2018],[\"Great Barrier Reef\",29.82,8.013,107,2018],[\"South China Sea\",28.13,8.023,108,2018],[\"Red Sea\",29.46,8.002,118,2018],[\"Hawaiian Islands\",28.59,8.016,129,2018],[\"Great Barrier Reef\",29.45,8.083,102,2018],[\"South China Sea\",31.61,7.953,114,2018],[\"Caribbean Sea\",27.77,8.048,133,2018],[\"Red Sea\",28.46,8.158,146,2018],[\"Maldives\",28.68,8.077,102,2018],[\"Maldives\",29.1,8.07,106,2018],[\"Hawaiian Islands\",26.3,8.105,157,2018],[\"Galápagos\",30.12,8.016,101,2018],[\"Red Sea\",26.14,8.171,164,2018],[\"Caribbean Sea\",29.24,8.048,104,2018],[\"Great Barrier Reef\",30.26,8.042,96,2018],[\"Caribbean Sea\",30.22,7.929,97,2018],[\"Great Barrier Reef\",30.24,7.992,107,2018],[\"Hawaiian Islands\",28.62,7.984,133,2018],[\"Red Sea\",27.86,8.138,139,2018],[\"Great Barrier Reef\",28.02,8.163,130,2018],[\"Caribbean Sea\",28.86,8.03,113,2018],[\"Hawaiian Islands\",29.59,8.031,120,2018],[\"Hawaiian Islands\",25.5,8.156,155,2018],[\"Caribbean Sea\",31.63,7.98,105,2018],[\"Red Sea\",26.92,8.05,164,2018],[\"Great Barrier Reef\",29.81,8.049,109,2019],[\"South China Sea\",28.41,8.062,136,2019],[\"Red Sea\",29.46,7.974,134,2019],[\"South China Sea\",27.37,8.069,136,2019],[\"Red Sea\",30.92,8.024,92,2019],[\"Great Barrier Reef\",26.66,8.117,148,2019],[\"Hawaiian Islands\",28.27,8.061,119,2019],[\"Red Sea\",26.34,8.173,128,2019],[\"Galápagos\",27.54,8.003,154,2019],[\"Galápagos\",31.88,8.032,81,2019],[\"Hawaiian Islands\",26.42,8.009,156,2019],[\"Red Sea\",29.35,8.063,124,2019],[\"South China Sea\",28.66,8.044,107,2019],[\"Caribbean Sea\",28.35,8.004,104,2019],[\"Red Sea\",29.88,7.944,91,2019],[\"South China Sea\",28.16,8.084,108,2019],[\"Red Sea\",27.6,8.084,105,2019],[\"Maldives\",29.33,8.045,132,2019],[\"Red Sea\",28.68,8.073,118,2019],[\"Maldives\",27.51,8.0,156,2019],[\"Hawaiian Islands\",27.42,8.116,126,2019],[\"Hawaiian Islands\",28.92,8.0,147,2019],[\"Maldives\",29.45,8.052,107,2019],[\"Caribbean Sea\",28.28,8.103,155,2019],[\"Caribbean Sea\",28.37,8.182,109,2019],[\"Great Barrier Reef\",27.67,8.095,152,2019],[\"Red Sea\",27.63,8.017,118,2019],[\"Maldives\",27.35,8.085,108,2019],[\"Caribbean Sea\",25.51,8.129,168,2019],[\"Red Sea\",29.13,8.002,112,2019],[\"Caribbean Sea\",29.31,7.988,114,2019],[\"Caribbean Sea\",27.14,8.04,152,2019],[\"Galápagos\",26.86,8.067,154,2019],[\"Great Barrier Reef\",29.09,8.048,109,2019],[\"South China Sea\",29.56,8.077,97,2019],[\"Caribbean Sea\",29.26,7.98,80,2019],[\"South China Sea\",28.49,8.092,121,2019],[\"Galápagos\",28.06,8.072,129,2019],[\"Great Barrier Reef\",28.24,8.017,130,2019],[\"Maldives\",28.49,8.105,127,2019],[\"Hawaiian Islands\",30.59,8.036,99,2019],[\"Caribbean Sea\",28.04,8.029,121,2019],[\"Galápagos\",28.39,8.076,122,2019],[\"Caribbean Sea\",28.28,7.994,131,2019],[\"Red Sea\",28.18,8.131,125,2019],[\"Galápagos\",28.05,8.04,127,2019],[\"Caribbean Sea\",29.16,8.096,127,2019],[\"South China Sea\",29.9,7.954,102,2019],[\"Caribbean Sea\",29.31,8.072,103,2019],[\"Caribbean Sea\",29.09,7.964,116,2019],[\"Hawaiian Islands\",28.68,7.998,136,2019],[\"Maldives\",27.1,8.056,120,2019],[\"South China Sea\",26.44,8.01,162,2019],[\"Caribbean Sea\",30.06,7.989,131,2019],[\"South China Sea\",31.74,7.955,98,2019],[\"Hawaiian Islands\",30.84,8.005,85,2019],[\"Red Sea\",31.52,7.996,84,2020],[\"South China Sea\",27.04,8.139,124,2020],[\"Maldives\",30.28,8.05,117,2020],[\"South China Sea\",30.75,7.989,93,2020],[\"Red Sea\",29.18,8.145,103,2020],[\"Red Sea\",28.9,8.118,123,2020],[\"Great Barrier Reef\",27.95,8.019,109,2020],[\"South China Sea\",26.85,8.072,132,2020],[\"Red Sea\",29.79,7.995,104,2020],[\"Caribbean Sea\",30.91,8.026,106,2020],[\"Red Sea\",28.77,7.98,123,2020],[\"Great Barrier Reef\",29.38,8.094,111,2020],[\"Caribbean Sea\",28.86,8.173,124,2020],[\"Galápagos\",29.07,8.103,124,2020],[\"Galápagos\",28.19,8.014,114,2020],[\"Galápagos\",29.09,7.978,120,2020],[\"Caribbean Sea\",28.3,8.055,110,2020],[\"Great Barrier Reef\",29.13,7.993,107,2020],[\"Caribbean Sea\",31.09,7.978,97,2020],[\"Hawaiian Islands\",25.86,8.027,165,2020],[\"Great Barrier Reef\",27.65,8.076,151,2020],[\"South China Sea\",30.31,8.065,110,2020],[\"Caribbean Sea\",27.27,8.074,129,2020],[\"Caribbean Sea\",29.93,8.026,127,2020],[\"Caribbean Sea\",27.42,7.978,129,2020],[\"Great Barrier Reef\",29.45,7.98,138,2020],[\"Red Sea\",28.16,8.009,117,2020],[\"Red Sea\",30.81,7.979,80,2020],[\"South China Sea\",28.98,8.033,108,2020],[\"South China Sea\",27.7,8.007,84,2020],[\"Caribbean Sea\",30.99,7.977,86,2020],[\"South China Sea\",28.95,8.079,133,2020],[\"Caribbean Sea\",27.18,8.035,129,2020],[\"Maldives\",27.3,8.149,127,2020],[\"Red Sea\",24.86,8.167,167,2020],[\"South China Sea\",29.27,7.956,104,2020],[\"Maldives\",28.94,7.973,122,2020],[\"Red Sea\",30.25,7.978,90,2020],[\"Red Sea\",26.98,8.084,141,2020],[\"Caribbean Sea\",27.95,8.02,126,2020],[\"South China Sea\",29.15,8.082,78,2020],[\"South China Sea\",31.59,7.989,78,2020],[\"Galápagos\",27.53,8.029,122,2020],[\"Caribbean Sea\",30.94,8.017,91,2020],[\"Hawaiian Islands\",29.82,8.02,104,2020],[\"Great Barrier Reef\",27.37,8.051,148,2020],[\"Caribbean Sea\",29.88,7.989,134,2020],[\"Red Sea\",30.42,8.015,113,2020],[\"Maldives\",27.53,8.121,124,2020],[\"Hawaiian Islands\",29.14,8.14,97,2020],[\"Caribbean Sea\",28.38,8.075,105,2020],[\"Great Barrier Reef\",29.98,8.08,144,2020],[\"Hawaiian Islands\",28.79,8.027,122,2020],[\"South China Sea\",30.48,7.96,117,2020],[\"Galápagos\",25.32,8.083,171,2020],[\"Red Sea\",27.74,8.107,135,2021],[\"Caribbean Sea\",27.91,8.016,150,2021],[\"Red Sea\",30.78,8.054,90,2021],[\"Red Sea\",27.14,8.093,115,2021],[\"South China Sea\",28.8,8.058,113,2021],[\"South China Sea\",29.81,7.957,108,2021],[\"Great Barrier Reef\",27.48,8.096,132,2021],[\"Caribbean Sea\",29.45,8.086,116,2021],[\"Hawaiian Islands\",31.35,7.986,76,2021],[\"Galápagos\",25.24,8.158,144,2021],[\"Great Barrier Reef\",28.79,8.08,110,2021],[\"South China Sea\",29.61,8.059,94,2021],[\"Galápagos\",29.71,8.044,135,2021],[\"Great Barrier Reef\",28.47,8.035,132,2021],[\"Great Barrier Reef\",26.9,8.13,161,2021],[\"Great Barrier Reef\",28.61,8.106,105,2021],[\"Caribbean Sea\",29.25,8.044,127,2021],[\"Hawaiian Islands\",27.52,7.978,137,2021],[\"Maldives\",29.93,8.102,125,2021],[\"Maldives\",28.61,7.968,115,2021],[\"Maldives\",28.24,8.061,130,2021],[\"Maldives\",27.57,8.078,118,2021],[\"Maldives\",28.44,8.03,110,2021],[\"Caribbean Sea\",26.24,8.133,143,2021],[\"South China Sea\",27.37,8.089,151,2021],[\"Maldives\",28.26,8.088,125,2021],[\"Red Sea\",27.31,8.128,132,2021],[\"Galápagos\",27.44,7.996,103,2021],[\"Great Barrier Reef\",29.26,7.956,125,2021],[\"Maldives\",30.92,8.046,91,2021],[\"Galápagos\",27.42,8.061,115,2021],[\"Great Barrier Reef\",28.16,8.024,125,2021],[\"Hawaiian Islands\",30.62,8.003,99,2021],[\"Maldives\",29.93,8.036,96,2021],[\"Galápagos\",28.66,8.045,115,2021],[\"Hawaiian Islands\",27.68,8.071,130,2021],[\"Great Barrier Reef\",27.2,8.124,139,2021],[\"Red Sea\",26.71,8.132,152,2021],[\"South China Sea\",28.12,8.072,127,2021],[\"Red Sea\",29.69,7.939,127,2021],[\"Hawaiian Islands\",30.19,7.962,96,2021],[\"Galápagos\",28.04,8.098,144,2021],[\"South China Sea\",28.19,7.972,111,2021],[\"Galápagos\",26.65,8.057,138,2021],[\"Great Barrier Reef\",29.14,8.014,113,2021],[\"Great Barrier Reef\",27.85,8.058,125,2021],[\"South China Sea\",30.9,8.03,91,2021],[\"Red Sea\",30.26,8.033,100,2021],[\"Maldives\",26.81,8.024,139,2021],[\"Red Sea\",29.46,8.056,83,2021],[\"Great Barrier Reef\",27.57,8.06,122,2021],[\"South China Sea\",26.89,8.094,167,2021],[\"Hawaiian Islands\",28.07,8.114,153,2021],[\"Red Sea\",27.8,8.059,166,2021],[\"Red Sea\",29.2,8.09,114,2021],[\"South China Sea\",28.9,8.025,125,2021],[\"Red Sea\",28.46,8.107,119,2022],[\"Hawaiian Islands\",27.14,8.044,124,2022],[\"South China Sea\",33.21,8.009,76,2022],[\"Hawaiian Islands\",29.28,8.067,120,2022],[\"Hawaiian Islands\",28.27,8.045,139,2022],[\"Red Sea\",29.48,8.04,109,2022],[\"Hawaiian Islands\",29.92,7.983,111,2022],[\"South China Sea\",27.56,8.112,143,2022],[\"Caribbean Sea\",29.27,8.002,118,2022],[\"South China Sea\",30.28,8.05,107,2022],[\"Caribbean Sea\",27.18,8.068,122,2022],[\"Galápagos\",27.31,8.058,103,2022],[\"Galápagos\",27.27,8.107,146,2022],[\"Red Sea\",27.35,8.026,143,2022],[\"South China Sea\",25.49,8.142,131,2022],[\"Galápagos\",30.54,7.944,54,2022],[\"Hawaiian Islands\",30.36,8.023,94,2022],[\"Great Barrier Reef\",29.21,8.061,128,2022],[\"South China Sea\",27.74,8.064,101,2022],[\"Red Sea\",27.71,8.073,115,2022],[\"Galápagos\",28.49,8.034,122,2022],[\"Great Barrier Reef\",27.51,8.055,109,2022],[\"Galápagos\",29.81,8.037,109,2022],[\"Great Barrier Reef\",29.09,8.033,118,2022],[\"Galápagos\",28.3,8.125,135,2022],[\"Hawaiian Islands\",28.63,8.057,109,2022],[\"South China Sea\",30.31,8.007,95,2022],[\"Red Sea\",26.33,7.979,133,2022],[\"Red Sea\",28.28,8.032,144,2022],[\"Maldives\",29.43,7.974,126,2022],[\"Great Barrier Reef\",26.89,8.004,148,2022],[\"Great Barrier Reef\",27.2,8.132,115,2022],[\"Red Sea\",29.46,8.014,119,2022],[\"Red Sea\",28.56,7.999,130,2022],[\"Great Barrier Reef\",27.01,7.952,132,2022],[\"Galápagos\",28.47,8.037,120,2022],[\"South China Sea\",30.17,8.052,114,2022],[\"Galápagos\",29.51,8.059,104,2022],[\"Red Sea\",30.82,7.942,74,2022],[\"Hawaiian Islands\",28.76,8.057,114,2022],[\"Hawaiian Islands\",27.26,8.07,107,2022],[\"Hawaiian Islands\",28.53,8.061,100,2022],[\"Maldives\",28.02,8.124,133,2022],[\"South China Sea\",29.25,8.092,136,2022],[\"Hawaiian Islands\",26.61,8.076,145,2022],[\"Great Barrier Reef\",28.02,8.067,112,2022],[\"South China Sea\",28.78,8.146,117,2022],[\"Hawaiian Islands\",28.23,8.124,89,2022],[\"Galápagos\",28.1,8.037,132,2022],[\"Caribbean Sea\",31.54,7.921,92,2022],[\"Red Sea\",28.53,8.017,127,2022],[\"South China Sea\",29.58,7.964,94,2022],[\"Caribbean Sea\",29.03,8.024,114,2022],[\"Hawaiian Islands\",29.82,8.001,99,2022],[\"Caribbean Sea\",28.4,8.157,117,2022],[\"Caribbean Sea\",29.62,8.019,99,2023],[\"Red Sea\",27.6,7.975,144,2023],[\"Red Sea\",25.54,8.154,131,2023],[\"Red Sea\",27.07,8.058,144,2023],[\"Red Sea\",31.46,7.912,114,2023],[\"Hawaiian Islands\",26.5,8.08,153,2023],[\"Caribbean Sea\",26.32,8.093,122,2023],[\"Caribbean Sea\",27.87,7.932,129,2023],[\"Galápagos\",30.35,7.959,111,2023],[\"Caribbean Sea\",28.98,8.015,113,2023],[\"Red Sea\",27.49,8.072,113,2023],[\"Great Barrier Reef\",26.78,8.118,144,2023],[\"South China Sea\",30.29,7.965,95,2023],[\"Galápagos\",28.12,8.028,145,2023],[\"South China Sea\",28.63,8.007,106,2023],[\"Maldives\",30.6,8.04,76,2023],[\"South China Sea\",27.92,8.074,155,2023],[\"Great Barrier Reef\",28.23,8.082,136,2023],[\"Red Sea\",28.85,8.068,126,2023],[\"Red Sea\",27.57,8.041,112,2023],[\"Great Barrier Reef\",29.19,8.12,113,2023],[\"Hawaiian Islands\",27.92,8.096,138,2023],[\"Red Sea\",26.22,8.078,156,2023],[\"Galápagos\",28.57,8.049,109,2023],[\"Hawaiian Islands\",29.24,8.009,80,2023],[\"South China Sea\",27.21,8.111,127,2023],[\"Hawaiian Islands\",29.53,7.961,127,2023],[\"Galápagos\",28.72,7.957,123,2023],[\"Maldives\",26.22,8.151,133,2023],[\"Caribbean Sea\",25.94,8.045,164,2023],[\"Galápagos\",28.74,8.07,134,2023],[\"Hawaiian Islands\",26.51,8.069,143,2023],[\"Caribbean Sea\",29.02,8.037,115,2023],[\"Caribbean Sea\",27.11,8.122,149,2023],[\"Maldives\",26.26,8.062,141,2023],[\"South China Sea\",26.99,8.09,136,2023],[\"Galápagos\",27.68,8.053,153,2023],[\"Caribbean Sea\",29.74,8.066,90,2023],[\"Red Sea\",26.82,8.038,152,2023],[\"Hawaiian Islands\",29.01,8.059,94,2023],[\"Galápagos\",28.16,8.055,100,2023],[\"Red Sea\",28.41,8.108,115,2023],[\"Great Barrier Reef\",28.46,8.042,123,2023],[\"South China Sea\",29.74,8.003,83,2023],[\"Red Sea\",26.56,8.123,131,2023],[\"Caribbean Sea\",28.15,8.018,113,2023],[\"Great Barrier Reef\",28.4,8.016,131,2023],[\"Hawaiian Islands\",28.86,8.068,123,2023],[\"Great Barrier Reef\",29.22,7.974,125,2023],[\"Hawaiian Islands\",28.56,8.083,116,2023],[\"Great Barrier Reef\",27.32,8.005,136,2023],[\"Galápagos\",30.68,7.939,108,2023],[\"Maldives\",31.49,7.952,81,2023],[\"Caribbean Sea\",28.43,8.053,91,2023],[\"Red Sea\",27.76,8.137,108,2023],[\"Red Sea\",28.08,8.098,129,2023]],\"geo\":\"geo\",\"hovertemplate\":\"Species Observed=%{customdata[3]}\\u003cbr\\u003eLatitude=%{lat}\\u003cbr\\u003eLongitude=%{lon}\\u003cbr\\u003eLocation=%{customdata[0]}\\u003cbr\\u003eSST (°C)=%{marker.color}\\u003cbr\\u003epH Level=%{customdata[2]}\\u003cbr\\u003eYear=%{customdata[4]}\\u003cextra\\u003e\\u003c\\u002fextra\\u003e\",\"lat\":[20.0248,-18.2988,14.9768,-18.3152,-0.8805,20.0055,9.9699,19.939,3.2397,14.964,-0.9376,15.0466,-0.9778,10.0678,20.0181,10.0411,14.989,14.9749,15.0049,3.1296,-18.3579,19.917,-18.383,-18.272,20.0396,20.1095,19.8193,-0.8763,-0.9424,3.2419,20.0125,-18.3228,3.1541,20.0206,9.9555,19.9382,15.0313,15.0357,-18.3094,10.0193,-0.9359,9.9531,20.0285,20.0379,3.3185,-0.8994,-18.3236,-18.2554,-0.9934,19.8801,9.937,19.9758,19.8505,-1.0162,-18.215,10.0231,-0.9481,3.1052,19.8864,19.9654,-0.9952,19.9027,9.9891,-18.286,10.0048,9.9393,19.9994,19.9926,-18.3282,3.2144,-0.9383,-18.3372,19.9228,-0.9739,3.204,-18.3255,-0.9958,15.0075,9.9551,14.9765,-1.0335,15.0311,-18.2515,3.1654,-18.1841,3.2712,9.9408,-18.2834,20.0192,-0.9203,-18.2902,-0.9934,3.301,14.989,14.9862,19.9875,14.9936,19.8257,9.9996,-18.2602,-18.2408,-18.3115,19.9103,10.0378,-18.3706,-1.044,10.0319,3.2052,-0.912,14.9602,-18.2828,-18.3077,-18.2726,-18.3075,19.8977,9.8894,-0.9369,-18.2747,19.9004,19.8713,-0.916,3.2966,20.0327,15.0065,9.9605,19.9744,19.9154,-1.0365,19.88,19.8832,-18.1947,10.003,9.9713,19.9021,19.9591,9.9611,20.0361,-0.9182,9.982,19.8813,-0.9799,19.9271,-18.2765,-18.2319,19.9122,19.8876,10.0098,3.2264,-18.3791,9.9637,19.8506,3.3344,-18.3159,14.9648,-18.2517,19.9215,10.0089,3.2568,-18.2656,-18.2344,-0.9069,19.8813,-0.9631,-1.0281,-18.313,3.2755,9.9328,20.0117,3.2003,-18.2625,-18.3183,19.9715,-18.277,3.1834,-18.2959,-0.8641,20.0231,20.0923,3.2438,-18.2547,3.2212,-18.2848,14.9846,-0.9398,19.9505,-18.3633,-18.3149,3.1777,19.8328,3.1493,3.1907,-18.2312,19.9289,19.9688,19.9032,14.9055,15.0393,-18.345,10.0104,19.9859,19.9668,-18.2674,10.0659,15.0099,20.0261,3.2246,3.1899,19.9755,-0.8696,20.0442,14.9687,-18.3207,15.0386,-18.3431,19.8945,19.9753,-18.3045,15.0215,19.8932,19.8928,15.0499,19.948,-18.2966,10.0182,20.0553,9.9427,20.0161,-18.2389,19.8819,20.0008,-1.0034,-0.9033,19.7718,20.122,10.0379,14.986,20.009,10.047,20.0053,3.2248,20.0063,3.2048,19.8346,19.9592,3.1434,14.9935,14.9721,-18.2051,19.981,3.1416,15.0165,19.9395,15.0279,14.9293,-0.8992,-18.28,10.0067,14.9334,10.0194,-0.9587,-18.3205,3.1579,19.8955,14.9344,-0.951,14.9012,20.0765,-0.9707,15.008,9.9258,14.9415,14.8704,19.896,3.1949,9.9914,14.9895,10.0339,19.9118,20.023,10.0092,3.1505,9.9622,20.0664,20.0464,-18.2602,9.9017,20.0154,15.0141,20.0331,-18.3197,15.0154,-1.0418,-0.9607,-0.9244,15.0598,-18.2547,15.0361,19.9434,-18.3147,10.1003,15.0389,14.9773,14.9429,-18.2932,20.0611,20.0544,10.007,9.9203,14.9986,10.0234,14.995,3.2212,19.9989,9.9859,3.2425,19.9982,20.01,15.0347,9.9464,9.9495,-0.9629,14.9523,19.8822,-18.1274,15.0057,20.054,3.227,19.8766,15.0012,-18.2657,19.9258,9.9852,-0.8879,19.9989,14.9881,19.9839,20.0202,10.0594,10.0293,-18.1902,15.0175,19.8847,-0.8984,-18.2916,10.0257,-0.8995,-18.2983,-18.3679,-18.2923,15.0119,19.7616,3.2715,3.2848,3.1606,3.205,3.1368,14.9297,9.9271,3.109,19.9624,-0.8587,-18.3663,3.1786,-0.9984,-18.2937,19.9189,3.2382,-0.9357,19.8904,-18.3385,19.9677,9.9665,19.9933,19.8137,-1.0091,10.0698,-0.9056,-18.2731,-18.2598,9.9815,20.0348,3.2252,20.0866,-18.3142,9.901,19.8508,19.9385,19.9249,10.0154,19.9815,19.8081,10.0687,19.8941,19.9013,20.0297,19.8774,9.9514,15.0257,10.04,15.0535,-0.9876,-0.9431,19.9196,9.9903,-0.9508,19.906,-18.2467,10.138,19.9653,-0.8977,-18.2458,-0.9948,-18.2446,-0.9829,19.9451,9.9842,20.0,19.939,3.2191,-18.2909,-18.2683,20.0821,19.9728,-18.3128,-0.8332,10.0274,-0.9319,19.9713,19.905,19.9713,19.888,3.172,9.9444,19.846,-18.2377,10.1045,19.8873,-0.8771,14.9201,19.9669,10.0902,15.0236,19.8343,15.0133,14.9821,20.0661,19.9658,20.0365,20.0053,19.902,14.9936,15.0182,-0.932,15.0596,20.0174,-18.3414,9.9137,-0.9307,10.0869,3.2289,10.0526,-18.1316,19.984,20.0211,-18.2651,19.9302,19.9853,-0.925,19.9317,10.0549,19.9498,-0.9407,3.1513,15.0767,-0.9616,19.9692,14.9518,14.9621,3.1105,9.9275,-0.9899,15.067,20.0409,19.9104,-0.9014,20.0257,-18.2589,9.9815,20.0875,15.0132,-18.3329,19.9712,-18.2833,19.9412,-18.2335,-0.9177,3.1725,15.043,19.9993,20.0407],\"legendgroup\":\"\",\"lon\":[38.4931,147.7782,-75.0233,147.6486,-90.9769,38.4425,115.0926,38.5104,73.2293,-75.023,-90.9849,-75.042,-90.9749,114.9964,38.5769,115.0044,-74.9821,-74.9542,-74.9516,73.2355,147.6782,-155.4885,147.6979,147.6975,38.4545,38.4505,-155.5794,-91.0048,-90.9002,73.1589,38.5173,147.7925,73.2601,38.5411,114.9592,-155.5821,-75.0429,-74.9763,147.742,114.9558,-90.9376,115.0258,38.5568,38.4614,73.1273,-90.9624,147.71,147.5979,-90.9713,-155.6065,115.0459,38.5633,-155.5858,-90.884,147.6274,115.01,-90.9325,73.2131,-155.6075,38.545,-90.9936,-155.5189,115.0549,147.7333,115.0298,115.0579,38.4551,38.4587,147.7114,73.1483,-90.8918,147.6983,-155.5062,-90.9544,73.2456,147.7428,-90.9956,-74.9829,115.0246,-75.0857,-90.9956,-75.0534,147.643,73.2983,147.787,73.1725,114.898,147.7806,38.4984,-90.9473,147.747,-90.971,73.2225,-74.9693,-75.1151,38.5288,-75.0478,-155.6151,115.074,147.6473,147.7947,147.6696,-155.5853,115.025,147.7264,-91.047,114.9169,73.1777,-91.0221,-74.9711,147.6914,147.6748,147.803,147.5973,-155.499,115.0118,-90.9864,147.6762,-155.6067,-155.5963,-91.0117,73.182,38.4972,-74.9945,115.0236,38.4505,38.5765,-90.9244,-155.4993,-155.7176,147.7555,115.0007,114.9727,-155.5955,-155.6865,114.9445,38.4435,-90.9776,115.058,-155.5665,-90.9131,-155.6468,147.6944,147.7049,-155.6683,-155.5819,114.9511,73.2335,147.6352,115.0093,-155.6504,73.2454,147.7053,-75.0017,147.6711,38.4636,114.9332,73.2624,147.7096,147.6972,-90.9914,-155.5717,-90.9876,-90.9522,147.7697,73.2997,114.9541,38.5775,73.2544,147.7137,147.6714,38.4584,147.6234,73.235,147.6593,-90.9915,-155.6093,38.5292,73.2461,147.6908,73.201,147.6312,-74.989,-90.9352,-155.6341,147.6713,147.7933,73.1696,-155.5392,73.1444,73.2383,147.7163,-155.5163,-155.6166,-155.6169,-75.0226,-74.9787,147.7744,114.8979,38.5899,-155.5366,147.744,115.0099,-75.0326,38.4713,73.2226,73.1373,-155.6441,-90.9885,38.5326,-74.9802,147.6979,-75.1424,147.6345,-155.5589,38.4222,147.6817,-74.9485,-155.5847,-155.5789,-75.1448,38.5306,147.7101,115.1202,38.5594,115.0151,38.5211,147.7587,-155.514,38.4452,-91.0733,-91.0,-155.4683,38.5692,115.0141,-75.0846,38.5696,114.9509,38.4333,73.2197,38.4785,73.1856,-155.6174,-155.6165,73.2362,-74.9978,-75.0685,147.7831,38.4898,73.2224,-74.9583,38.5836,-74.9962,-75.0056,-90.9351,147.8152,114.9924,-75.0918,115.1246,-90.9196,147.7488,73.2221,-155.5419,-75.0533,-90.9391,-75.047,38.5609,-90.9963,-74.9998,114.8723,-75.0901,-75.0273,-155.5538,73.2193,115.0856,-75.0335,114.9756,-155.5177,38.4661,114.9326,73.2475,114.9289,38.5278,38.5029,147.7528,115.1028,38.5408,-75.0124,38.5587,147.6728,-74.9149,-90.9279,-91.0268,-90.8821,-75.0305,147.6932,-75.0186,-155.6537,147.8271,115.1031,-75.0276,-74.9652,-75.0097,147.7749,38.5291,38.5942,114.9116,115.0257,-74.9114,114.9501,-75.0102,73.2664,38.4626,115.0033,73.158,38.4192,38.5574,-74.9912,114.8539,115.031,-90.8969,-74.9939,-155.661,147.7141,-75.0719,38.4776,73.1784,-155.6306,-74.9294,147.6898,-155.5665,115.0084,-90.9715,38.45,-75.0183,38.5609,38.4988,114.9768,114.9763,147.6492,-74.9755,-155.5492,-90.9716,147.7158,114.987,-90.9924,147.6817,147.6465,147.6908,-74.9512,-155.5489,73.2138,73.2578,73.3292,73.3055,73.1901,-75.0042,114.9845,73.2265,38.484,-90.9686,147.7126,73.228,-91.0732,147.703,-155.6373,73.2324,-91.0228,-155.6769,147.7625,38.5888,115.0696,38.5405,-155.5312,-90.9763,114.9719,-90.8848,147.6587,147.6995,114.9871,38.4833,73.1422,38.6116,147.6598,115.0374,-155.7093,38.5248,38.5127,114.9804,38.5189,-155.5197,114.8932,-155.5685,-155.5927,38.353,-155.5266,114.931,-74.9637,115.0377,-75.0013,-90.9728,-90.9655,38.4619,114.9868,-90.9517,-155.4928,147.6505,115.0196,38.4795,-90.9656,147.6558,-90.9894,147.6923,-91.0875,-155.521,115.0308,38.5301,38.4746,73.2357,147.7327,147.6541,38.455,38.4919,147.6878,-90.9264,114.941,-90.9646,38.5051,-155.5803,-155.6628,-155.4997,73.2019,115.0123,-155.6233,147.6954,114.9196,-155.6007,-91.0368,-74.9769,38.5213,114.9905,-74.9258,-155.5526,-75.0218,-75.0324,38.571,38.5395,38.5007,38.5292,-155.6277,-74.9244,-74.9557,-90.9454,-75.0889,38.4756,147.7332,114.9661,-90.9264,115.0489,73.2416,114.9501,147.7295,38.5898,38.5419,147.7381,-155.6374,38.4964,-90.9406,-155.5618,114.9761,-155.5519,-90.9841,73.1531,-75.0268,-90.993,-155.6008,-75.0479,-75.0115,73.1742,114.9539,-90.9568,-75.065,38.5769,-155.5552,-90.9071,38.5286,147.6482,114.9934,38.5691,-74.9853,147.6576,-155.6118,147.7363,-155.621,147.8174,-90.9771,73.3067,-75.0194,38.4655,38.4861],\"marker\":{\"color\":[29.47,29.65,28.86,28.97,28.6,29.06,28.48,25.56,28.33,30.09,27.48,28.04,26.84,30.01,28.45,28.05,30.72,28.99,27.45,28.89,27.99,28.76,28.59,26.75,30.6,27.65,26.91,28.02,26.09,26.52,27.48,29.21,30.24,31.35,28.38,30.68,26.89,28.39,28.82,28.73,30.12,29.27,29.93,28.14,29.53,26.88,28.57,28.78,29.26,27.52,31.68,27.44,23.64,26.35,30.24,27.6,30.88,29.38,27.62,28.96,29.62,27.61,29.74,28.03,27.27,29.69,28.61,28.02,28.87,26.39,29.79,28.07,28.34,28.52,30.68,28.78,25.31,31.31,26.52,30.53,28.51,28.29,26.2,28.67,28.13,29.53,28.1,26.43,25.4,27.09,27.02,26.95,27.45,29.64,26.23,28.97,26.09,26.88,28.62,28.21,26.4,27.2,28.14,27.03,27.51,28.57,28.4,27.92,29.29,28.2,30.25,27.85,29.81,26.99,28.99,29.66,29.45,27.23,29.22,27.03,29.8,26.63,28.92,29.59,31.32,28.31,28.26,28.61,28.11,28.42,28.1,28.46,28.45,30.76,27.99,31.13,27.71,27.94,26.88,26.62,27.44,31.13,27.68,28.73,26.48,29.02,29.11,29.97,27.56,27.37,27.04,28.78,32.34,31.16,29.45,28.13,29.07,29.19,28.91,29.52,28.64,27.78,30.67,29.83,31.95,27.72,26.99,27.0,26.82,32.18,27.54,29.21,30.82,29.0,26.43,28.84,27.77,27.96,30.1,28.72,28.54,29.62,28.87,28.78,28.7,29.07,26.33,29.56,29.48,27.46,26.62,29.19,28.79,31.2,29.76,24.86,27.05,29.82,28.13,29.46,28.59,29.45,31.61,27.77,28.46,28.68,29.1,26.3,30.12,26.14,29.24,30.26,30.22,30.24,28.62,27.86,28.02,28.86,29.59,25.5,31.63,26.92,29.81,28.41,29.46,27.37,30.92,26.66,28.27,26.34,27.54,31.88,26.42,29.35,28.66,28.35,29.88,28.16,27.6,29.33,28.68,27.51,27.42,28.92,29.45,28.28,28.37,27.67,27.63,27.35,25.51,29.13,29.31,27.14,26.86,29.09,29.56,29.26,28.49,28.06,28.24,28.49,30.59,28.04,28.39,28.28,28.18,28.05,29.16,29.9,29.31,29.09,28.68,27.1,26.44,30.06,31.74,30.84,31.52,27.04,30.28,30.75,29.18,28.9,27.95,26.85,29.79,30.91,28.77,29.38,28.86,29.07,28.19,29.09,28.3,29.13,31.09,25.86,27.65,30.31,27.27,29.93,27.42,29.45,28.16,30.81,28.98,27.7,30.99,28.95,27.18,27.3,24.86,29.27,28.94,30.25,26.98,27.95,29.15,31.59,27.53,30.94,29.82,27.37,29.88,30.42,27.53,29.14,28.38,29.98,28.79,30.48,25.32,27.74,27.91,30.78,27.14,28.8,29.81,27.48,29.45,31.35,25.24,28.79,29.61,29.71,28.47,26.9,28.61,29.25,27.52,29.93,28.61,28.24,27.57,28.44,26.24,27.37,28.26,27.31,27.44,29.26,30.92,27.42,28.16,30.62,29.93,28.66,27.68,27.2,26.71,28.12,29.69,30.19,28.04,28.19,26.65,29.14,27.85,30.9,30.26,26.81,29.46,27.57,26.89,28.07,27.8,29.2,28.9,28.46,27.14,33.21,29.28,28.27,29.48,29.92,27.56,29.27,30.28,27.18,27.31,27.27,27.35,25.49,30.54,30.36,29.21,27.74,27.71,28.49,27.51,29.81,29.09,28.3,28.63,30.31,26.33,28.28,29.43,26.89,27.2,29.46,28.56,27.01,28.47,30.17,29.51,30.82,28.76,27.26,28.53,28.02,29.25,26.61,28.02,28.78,28.23,28.1,31.54,28.53,29.58,29.03,29.82,28.4,29.62,27.6,25.54,27.07,31.46,26.5,26.32,27.87,30.35,28.98,27.49,26.78,30.29,28.12,28.63,30.6,27.92,28.23,28.85,27.57,29.19,27.92,26.22,28.57,29.24,27.21,29.53,28.72,26.22,25.94,28.74,26.51,29.02,27.11,26.26,26.99,27.68,29.74,26.82,29.01,28.16,28.41,28.46,29.74,26.56,28.15,28.4,28.86,29.22,28.56,27.32,30.68,31.49,28.43,27.76,28.08],\"coloraxis\":\"coloraxis\",\"size\":[106,116,90,94,110,109,132,152,99,77,145,139,148,95,81,94,85,122,124,112,122,116,116,148,107,120,122,106,148,144,134,122,117,80,125,138,132,98,119,100,83,170,100,124,102,146,151,129,94,135,65,142,164,143,87,123,128,101,134,124,108,125,127,122,117,117,133,116,109,137,106,111,131,108,130,105,140,83,157,118,113,129,147,119,133,83,146,139,131,118,126,117,128,100,167,132,132,149,141,102,131,120,114,145,118,105,111,117,74,113,107,120,124,129,127,125,113,119,128,140,113,161,152,112,115,138,107,99,120,131,162,118,109,113,104,112,109,132,145,135,107,119,127,116,142,103,129,120,137,110,120,127,98,120,119,133,122,88,99,110,112,113,113,122,78,123,134,131,139,75,150,122,87,145,140,134,137,142,124,105,122,141,114,120,135,113,148,100,137,134,137,119,115,71,100,167,134,107,108,118,129,102,114,133,146,102,106,157,101,164,104,96,97,107,133,139,130,113,120,155,105,164,109,136,134,136,92,148,119,128,154,81,156,124,107,104,91,108,105,132,118,156,126,147,107,155,109,152,118,108,168,112,114,152,154,109,97,80,121,129,130,127,99,121,122,131,125,127,127,102,103,116,136,120,162,131,98,85,84,124,117,93,103,123,109,132,104,106,123,111,124,124,114,120,110,107,97,165,151,110,129,127,129,138,117,80,108,84,86,133,129,127,167,104,122,90,141,126,78,78,122,91,104,148,134,113,124,97,105,144,122,117,171,135,150,90,115,113,108,132,116,76,144,110,94,135,132,161,105,127,137,125,115,130,118,110,143,151,125,132,103,125,91,115,125,99,96,115,130,139,152,127,127,96,144,111,138,113,125,91,100,139,83,122,167,153,166,114,125,119,124,76,120,139,109,111,143,118,107,122,103,146,143,131,54,94,128,101,115,122,109,109,118,135,109,95,133,144,126,148,115,119,130,132,120,114,104,74,114,107,100,133,136,145,112,117,89,132,92,127,94,114,99,117,99,144,131,144,114,153,122,129,111,113,113,144,95,145,106,76,155,136,126,112,113,138,156,109,80,127,127,123,133,164,134,143,115,149,141,136,153,90,152,94,100,115,123,83,131,113,131,123,125,116,136,108,81,91,108,129],\"sizemode\":\"area\",\"sizeref\":0.4275,\"symbol\":\"circle\"},\"mode\":\"markers\",\"name\":\"\",\"showlegend\":false,\"type\":\"scattergeo\"}],                        {\"template\":{\"data\":{\"histogram2dcontour\":[{\"type\":\"histogram2dcontour\",\"colorbar\":{\"outlinewidth\":0,\"ticks\":\"\"},\"colorscale\":[[0.0,\"#0d0887\"],[0.1111111111111111,\"#46039f\"],[0.2222222222222222,\"#7201a8\"],[0.3333333333333333,\"#9c179e\"],[0.4444444444444444,\"#bd3786\"],[0.5555555555555556,\"#d8576b\"],[0.6666666666666666,\"#ed7953\"],[0.7777777777777778,\"#fb9f3a\"],[0.8888888888888888,\"#fdca26\"],[1.0,\"#f0f921\"]]}],\"choropleth\":[{\"type\":\"choropleth\",\"colorbar\":{\"outlinewidth\":0,\"ticks\":\"\"}}],\"histogram2d\":[{\"type\":\"histogram2d\",\"colorbar\":{\"outlinewidth\":0,\"ticks\":\"\"},\"colorscale\":[[0.0,\"#0d0887\"],[0.1111111111111111,\"#46039f\"],[0.2222222222222222,\"#7201a8\"],[0.3333333333333333,\"#9c179e\"],[0.4444444444444444,\"#bd3786\"],[0.5555555555555556,\"#d8576b\"],[0.6666666666666666,\"#ed7953\"],[0.7777777777777778,\"#fb9f3a\"],[0.8888888888888888,\"#fdca26\"],[1.0,\"#f0f921\"]]}],\"heatmap\":[{\"type\":\"heatmap\",\"colorbar\":{\"outlinewidth\":0,\"ticks\":\"\"},\"colorscale\":[[0.0,\"#0d0887\"],[0.1111111111111111,\"#46039f\"],[0.2222222222222222,\"#7201a8\"],[0.3333333333333333,\"#9c179e\"],[0.4444444444444444,\"#bd3786\"],[0.5555555555555556,\"#d8576b\"],[0.6666666666666666,\"#ed7953\"],[0.7777777777777778,\"#fb9f3a\"],[0.8888888888888888,\"#fdca26\"],[1.0,\"#f0f921\"]]}],\"heatmapgl\":[{\"type\":\"heatmapgl\",\"colorbar\":{\"outlinewidth\":0,\"ticks\":\"\"},\"colorscale\":[[0.0,\"#0d0887\"],[0.1111111111111111,\"#46039f\"],[0.2222222222222222,\"#7201a8\"],[0.3333333333333333,\"#9c179e\"],[0.4444444444444444,\"#bd3786\"],[0.5555555555555556,\"#d8576b\"],[0.6666666666666666,\"#ed7953\"],[0.7777777777777778,\"#fb9f3a\"],[0.8888888888888888,\"#fdca26\"],[1.0,\"#f0f921\"]]}],\"contourcarpet\":[{\"type\":\"contourcarpet\",\"colorbar\":{\"outlinewidth\":0,\"ticks\":\"\"}}],\"contour\":[{\"type\":\"contour\",\"colorbar\":{\"outlinewidth\":0,\"ticks\":\"\"},\"colorscale\":[[0.0,\"#0d0887\"],[0.1111111111111111,\"#46039f\"],[0.2222222222222222,\"#7201a8\"],[0.3333333333333333,\"#9c179e\"],[0.4444444444444444,\"#bd3786\"],[0.5555555555555556,\"#d8576b\"],[0.6666666666666666,\"#ed7953\"],[0.7777777777777778,\"#fb9f3a\"],[0.8888888888888888,\"#fdca26\"],[1.0,\"#f0f921\"]]}],\"surface\":[{\"type\":\"surface\",\"colorbar\":{\"outlinewidth\":0,\"ticks\":\"\"},\"colorscale\":[[0.0,\"#0d0887\"],[0.1111111111111111,\"#46039f\"],[0.2222222222222222,\"#7201a8\"],[0.3333333333333333,\"#9c179e\"],[0.4444444444444444,\"#bd3786\"],[0.5555555555555556,\"#d8576b\"],[0.6666666666666666,\"#ed7953\"],[0.7777777777777778,\"#fb9f3a\"],[0.8888888888888888,\"#fdca26\"],[1.0,\"#f0f921\"]]}],\"mesh3d\":[{\"type\":\"mesh3d\",\"colorbar\":{\"outlinewidth\":0,\"ticks\":\"\"}}],\"scatter\":[{\"fillpattern\":{\"fillmode\":\"overlay\",\"size\":10,\"solidity\":0.2},\"type\":\"scatter\"}],\"parcoords\":[{\"type\":\"parcoords\",\"line\":{\"colorbar\":{\"outlinewidth\":0,\"ticks\":\"\"}}}],\"scatterpolargl\":[{\"type\":\"scatterpolargl\",\"marker\":{\"colorbar\":{\"outlinewidth\":0,\"ticks\":\"\"}}}],\"bar\":[{\"error_x\":{\"color\":\"#2a3f5f\"},\"error_y\":{\"color\":\"#2a3f5f\"},\"marker\":{\"line\":{\"color\":\"#E5ECF6\",\"width\":0.5},\"pattern\":{\"fillmode\":\"overlay\",\"size\":10,\"solidity\":0.2}},\"type\":\"bar\"}],\"scattergeo\":[{\"type\":\"scattergeo\",\"marker\":{\"colorbar\":{\"outlinewidth\":0,\"ticks\":\"\"}}}],\"scatterpolar\":[{\"type\":\"scatterpolar\",\"marker\":{\"colorbar\":{\"outlinewidth\":0,\"ticks\":\"\"}}}],\"histogram\":[{\"marker\":{\"pattern\":{\"fillmode\":\"overlay\",\"size\":10,\"solidity\":0.2}},\"type\":\"histogram\"}],\"scattergl\":[{\"type\":\"scattergl\",\"marker\":{\"colorbar\":{\"outlinewidth\":0,\"ticks\":\"\"}}}],\"scatter3d\":[{\"type\":\"scatter3d\",\"line\":{\"colorbar\":{\"outlinewidth\":0,\"ticks\":\"\"}},\"marker\":{\"colorbar\":{\"outlinewidth\":0,\"ticks\":\"\"}}}],\"scattermapbox\":[{\"type\":\"scattermapbox\",\"marker\":{\"colorbar\":{\"outlinewidth\":0,\"ticks\":\"\"}}}],\"scatterternary\":[{\"type\":\"scatterternary\",\"marker\":{\"colorbar\":{\"outlinewidth\":0,\"ticks\":\"\"}}}],\"scattercarpet\":[{\"type\":\"scattercarpet\",\"marker\":{\"colorbar\":{\"outlinewidth\":0,\"ticks\":\"\"}}}],\"carpet\":[{\"aaxis\":{\"endlinecolor\":\"#2a3f5f\",\"gridcolor\":\"white\",\"linecolor\":\"white\",\"minorgridcolor\":\"white\",\"startlinecolor\":\"#2a3f5f\"},\"baxis\":{\"endlinecolor\":\"#2a3f5f\",\"gridcolor\":\"white\",\"linecolor\":\"white\",\"minorgridcolor\":\"white\",\"startlinecolor\":\"#2a3f5f\"},\"type\":\"carpet\"}],\"table\":[{\"cells\":{\"fill\":{\"color\":\"#EBF0F8\"},\"line\":{\"color\":\"white\"}},\"header\":{\"fill\":{\"color\":\"#C8D4E3\"},\"line\":{\"color\":\"white\"}},\"type\":\"table\"}],\"barpolar\":[{\"marker\":{\"line\":{\"color\":\"#E5ECF6\",\"width\":0.5},\"pattern\":{\"fillmode\":\"overlay\",\"size\":10,\"solidity\":0.2}},\"type\":\"barpolar\"}],\"pie\":[{\"automargin\":true,\"type\":\"pie\"}]},\"layout\":{\"autotypenumbers\":\"strict\",\"colorway\":[\"#636efa\",\"#EF553B\",\"#00cc96\",\"#ab63fa\",\"#FFA15A\",\"#19d3f3\",\"#FF6692\",\"#B6E880\",\"#FF97FF\",\"#FECB52\"],\"font\":{\"color\":\"#2a3f5f\"},\"hovermode\":\"closest\",\"hoverlabel\":{\"align\":\"left\"},\"paper_bgcolor\":\"white\",\"plot_bgcolor\":\"#E5ECF6\",\"polar\":{\"bgcolor\":\"#E5ECF6\",\"angularaxis\":{\"gridcolor\":\"white\",\"linecolor\":\"white\",\"ticks\":\"\"},\"radialaxis\":{\"gridcolor\":\"white\",\"linecolor\":\"white\",\"ticks\":\"\"}},\"ternary\":{\"bgcolor\":\"#E5ECF6\",\"aaxis\":{\"gridcolor\":\"white\",\"linecolor\":\"white\",\"ticks\":\"\"},\"baxis\":{\"gridcolor\":\"white\",\"linecolor\":\"white\",\"ticks\":\"\"},\"caxis\":{\"gridcolor\":\"white\",\"linecolor\":\"white\",\"ticks\":\"\"}},\"coloraxis\":{\"colorbar\":{\"outlinewidth\":0,\"ticks\":\"\"}},\"colorscale\":{\"sequential\":[[0.0,\"#0d0887\"],[0.1111111111111111,\"#46039f\"],[0.2222222222222222,\"#7201a8\"],[0.3333333333333333,\"#9c179e\"],[0.4444444444444444,\"#bd3786\"],[0.5555555555555556,\"#d8576b\"],[0.6666666666666666,\"#ed7953\"],[0.7777777777777778,\"#fb9f3a\"],[0.8888888888888888,\"#fdca26\"],[1.0,\"#f0f921\"]],\"sequentialminus\":[[0.0,\"#0d0887\"],[0.1111111111111111,\"#46039f\"],[0.2222222222222222,\"#7201a8\"],[0.3333333333333333,\"#9c179e\"],[0.4444444444444444,\"#bd3786\"],[0.5555555555555556,\"#d8576b\"],[0.6666666666666666,\"#ed7953\"],[0.7777777777777778,\"#fb9f3a\"],[0.8888888888888888,\"#fdca26\"],[1.0,\"#f0f921\"]],\"diverging\":[[0,\"#8e0152\"],[0.1,\"#c51b7d\"],[0.2,\"#de77ae\"],[0.3,\"#f1b6da\"],[0.4,\"#fde0ef\"],[0.5,\"#f7f7f7\"],[0.6,\"#e6f5d0\"],[0.7,\"#b8e186\"],[0.8,\"#7fbc41\"],[0.9,\"#4d9221\"],[1,\"#276419\"]]},\"xaxis\":{\"gridcolor\":\"white\",\"linecolor\":\"white\",\"ticks\":\"\",\"title\":{\"standoff\":15},\"zerolinecolor\":\"white\",\"automargin\":true,\"zerolinewidth\":2},\"yaxis\":{\"gridcolor\":\"white\",\"linecolor\":\"white\",\"ticks\":\"\",\"title\":{\"standoff\":15},\"zerolinecolor\":\"white\",\"automargin\":true,\"zerolinewidth\":2},\"scene\":{\"xaxis\":{\"backgroundcolor\":\"#E5ECF6\",\"gridcolor\":\"white\",\"linecolor\":\"white\",\"showbackground\":true,\"ticks\":\"\",\"zerolinecolor\":\"white\",\"gridwidth\":2},\"yaxis\":{\"backgroundcolor\":\"#E5ECF6\",\"gridcolor\":\"white\",\"linecolor\":\"white\",\"showbackground\":true,\"ticks\":\"\",\"zerolinecolor\":\"white\",\"gridwidth\":2},\"zaxis\":{\"backgroundcolor\":\"#E5ECF6\",\"gridcolor\":\"white\",\"linecolor\":\"white\",\"showbackground\":true,\"ticks\":\"\",\"zerolinecolor\":\"white\",\"gridwidth\":2}},\"shapedefaults\":{\"line\":{\"color\":\"#2a3f5f\"}},\"annotationdefaults\":{\"arrowcolor\":\"#2a3f5f\",\"arrowhead\":0,\"arrowwidth\":1},\"geo\":{\"bgcolor\":\"white\",\"landcolor\":\"#E5ECF6\",\"subunitcolor\":\"white\",\"showland\":true,\"showlakes\":true,\"lakecolor\":\"white\"},\"title\":{\"x\":0.05},\"mapbox\":{\"style\":\"light\"}}},\"geo\":{\"domain\":{\"x\":[0.0,1.0],\"y\":[0.0,1.0]},\"projection\":{\"type\":\"natural earth\"},\"center\":{},\"showland\":true,\"landcolor\":\"lightgray\"},\"coloraxis\":{\"colorbar\":{\"title\":{\"text\":\"SST (°C)\"}},\"colorscale\":[[0.0,\"#000004\"],[0.1111111111111111,\"#1b0c41\"],[0.2222222222222222,\"#4a0c6b\"],[0.3333333333333333,\"#781c6d\"],[0.4444444444444444,\"#a52c60\"],[0.5555555555555556,\"#cf4446\"],[0.6666666666666666,\"#ed6925\"],[0.7777777777777778,\"#fb9b06\"],[0.8888888888888888,\"#f7d13d\"],[1.0,\"#fcffa4\"]]},\"legend\":{\"tracegroupgap\":0,\"itemsizing\":\"constant\"},\"title\":{\"text\":\"Observations by Location\"}},                        {\"responsive\": true}                    ).then(function(){\n",
       "                            \n",
       "var gd = document.getElementById('a5e7266d-dd66-4963-9465-524f61c94317');\n",
       "var x = new MutationObserver(function (mutations, observer) {{\n",
       "        var display = window.getComputedStyle(gd).display;\n",
       "        if (!display || display === 'none') {{\n",
       "            console.log([gd, 'removed!']);\n",
       "            Plotly.purge(gd);\n",
       "            observer.disconnect();\n",
       "        }}\n",
       "}});\n",
       "\n",
       "// Listen for the removal of the full notebook cells\n",
       "var notebookContainer = gd.closest('#notebook-container');\n",
       "if (notebookContainer) {{\n",
       "    x.observe(notebookContainer, {childList: true});\n",
       "}}\n",
       "\n",
       "// Listen for the clearing of the current output cell\n",
       "var outputEl = gd.closest('.output');\n",
       "if (outputEl) {{\n",
       "    x.observe(outputEl, {childList: true});\n",
       "}}\n",
       "\n",
       "                        })                };                            </script>        </div>\n",
       "</body>\n",
       "</html>"
      ]
     },
     "metadata": {},
     "output_type": "display_data"
    }
   ],
   "source": [
    "fig_geo = px.scatter_geo(\n",
    "    df_activity,\n",
    "    lat='Latitude',\n",
    "    lon='Longitude',\n",
    "    color='SST (°C)',\n",
    "    color_continuous_scale='Inferno', \n",
    "    size='Species Observed',\n",
    "    projection='natural earth',\n",
    "    title='Observations by Location',\n",
    "    hover_data=['Location', 'SST (°C)', 'pH Level', 'Species Observed', 'Year']\n",
    ")\n",
    "fig_geo.update_layout(geo=dict(showland=True, landcolor=\"lightgray\"))\n",
    "fig_geo.show()"
   ]
  },
  {
   "cell_type": "markdown",
   "id": "74af4d8a",
   "metadata": {
    "papermill": {
     "duration": 0.009821,
     "end_time": "2025-04-29T10:39:49.695157",
     "exception": false,
     "start_time": "2025-04-29T10:39:49.685336",
     "status": "completed"
    },
    "tags": []
   },
   "source": [
    "This visualization helps us see where marine heatwaves or warmer waters coincide with richer biodiversity or areas of coral bleaching. \n",
    "\n",
    "We can zoom into points and identify regions where SST is high, which may indicate stress for marine ecosystems, and see how this correlates with biodiversity (e.g., more species might be observed in cooler, more stable waters).\n",
    "\n",
    "____"
   ]
  },
  {
   "cell_type": "markdown",
   "id": "c5b906cf",
   "metadata": {
    "papermill": {
     "duration": 0.00983,
     "end_time": "2025-04-29T10:39:49.715085",
     "exception": false,
     "start_time": "2025-04-29T10:39:49.705255",
     "status": "completed"
    },
    "tags": []
   },
   "source": [
    "### Species Observed vs. SST"
   ]
  },
  {
   "cell_type": "code",
   "execution_count": 16,
   "id": "aca9428b",
   "metadata": {
    "execution": {
     "iopub.execute_input": "2025-04-29T10:39:49.737844Z",
     "iopub.status.busy": "2025-04-29T10:39:49.736792Z",
     "iopub.status.idle": "2025-04-29T10:39:49.750729Z",
     "shell.execute_reply": "2025-04-29T10:39:49.749595Z"
    },
    "papermill": {
     "duration": 0.026794,
     "end_time": "2025-04-29T10:39:49.752346",
     "exception": false,
     "start_time": "2025-04-29T10:39:49.725552",
     "status": "completed"
    },
    "tags": []
   },
   "outputs": [
    {
     "data": {
      "text/html": [
       "<html>\n",
       "<head><meta charset=\"utf-8\" /></head>\n",
       "<body>\n",
       "    <div>            <script src=\"https://cdnjs.cloudflare.com/ajax/libs/mathjax/2.7.5/MathJax.js?config=TeX-AMS-MML_SVG\"></script><script type=\"text/javascript\">if (window.MathJax && window.MathJax.Hub && window.MathJax.Hub.Config) {window.MathJax.Hub.Config({SVG: {font: \"STIX-Web\"}});}</script>                <script type=\"text/javascript\">window.PlotlyConfig = {MathJaxConfig: 'local'};</script>\n",
       "        <script charset=\"utf-8\" src=\"https://cdn.plot.ly/plotly-2.35.2.min.js\"></script>                <div id=\"0d1f7b80-3821-4907-a94c-1d46bdea9910\" class=\"plotly-graph-div\" style=\"height:525px; width:100%;\"></div>            <script type=\"text/javascript\">                                    window.PLOTLYENV=window.PLOTLYENV || {};                                    if (document.getElementById(\"0d1f7b80-3821-4907-a94c-1d46bdea9910\")) {                    Plotly.newPlot(                        \"0d1f7b80-3821-4907-a94c-1d46bdea9910\",                        [{\"hovertemplate\":\"SST: %{x}°C\\u003cbr\\u003eSpecies: %{y}\\u003cbr\\u003e\\u003cextra\\u003e\\u003c\\u002fextra\\u003e\",\"marker\":{\"color\":\"blue\",\"opacity\":0.7,\"size\":8},\"mode\":\"markers\",\"name\":\"Species vs SST\",\"x\":[29.47,29.65,28.86,28.97,28.6,29.06,28.48,25.56,28.33,30.09,27.48,28.04,26.84,30.01,28.45,28.05,30.72,28.99,27.45,28.89,27.99,28.76,28.59,26.75,30.6,27.65,26.91,28.02,26.09,26.52,27.48,29.21,30.24,31.35,28.38,30.68,26.89,28.39,28.82,28.73,30.12,29.27,29.93,28.14,29.53,26.88,28.57,28.78,29.26,27.52,31.68,27.44,23.64,26.35,30.24,27.6,30.88,29.38,27.62,28.96,29.62,27.61,29.74,28.03,27.27,29.69,28.61,28.02,28.87,26.39,29.79,28.07,28.34,28.52,30.68,28.78,25.31,31.31,26.52,30.53,28.51,28.29,26.2,28.67,28.13,29.53,28.1,26.43,25.4,27.09,27.02,26.95,27.45,29.64,26.23,28.97,26.09,26.88,28.62,28.21,26.4,27.2,28.14,27.03,27.51,28.57,28.4,27.92,29.29,28.2,30.25,27.85,29.81,26.99,28.99,29.66,29.45,27.23,29.22,27.03,29.8,26.63,28.92,29.59,31.32,28.31,28.26,28.61,28.11,28.42,28.1,28.46,28.45,30.76,27.99,31.13,27.71,27.94,26.88,26.62,27.44,31.13,27.68,28.73,26.48,29.02,29.11,29.97,27.56,27.37,27.04,28.78,32.34,31.16,29.45,28.13,29.07,29.19,28.91,29.52,28.64,27.78,30.67,29.83,31.95,27.72,26.99,27.0,26.82,32.18,27.54,29.21,30.82,29.0,26.43,28.84,27.77,27.96,30.1,28.72,28.54,29.62,28.87,28.78,28.7,29.07,26.33,29.56,29.48,27.46,26.62,29.19,28.79,31.2,29.76,24.86,27.05,29.82,28.13,29.46,28.59,29.45,31.61,27.77,28.46,28.68,29.1,26.3,30.12,26.14,29.24,30.26,30.22,30.24,28.62,27.86,28.02,28.86,29.59,25.5,31.63,26.92,29.81,28.41,29.46,27.37,30.92,26.66,28.27,26.34,27.54,31.88,26.42,29.35,28.66,28.35,29.88,28.16,27.6,29.33,28.68,27.51,27.42,28.92,29.45,28.28,28.37,27.67,27.63,27.35,25.51,29.13,29.31,27.14,26.86,29.09,29.56,29.26,28.49,28.06,28.24,28.49,30.59,28.04,28.39,28.28,28.18,28.05,29.16,29.9,29.31,29.09,28.68,27.1,26.44,30.06,31.74,30.84,31.52,27.04,30.28,30.75,29.18,28.9,27.95,26.85,29.79,30.91,28.77,29.38,28.86,29.07,28.19,29.09,28.3,29.13,31.09,25.86,27.65,30.31,27.27,29.93,27.42,29.45,28.16,30.81,28.98,27.7,30.99,28.95,27.18,27.3,24.86,29.27,28.94,30.25,26.98,27.95,29.15,31.59,27.53,30.94,29.82,27.37,29.88,30.42,27.53,29.14,28.38,29.98,28.79,30.48,25.32,27.74,27.91,30.78,27.14,28.8,29.81,27.48,29.45,31.35,25.24,28.79,29.61,29.71,28.47,26.9,28.61,29.25,27.52,29.93,28.61,28.24,27.57,28.44,26.24,27.37,28.26,27.31,27.44,29.26,30.92,27.42,28.16,30.62,29.93,28.66,27.68,27.2,26.71,28.12,29.69,30.19,28.04,28.19,26.65,29.14,27.85,30.9,30.26,26.81,29.46,27.57,26.89,28.07,27.8,29.2,28.9,28.46,27.14,33.21,29.28,28.27,29.48,29.92,27.56,29.27,30.28,27.18,27.31,27.27,27.35,25.49,30.54,30.36,29.21,27.74,27.71,28.49,27.51,29.81,29.09,28.3,28.63,30.31,26.33,28.28,29.43,26.89,27.2,29.46,28.56,27.01,28.47,30.17,29.51,30.82,28.76,27.26,28.53,28.02,29.25,26.61,28.02,28.78,28.23,28.1,31.54,28.53,29.58,29.03,29.82,28.4,29.62,27.6,25.54,27.07,31.46,26.5,26.32,27.87,30.35,28.98,27.49,26.78,30.29,28.12,28.63,30.6,27.92,28.23,28.85,27.57,29.19,27.92,26.22,28.57,29.24,27.21,29.53,28.72,26.22,25.94,28.74,26.51,29.02,27.11,26.26,26.99,27.68,29.74,26.82,29.01,28.16,28.41,28.46,29.74,26.56,28.15,28.4,28.86,29.22,28.56,27.32,30.68,31.49,28.43,27.76,28.08],\"y\":[106,116,90,94,110,109,132,152,99,77,145,139,148,95,81,94,85,122,124,112,122,116,116,148,107,120,122,106,148,144,134,122,117,80,125,138,132,98,119,100,83,170,100,124,102,146,151,129,94,135,65,142,164,143,87,123,128,101,134,124,108,125,127,122,117,117,133,116,109,137,106,111,131,108,130,105,140,83,157,118,113,129,147,119,133,83,146,139,131,118,126,117,128,100,167,132,132,149,141,102,131,120,114,145,118,105,111,117,74,113,107,120,124,129,127,125,113,119,128,140,113,161,152,112,115,138,107,99,120,131,162,118,109,113,104,112,109,132,145,135,107,119,127,116,142,103,129,120,137,110,120,127,98,120,119,133,122,88,99,110,112,113,113,122,78,123,134,131,139,75,150,122,87,145,140,134,137,142,124,105,122,141,114,120,135,113,148,100,137,134,137,119,115,71,100,167,134,107,108,118,129,102,114,133,146,102,106,157,101,164,104,96,97,107,133,139,130,113,120,155,105,164,109,136,134,136,92,148,119,128,154,81,156,124,107,104,91,108,105,132,118,156,126,147,107,155,109,152,118,108,168,112,114,152,154,109,97,80,121,129,130,127,99,121,122,131,125,127,127,102,103,116,136,120,162,131,98,85,84,124,117,93,103,123,109,132,104,106,123,111,124,124,114,120,110,107,97,165,151,110,129,127,129,138,117,80,108,84,86,133,129,127,167,104,122,90,141,126,78,78,122,91,104,148,134,113,124,97,105,144,122,117,171,135,150,90,115,113,108,132,116,76,144,110,94,135,132,161,105,127,137,125,115,130,118,110,143,151,125,132,103,125,91,115,125,99,96,115,130,139,152,127,127,96,144,111,138,113,125,91,100,139,83,122,167,153,166,114,125,119,124,76,120,139,109,111,143,118,107,122,103,146,143,131,54,94,128,101,115,122,109,109,118,135,109,95,133,144,126,148,115,119,130,132,120,114,104,74,114,107,100,133,136,145,112,117,89,132,92,127,94,114,99,117,99,144,131,144,114,153,122,129,111,113,113,144,95,145,106,76,155,136,126,112,113,138,156,109,80,127,127,123,133,164,134,143,115,149,141,136,153,90,152,94,100,115,123,83,131,113,131,123,125,116,136,108,81,91,108,129],\"type\":\"scatter\"}],                        {\"template\":{\"data\":{\"histogram2dcontour\":[{\"type\":\"histogram2dcontour\",\"colorbar\":{\"outlinewidth\":0,\"ticks\":\"\"},\"colorscale\":[[0.0,\"#0d0887\"],[0.1111111111111111,\"#46039f\"],[0.2222222222222222,\"#7201a8\"],[0.3333333333333333,\"#9c179e\"],[0.4444444444444444,\"#bd3786\"],[0.5555555555555556,\"#d8576b\"],[0.6666666666666666,\"#ed7953\"],[0.7777777777777778,\"#fb9f3a\"],[0.8888888888888888,\"#fdca26\"],[1.0,\"#f0f921\"]]}],\"choropleth\":[{\"type\":\"choropleth\",\"colorbar\":{\"outlinewidth\":0,\"ticks\":\"\"}}],\"histogram2d\":[{\"type\":\"histogram2d\",\"colorbar\":{\"outlinewidth\":0,\"ticks\":\"\"},\"colorscale\":[[0.0,\"#0d0887\"],[0.1111111111111111,\"#46039f\"],[0.2222222222222222,\"#7201a8\"],[0.3333333333333333,\"#9c179e\"],[0.4444444444444444,\"#bd3786\"],[0.5555555555555556,\"#d8576b\"],[0.6666666666666666,\"#ed7953\"],[0.7777777777777778,\"#fb9f3a\"],[0.8888888888888888,\"#fdca26\"],[1.0,\"#f0f921\"]]}],\"heatmap\":[{\"type\":\"heatmap\",\"colorbar\":{\"outlinewidth\":0,\"ticks\":\"\"},\"colorscale\":[[0.0,\"#0d0887\"],[0.1111111111111111,\"#46039f\"],[0.2222222222222222,\"#7201a8\"],[0.3333333333333333,\"#9c179e\"],[0.4444444444444444,\"#bd3786\"],[0.5555555555555556,\"#d8576b\"],[0.6666666666666666,\"#ed7953\"],[0.7777777777777778,\"#fb9f3a\"],[0.8888888888888888,\"#fdca26\"],[1.0,\"#f0f921\"]]}],\"heatmapgl\":[{\"type\":\"heatmapgl\",\"colorbar\":{\"outlinewidth\":0,\"ticks\":\"\"},\"colorscale\":[[0.0,\"#0d0887\"],[0.1111111111111111,\"#46039f\"],[0.2222222222222222,\"#7201a8\"],[0.3333333333333333,\"#9c179e\"],[0.4444444444444444,\"#bd3786\"],[0.5555555555555556,\"#d8576b\"],[0.6666666666666666,\"#ed7953\"],[0.7777777777777778,\"#fb9f3a\"],[0.8888888888888888,\"#fdca26\"],[1.0,\"#f0f921\"]]}],\"contourcarpet\":[{\"type\":\"contourcarpet\",\"colorbar\":{\"outlinewidth\":0,\"ticks\":\"\"}}],\"contour\":[{\"type\":\"contour\",\"colorbar\":{\"outlinewidth\":0,\"ticks\":\"\"},\"colorscale\":[[0.0,\"#0d0887\"],[0.1111111111111111,\"#46039f\"],[0.2222222222222222,\"#7201a8\"],[0.3333333333333333,\"#9c179e\"],[0.4444444444444444,\"#bd3786\"],[0.5555555555555556,\"#d8576b\"],[0.6666666666666666,\"#ed7953\"],[0.7777777777777778,\"#fb9f3a\"],[0.8888888888888888,\"#fdca26\"],[1.0,\"#f0f921\"]]}],\"surface\":[{\"type\":\"surface\",\"colorbar\":{\"outlinewidth\":0,\"ticks\":\"\"},\"colorscale\":[[0.0,\"#0d0887\"],[0.1111111111111111,\"#46039f\"],[0.2222222222222222,\"#7201a8\"],[0.3333333333333333,\"#9c179e\"],[0.4444444444444444,\"#bd3786\"],[0.5555555555555556,\"#d8576b\"],[0.6666666666666666,\"#ed7953\"],[0.7777777777777778,\"#fb9f3a\"],[0.8888888888888888,\"#fdca26\"],[1.0,\"#f0f921\"]]}],\"mesh3d\":[{\"type\":\"mesh3d\",\"colorbar\":{\"outlinewidth\":0,\"ticks\":\"\"}}],\"scatter\":[{\"fillpattern\":{\"fillmode\":\"overlay\",\"size\":10,\"solidity\":0.2},\"type\":\"scatter\"}],\"parcoords\":[{\"type\":\"parcoords\",\"line\":{\"colorbar\":{\"outlinewidth\":0,\"ticks\":\"\"}}}],\"scatterpolargl\":[{\"type\":\"scatterpolargl\",\"marker\":{\"colorbar\":{\"outlinewidth\":0,\"ticks\":\"\"}}}],\"bar\":[{\"error_x\":{\"color\":\"#2a3f5f\"},\"error_y\":{\"color\":\"#2a3f5f\"},\"marker\":{\"line\":{\"color\":\"#E5ECF6\",\"width\":0.5},\"pattern\":{\"fillmode\":\"overlay\",\"size\":10,\"solidity\":0.2}},\"type\":\"bar\"}],\"scattergeo\":[{\"type\":\"scattergeo\",\"marker\":{\"colorbar\":{\"outlinewidth\":0,\"ticks\":\"\"}}}],\"scatterpolar\":[{\"type\":\"scatterpolar\",\"marker\":{\"colorbar\":{\"outlinewidth\":0,\"ticks\":\"\"}}}],\"histogram\":[{\"marker\":{\"pattern\":{\"fillmode\":\"overlay\",\"size\":10,\"solidity\":0.2}},\"type\":\"histogram\"}],\"scattergl\":[{\"type\":\"scattergl\",\"marker\":{\"colorbar\":{\"outlinewidth\":0,\"ticks\":\"\"}}}],\"scatter3d\":[{\"type\":\"scatter3d\",\"line\":{\"colorbar\":{\"outlinewidth\":0,\"ticks\":\"\"}},\"marker\":{\"colorbar\":{\"outlinewidth\":0,\"ticks\":\"\"}}}],\"scattermapbox\":[{\"type\":\"scattermapbox\",\"marker\":{\"colorbar\":{\"outlinewidth\":0,\"ticks\":\"\"}}}],\"scatterternary\":[{\"type\":\"scatterternary\",\"marker\":{\"colorbar\":{\"outlinewidth\":0,\"ticks\":\"\"}}}],\"scattercarpet\":[{\"type\":\"scattercarpet\",\"marker\":{\"colorbar\":{\"outlinewidth\":0,\"ticks\":\"\"}}}],\"carpet\":[{\"aaxis\":{\"endlinecolor\":\"#2a3f5f\",\"gridcolor\":\"white\",\"linecolor\":\"white\",\"minorgridcolor\":\"white\",\"startlinecolor\":\"#2a3f5f\"},\"baxis\":{\"endlinecolor\":\"#2a3f5f\",\"gridcolor\":\"white\",\"linecolor\":\"white\",\"minorgridcolor\":\"white\",\"startlinecolor\":\"#2a3f5f\"},\"type\":\"carpet\"}],\"table\":[{\"cells\":{\"fill\":{\"color\":\"#EBF0F8\"},\"line\":{\"color\":\"white\"}},\"header\":{\"fill\":{\"color\":\"#C8D4E3\"},\"line\":{\"color\":\"white\"}},\"type\":\"table\"}],\"barpolar\":[{\"marker\":{\"line\":{\"color\":\"#E5ECF6\",\"width\":0.5},\"pattern\":{\"fillmode\":\"overlay\",\"size\":10,\"solidity\":0.2}},\"type\":\"barpolar\"}],\"pie\":[{\"automargin\":true,\"type\":\"pie\"}]},\"layout\":{\"autotypenumbers\":\"strict\",\"colorway\":[\"#636efa\",\"#EF553B\",\"#00cc96\",\"#ab63fa\",\"#FFA15A\",\"#19d3f3\",\"#FF6692\",\"#B6E880\",\"#FF97FF\",\"#FECB52\"],\"font\":{\"color\":\"#2a3f5f\"},\"hovermode\":\"closest\",\"hoverlabel\":{\"align\":\"left\"},\"paper_bgcolor\":\"white\",\"plot_bgcolor\":\"#E5ECF6\",\"polar\":{\"bgcolor\":\"#E5ECF6\",\"angularaxis\":{\"gridcolor\":\"white\",\"linecolor\":\"white\",\"ticks\":\"\"},\"radialaxis\":{\"gridcolor\":\"white\",\"linecolor\":\"white\",\"ticks\":\"\"}},\"ternary\":{\"bgcolor\":\"#E5ECF6\",\"aaxis\":{\"gridcolor\":\"white\",\"linecolor\":\"white\",\"ticks\":\"\"},\"baxis\":{\"gridcolor\":\"white\",\"linecolor\":\"white\",\"ticks\":\"\"},\"caxis\":{\"gridcolor\":\"white\",\"linecolor\":\"white\",\"ticks\":\"\"}},\"coloraxis\":{\"colorbar\":{\"outlinewidth\":0,\"ticks\":\"\"}},\"colorscale\":{\"sequential\":[[0.0,\"#0d0887\"],[0.1111111111111111,\"#46039f\"],[0.2222222222222222,\"#7201a8\"],[0.3333333333333333,\"#9c179e\"],[0.4444444444444444,\"#bd3786\"],[0.5555555555555556,\"#d8576b\"],[0.6666666666666666,\"#ed7953\"],[0.7777777777777778,\"#fb9f3a\"],[0.8888888888888888,\"#fdca26\"],[1.0,\"#f0f921\"]],\"sequentialminus\":[[0.0,\"#0d0887\"],[0.1111111111111111,\"#46039f\"],[0.2222222222222222,\"#7201a8\"],[0.3333333333333333,\"#9c179e\"],[0.4444444444444444,\"#bd3786\"],[0.5555555555555556,\"#d8576b\"],[0.6666666666666666,\"#ed7953\"],[0.7777777777777778,\"#fb9f3a\"],[0.8888888888888888,\"#fdca26\"],[1.0,\"#f0f921\"]],\"diverging\":[[0,\"#8e0152\"],[0.1,\"#c51b7d\"],[0.2,\"#de77ae\"],[0.3,\"#f1b6da\"],[0.4,\"#fde0ef\"],[0.5,\"#f7f7f7\"],[0.6,\"#e6f5d0\"],[0.7,\"#b8e186\"],[0.8,\"#7fbc41\"],[0.9,\"#4d9221\"],[1,\"#276419\"]]},\"xaxis\":{\"gridcolor\":\"white\",\"linecolor\":\"white\",\"ticks\":\"\",\"title\":{\"standoff\":15},\"zerolinecolor\":\"white\",\"automargin\":true,\"zerolinewidth\":2},\"yaxis\":{\"gridcolor\":\"white\",\"linecolor\":\"white\",\"ticks\":\"\",\"title\":{\"standoff\":15},\"zerolinecolor\":\"white\",\"automargin\":true,\"zerolinewidth\":2},\"scene\":{\"xaxis\":{\"backgroundcolor\":\"#E5ECF6\",\"gridcolor\":\"white\",\"linecolor\":\"white\",\"showbackground\":true,\"ticks\":\"\",\"zerolinecolor\":\"white\",\"gridwidth\":2},\"yaxis\":{\"backgroundcolor\":\"#E5ECF6\",\"gridcolor\":\"white\",\"linecolor\":\"white\",\"showbackground\":true,\"ticks\":\"\",\"zerolinecolor\":\"white\",\"gridwidth\":2},\"zaxis\":{\"backgroundcolor\":\"#E5ECF6\",\"gridcolor\":\"white\",\"linecolor\":\"white\",\"showbackground\":true,\"ticks\":\"\",\"zerolinecolor\":\"white\",\"gridwidth\":2}},\"shapedefaults\":{\"line\":{\"color\":\"#2a3f5f\"}},\"annotationdefaults\":{\"arrowcolor\":\"#2a3f5f\",\"arrowhead\":0,\"arrowwidth\":1},\"geo\":{\"bgcolor\":\"white\",\"landcolor\":\"#E5ECF6\",\"subunitcolor\":\"white\",\"showland\":true,\"showlakes\":true,\"lakecolor\":\"white\"},\"title\":{\"x\":0.05},\"mapbox\":{\"style\":\"light\"}}},\"title\":{\"text\":\"Species Observed vs Sea Surface Temperature (SST)\"},\"xaxis\":{\"title\":{\"text\":\"Sea Surface Temperature (°C)\"}},\"yaxis\":{\"title\":{\"text\":\"Number of Species Observed\"}}},                        {\"responsive\": true}                    ).then(function(){\n",
       "                            \n",
       "var gd = document.getElementById('0d1f7b80-3821-4907-a94c-1d46bdea9910');\n",
       "var x = new MutationObserver(function (mutations, observer) {{\n",
       "        var display = window.getComputedStyle(gd).display;\n",
       "        if (!display || display === 'none') {{\n",
       "            console.log([gd, 'removed!']);\n",
       "            Plotly.purge(gd);\n",
       "            observer.disconnect();\n",
       "        }}\n",
       "}});\n",
       "\n",
       "// Listen for the removal of the full notebook cells\n",
       "var notebookContainer = gd.closest('#notebook-container');\n",
       "if (notebookContainer) {{\n",
       "    x.observe(notebookContainer, {childList: true});\n",
       "}}\n",
       "\n",
       "// Listen for the clearing of the current output cell\n",
       "var outputEl = gd.closest('.output');\n",
       "if (outputEl) {{\n",
       "    x.observe(outputEl, {childList: true});\n",
       "}}\n",
       "\n",
       "                        })                };                            </script>        </div>\n",
       "</body>\n",
       "</html>"
      ]
     },
     "metadata": {},
     "output_type": "display_data"
    }
   ],
   "source": [
    "# Scatter plot for Species vs SST with rolling mean trendline\n",
    "fig_sst = go.Figure()\n",
    "fig_sst.add_trace(go.Scatter(\n",
    "    x=df_activity['SST (°C)'],\n",
    "    y=df_activity['Species Observed'],\n",
    "    mode='markers',\n",
    "    marker=dict(color='blue', size=8, opacity=0.7),\n",
    "    name='Species vs SST',\n",
    "    hovertemplate=\n",
    "        'SST: %{x}°C<br>' +  # Show SST value\n",
    "        'Species: %{y}<br>' +  # Show pH value\n",
    "        '<extra></extra>'  \n",
    "))\n",
    "\n",
    "fig_sst.update_layout(\n",
    "    title=\"Species Observed vs Sea Surface Temperature (SST)\",\n",
    "    xaxis_title=\"Sea Surface Temperature (°C)\",\n",
    "    yaxis_title=\"Number of Species Observed\",\n",
    ")\n",
    "fig_sst.show()"
   ]
  },
  {
   "cell_type": "markdown",
   "id": "9d731a4e",
   "metadata": {
    "papermill": {
     "duration": 0.010572,
     "end_time": "2025-04-29T10:39:49.773713",
     "exception": false,
     "start_time": "2025-04-29T10:39:49.763141",
     "status": "completed"
    },
    "tags": []
   },
   "source": [
    "This plot helps us understand the relationship between biodiversity and ocean temperature. A high SST could stress species and reduce their numbers, as seen in coral reefs during heatwaves. If we compare an SST of 23 with a species count of 164 to an SST of 33 with a species count of 76, we can ask ourselves: do higher temperatures result in fewer species or do some species thrive in warmer waters? \n",
    "\n",
    "____"
   ]
  },
  {
   "cell_type": "markdown",
   "id": "4a7f1456",
   "metadata": {
    "papermill": {
     "duration": 0.01048,
     "end_time": "2025-04-29T10:39:49.795489",
     "exception": false,
     "start_time": "2025-04-29T10:39:49.785009",
     "status": "completed"
    },
    "tags": []
   },
   "source": [
    "### Species Observed vs pH Level"
   ]
  },
  {
   "cell_type": "code",
   "execution_count": 17,
   "id": "e5e1b1d1",
   "metadata": {
    "execution": {
     "iopub.execute_input": "2025-04-29T10:39:49.818027Z",
     "iopub.status.busy": "2025-04-29T10:39:49.817652Z",
     "iopub.status.idle": "2025-04-29T10:39:49.830535Z",
     "shell.execute_reply": "2025-04-29T10:39:49.829387Z"
    },
    "papermill": {
     "duration": 0.026212,
     "end_time": "2025-04-29T10:39:49.832191",
     "exception": false,
     "start_time": "2025-04-29T10:39:49.805979",
     "status": "completed"
    },
    "tags": []
   },
   "outputs": [
    {
     "data": {
      "text/html": [
       "<html>\n",
       "<head><meta charset=\"utf-8\" /></head>\n",
       "<body>\n",
       "    <div>            <script src=\"https://cdnjs.cloudflare.com/ajax/libs/mathjax/2.7.5/MathJax.js?config=TeX-AMS-MML_SVG\"></script><script type=\"text/javascript\">if (window.MathJax && window.MathJax.Hub && window.MathJax.Hub.Config) {window.MathJax.Hub.Config({SVG: {font: \"STIX-Web\"}});}</script>                <script type=\"text/javascript\">window.PlotlyConfig = {MathJaxConfig: 'local'};</script>\n",
       "        <script charset=\"utf-8\" src=\"https://cdn.plot.ly/plotly-2.35.2.min.js\"></script>                <div id=\"cbb1b3bb-d6dd-4537-901e-353ed8ab3432\" class=\"plotly-graph-div\" style=\"height:525px; width:100%;\"></div>            <script type=\"text/javascript\">                                    window.PLOTLYENV=window.PLOTLYENV || {};                                    if (document.getElementById(\"cbb1b3bb-d6dd-4537-901e-353ed8ab3432\")) {                    Plotly.newPlot(                        \"cbb1b3bb-d6dd-4537-901e-353ed8ab3432\",                        [{\"hovertemplate\":\"pH Level: %{x}\\u003cbr\\u003eSpecies: %{y}\\u003cbr\\u003e\\u003cextra\\u003e\\u003c\\u002fextra\\u003e\",\"marker\":{\"color\":\"green\",\"opacity\":0.7,\"size\":8},\"mode\":\"markers\",\"name\":\"Species vs pH Level\",\"x\":[8.107,8.004,7.947,7.995,7.977,8.009,7.998,8.042,8.038,8.035,8.101,8.076,8.023,8.038,8.129,8.064,7.98,8.014,8.055,8.042,8.02,8.058,8.171,8.142,7.938,8.072,8.106,8.1,8.107,8.116,8.082,7.976,7.974,7.981,8.069,7.993,8.106,8.01,7.981,8.048,8.07,8.06,8.054,8.033,7.949,8.047,8.016,8.011,8.078,8.158,8.038,8.093,8.096,8.071,8.016,8.071,7.941,8.046,8.11,8.081,8.058,8.095,8.066,8.076,8.179,8.057,8.014,8.08,8.017,8.056,8.016,8.075,8.073,8.055,8.054,8.154,8.087,8.041,8.181,8.004,8.052,8.06,8.16,8.105,8.106,8.082,8.094,8.006,8.108,8.053,8.105,8.053,8.082,8.001,8.164,8.195,8.108,8.167,8.005,8.012,8.12,8.078,8.012,8.084,8.098,8.062,7.991,8.112,8.106,8.075,8.028,8.083,8.008,7.987,8.029,7.953,8.145,8.117,8.052,8.057,8.092,7.998,7.985,8.052,8.061,8.057,8.033,7.983,7.983,8.04,8.003,8.061,8.024,7.872,8.042,8.044,8.09,8.097,8.113,8.134,8.001,7.893,8.086,8.027,8.128,8.013,7.953,8.104,8.07,8.042,8.132,8.002,7.968,7.966,8.08,8.054,8.069,8.033,7.978,8.031,8.024,8.127,8.016,8.027,7.963,8.045,8.042,8.129,8.103,7.944,8.129,8.008,8.093,8.073,8.055,8.042,8.117,8.09,8.076,8.106,8.113,8.06,8.121,8.022,8.011,8.117,7.984,8.041,8.026,8.068,8.16,8.065,8.08,7.994,7.992,8.044,8.077,8.013,8.023,8.002,8.016,8.083,7.953,8.048,8.158,8.077,8.07,8.105,8.016,8.171,8.048,8.042,7.929,7.992,7.984,8.138,8.163,8.03,8.031,8.156,7.98,8.05,8.049,8.062,7.974,8.069,8.024,8.117,8.061,8.173,8.003,8.032,8.009,8.063,8.044,8.004,7.944,8.084,8.084,8.045,8.073,8.0,8.116,8.0,8.052,8.103,8.182,8.095,8.017,8.085,8.129,8.002,7.988,8.04,8.067,8.048,8.077,7.98,8.092,8.072,8.017,8.105,8.036,8.029,8.076,7.994,8.131,8.04,8.096,7.954,8.072,7.964,7.998,8.056,8.01,7.989,7.955,8.005,7.996,8.139,8.05,7.989,8.145,8.118,8.019,8.072,7.995,8.026,7.98,8.094,8.173,8.103,8.014,7.978,8.055,7.993,7.978,8.027,8.076,8.065,8.074,8.026,7.978,7.98,8.009,7.979,8.033,8.007,7.977,8.079,8.035,8.149,8.167,7.956,7.973,7.978,8.084,8.02,8.082,7.989,8.029,8.017,8.02,8.051,7.989,8.015,8.121,8.14,8.075,8.08,8.027,7.96,8.083,8.107,8.016,8.054,8.093,8.058,7.957,8.096,8.086,7.986,8.158,8.08,8.059,8.044,8.035,8.13,8.106,8.044,7.978,8.102,7.968,8.061,8.078,8.03,8.133,8.089,8.088,8.128,7.996,7.956,8.046,8.061,8.024,8.003,8.036,8.045,8.071,8.124,8.132,8.072,7.939,7.962,8.098,7.972,8.057,8.014,8.058,8.03,8.033,8.024,8.056,8.06,8.094,8.114,8.059,8.09,8.025,8.107,8.044,8.009,8.067,8.045,8.04,7.983,8.112,8.002,8.05,8.068,8.058,8.107,8.026,8.142,7.944,8.023,8.061,8.064,8.073,8.034,8.055,8.037,8.033,8.125,8.057,8.007,7.979,8.032,7.974,8.004,8.132,8.014,7.999,7.952,8.037,8.052,8.059,7.942,8.057,8.07,8.061,8.124,8.092,8.076,8.067,8.146,8.124,8.037,7.921,8.017,7.964,8.024,8.001,8.157,8.019,7.975,8.154,8.058,7.912,8.08,8.093,7.932,7.959,8.015,8.072,8.118,7.965,8.028,8.007,8.04,8.074,8.082,8.068,8.041,8.12,8.096,8.078,8.049,8.009,8.111,7.961,7.957,8.151,8.045,8.07,8.069,8.037,8.122,8.062,8.09,8.053,8.066,8.038,8.059,8.055,8.108,8.042,8.003,8.123,8.018,8.016,8.068,7.974,8.083,8.005,7.939,7.952,8.053,8.137,8.098],\"y\":[106,116,90,94,110,109,132,152,99,77,145,139,148,95,81,94,85,122,124,112,122,116,116,148,107,120,122,106,148,144,134,122,117,80,125,138,132,98,119,100,83,170,100,124,102,146,151,129,94,135,65,142,164,143,87,123,128,101,134,124,108,125,127,122,117,117,133,116,109,137,106,111,131,108,130,105,140,83,157,118,113,129,147,119,133,83,146,139,131,118,126,117,128,100,167,132,132,149,141,102,131,120,114,145,118,105,111,117,74,113,107,120,124,129,127,125,113,119,128,140,113,161,152,112,115,138,107,99,120,131,162,118,109,113,104,112,109,132,145,135,107,119,127,116,142,103,129,120,137,110,120,127,98,120,119,133,122,88,99,110,112,113,113,122,78,123,134,131,139,75,150,122,87,145,140,134,137,142,124,105,122,141,114,120,135,113,148,100,137,134,137,119,115,71,100,167,134,107,108,118,129,102,114,133,146,102,106,157,101,164,104,96,97,107,133,139,130,113,120,155,105,164,109,136,134,136,92,148,119,128,154,81,156,124,107,104,91,108,105,132,118,156,126,147,107,155,109,152,118,108,168,112,114,152,154,109,97,80,121,129,130,127,99,121,122,131,125,127,127,102,103,116,136,120,162,131,98,85,84,124,117,93,103,123,109,132,104,106,123,111,124,124,114,120,110,107,97,165,151,110,129,127,129,138,117,80,108,84,86,133,129,127,167,104,122,90,141,126,78,78,122,91,104,148,134,113,124,97,105,144,122,117,171,135,150,90,115,113,108,132,116,76,144,110,94,135,132,161,105,127,137,125,115,130,118,110,143,151,125,132,103,125,91,115,125,99,96,115,130,139,152,127,127,96,144,111,138,113,125,91,100,139,83,122,167,153,166,114,125,119,124,76,120,139,109,111,143,118,107,122,103,146,143,131,54,94,128,101,115,122,109,109,118,135,109,95,133,144,126,148,115,119,130,132,120,114,104,74,114,107,100,133,136,145,112,117,89,132,92,127,94,114,99,117,99,144,131,144,114,153,122,129,111,113,113,144,95,145,106,76,155,136,126,112,113,138,156,109,80,127,127,123,133,164,134,143,115,149,141,136,153,90,152,94,100,115,123,83,131,113,131,123,125,116,136,108,81,91,108,129],\"type\":\"scatter\"}],                        {\"template\":{\"data\":{\"histogram2dcontour\":[{\"type\":\"histogram2dcontour\",\"colorbar\":{\"outlinewidth\":0,\"ticks\":\"\"},\"colorscale\":[[0.0,\"#0d0887\"],[0.1111111111111111,\"#46039f\"],[0.2222222222222222,\"#7201a8\"],[0.3333333333333333,\"#9c179e\"],[0.4444444444444444,\"#bd3786\"],[0.5555555555555556,\"#d8576b\"],[0.6666666666666666,\"#ed7953\"],[0.7777777777777778,\"#fb9f3a\"],[0.8888888888888888,\"#fdca26\"],[1.0,\"#f0f921\"]]}],\"choropleth\":[{\"type\":\"choropleth\",\"colorbar\":{\"outlinewidth\":0,\"ticks\":\"\"}}],\"histogram2d\":[{\"type\":\"histogram2d\",\"colorbar\":{\"outlinewidth\":0,\"ticks\":\"\"},\"colorscale\":[[0.0,\"#0d0887\"],[0.1111111111111111,\"#46039f\"],[0.2222222222222222,\"#7201a8\"],[0.3333333333333333,\"#9c179e\"],[0.4444444444444444,\"#bd3786\"],[0.5555555555555556,\"#d8576b\"],[0.6666666666666666,\"#ed7953\"],[0.7777777777777778,\"#fb9f3a\"],[0.8888888888888888,\"#fdca26\"],[1.0,\"#f0f921\"]]}],\"heatmap\":[{\"type\":\"heatmap\",\"colorbar\":{\"outlinewidth\":0,\"ticks\":\"\"},\"colorscale\":[[0.0,\"#0d0887\"],[0.1111111111111111,\"#46039f\"],[0.2222222222222222,\"#7201a8\"],[0.3333333333333333,\"#9c179e\"],[0.4444444444444444,\"#bd3786\"],[0.5555555555555556,\"#d8576b\"],[0.6666666666666666,\"#ed7953\"],[0.7777777777777778,\"#fb9f3a\"],[0.8888888888888888,\"#fdca26\"],[1.0,\"#f0f921\"]]}],\"heatmapgl\":[{\"type\":\"heatmapgl\",\"colorbar\":{\"outlinewidth\":0,\"ticks\":\"\"},\"colorscale\":[[0.0,\"#0d0887\"],[0.1111111111111111,\"#46039f\"],[0.2222222222222222,\"#7201a8\"],[0.3333333333333333,\"#9c179e\"],[0.4444444444444444,\"#bd3786\"],[0.5555555555555556,\"#d8576b\"],[0.6666666666666666,\"#ed7953\"],[0.7777777777777778,\"#fb9f3a\"],[0.8888888888888888,\"#fdca26\"],[1.0,\"#f0f921\"]]}],\"contourcarpet\":[{\"type\":\"contourcarpet\",\"colorbar\":{\"outlinewidth\":0,\"ticks\":\"\"}}],\"contour\":[{\"type\":\"contour\",\"colorbar\":{\"outlinewidth\":0,\"ticks\":\"\"},\"colorscale\":[[0.0,\"#0d0887\"],[0.1111111111111111,\"#46039f\"],[0.2222222222222222,\"#7201a8\"],[0.3333333333333333,\"#9c179e\"],[0.4444444444444444,\"#bd3786\"],[0.5555555555555556,\"#d8576b\"],[0.6666666666666666,\"#ed7953\"],[0.7777777777777778,\"#fb9f3a\"],[0.8888888888888888,\"#fdca26\"],[1.0,\"#f0f921\"]]}],\"surface\":[{\"type\":\"surface\",\"colorbar\":{\"outlinewidth\":0,\"ticks\":\"\"},\"colorscale\":[[0.0,\"#0d0887\"],[0.1111111111111111,\"#46039f\"],[0.2222222222222222,\"#7201a8\"],[0.3333333333333333,\"#9c179e\"],[0.4444444444444444,\"#bd3786\"],[0.5555555555555556,\"#d8576b\"],[0.6666666666666666,\"#ed7953\"],[0.7777777777777778,\"#fb9f3a\"],[0.8888888888888888,\"#fdca26\"],[1.0,\"#f0f921\"]]}],\"mesh3d\":[{\"type\":\"mesh3d\",\"colorbar\":{\"outlinewidth\":0,\"ticks\":\"\"}}],\"scatter\":[{\"fillpattern\":{\"fillmode\":\"overlay\",\"size\":10,\"solidity\":0.2},\"type\":\"scatter\"}],\"parcoords\":[{\"type\":\"parcoords\",\"line\":{\"colorbar\":{\"outlinewidth\":0,\"ticks\":\"\"}}}],\"scatterpolargl\":[{\"type\":\"scatterpolargl\",\"marker\":{\"colorbar\":{\"outlinewidth\":0,\"ticks\":\"\"}}}],\"bar\":[{\"error_x\":{\"color\":\"#2a3f5f\"},\"error_y\":{\"color\":\"#2a3f5f\"},\"marker\":{\"line\":{\"color\":\"#E5ECF6\",\"width\":0.5},\"pattern\":{\"fillmode\":\"overlay\",\"size\":10,\"solidity\":0.2}},\"type\":\"bar\"}],\"scattergeo\":[{\"type\":\"scattergeo\",\"marker\":{\"colorbar\":{\"outlinewidth\":0,\"ticks\":\"\"}}}],\"scatterpolar\":[{\"type\":\"scatterpolar\",\"marker\":{\"colorbar\":{\"outlinewidth\":0,\"ticks\":\"\"}}}],\"histogram\":[{\"marker\":{\"pattern\":{\"fillmode\":\"overlay\",\"size\":10,\"solidity\":0.2}},\"type\":\"histogram\"}],\"scattergl\":[{\"type\":\"scattergl\",\"marker\":{\"colorbar\":{\"outlinewidth\":0,\"ticks\":\"\"}}}],\"scatter3d\":[{\"type\":\"scatter3d\",\"line\":{\"colorbar\":{\"outlinewidth\":0,\"ticks\":\"\"}},\"marker\":{\"colorbar\":{\"outlinewidth\":0,\"ticks\":\"\"}}}],\"scattermapbox\":[{\"type\":\"scattermapbox\",\"marker\":{\"colorbar\":{\"outlinewidth\":0,\"ticks\":\"\"}}}],\"scatterternary\":[{\"type\":\"scatterternary\",\"marker\":{\"colorbar\":{\"outlinewidth\":0,\"ticks\":\"\"}}}],\"scattercarpet\":[{\"type\":\"scattercarpet\",\"marker\":{\"colorbar\":{\"outlinewidth\":0,\"ticks\":\"\"}}}],\"carpet\":[{\"aaxis\":{\"endlinecolor\":\"#2a3f5f\",\"gridcolor\":\"white\",\"linecolor\":\"white\",\"minorgridcolor\":\"white\",\"startlinecolor\":\"#2a3f5f\"},\"baxis\":{\"endlinecolor\":\"#2a3f5f\",\"gridcolor\":\"white\",\"linecolor\":\"white\",\"minorgridcolor\":\"white\",\"startlinecolor\":\"#2a3f5f\"},\"type\":\"carpet\"}],\"table\":[{\"cells\":{\"fill\":{\"color\":\"#EBF0F8\"},\"line\":{\"color\":\"white\"}},\"header\":{\"fill\":{\"color\":\"#C8D4E3\"},\"line\":{\"color\":\"white\"}},\"type\":\"table\"}],\"barpolar\":[{\"marker\":{\"line\":{\"color\":\"#E5ECF6\",\"width\":0.5},\"pattern\":{\"fillmode\":\"overlay\",\"size\":10,\"solidity\":0.2}},\"type\":\"barpolar\"}],\"pie\":[{\"automargin\":true,\"type\":\"pie\"}]},\"layout\":{\"autotypenumbers\":\"strict\",\"colorway\":[\"#636efa\",\"#EF553B\",\"#00cc96\",\"#ab63fa\",\"#FFA15A\",\"#19d3f3\",\"#FF6692\",\"#B6E880\",\"#FF97FF\",\"#FECB52\"],\"font\":{\"color\":\"#2a3f5f\"},\"hovermode\":\"closest\",\"hoverlabel\":{\"align\":\"left\"},\"paper_bgcolor\":\"white\",\"plot_bgcolor\":\"#E5ECF6\",\"polar\":{\"bgcolor\":\"#E5ECF6\",\"angularaxis\":{\"gridcolor\":\"white\",\"linecolor\":\"white\",\"ticks\":\"\"},\"radialaxis\":{\"gridcolor\":\"white\",\"linecolor\":\"white\",\"ticks\":\"\"}},\"ternary\":{\"bgcolor\":\"#E5ECF6\",\"aaxis\":{\"gridcolor\":\"white\",\"linecolor\":\"white\",\"ticks\":\"\"},\"baxis\":{\"gridcolor\":\"white\",\"linecolor\":\"white\",\"ticks\":\"\"},\"caxis\":{\"gridcolor\":\"white\",\"linecolor\":\"white\",\"ticks\":\"\"}},\"coloraxis\":{\"colorbar\":{\"outlinewidth\":0,\"ticks\":\"\"}},\"colorscale\":{\"sequential\":[[0.0,\"#0d0887\"],[0.1111111111111111,\"#46039f\"],[0.2222222222222222,\"#7201a8\"],[0.3333333333333333,\"#9c179e\"],[0.4444444444444444,\"#bd3786\"],[0.5555555555555556,\"#d8576b\"],[0.6666666666666666,\"#ed7953\"],[0.7777777777777778,\"#fb9f3a\"],[0.8888888888888888,\"#fdca26\"],[1.0,\"#f0f921\"]],\"sequentialminus\":[[0.0,\"#0d0887\"],[0.1111111111111111,\"#46039f\"],[0.2222222222222222,\"#7201a8\"],[0.3333333333333333,\"#9c179e\"],[0.4444444444444444,\"#bd3786\"],[0.5555555555555556,\"#d8576b\"],[0.6666666666666666,\"#ed7953\"],[0.7777777777777778,\"#fb9f3a\"],[0.8888888888888888,\"#fdca26\"],[1.0,\"#f0f921\"]],\"diverging\":[[0,\"#8e0152\"],[0.1,\"#c51b7d\"],[0.2,\"#de77ae\"],[0.3,\"#f1b6da\"],[0.4,\"#fde0ef\"],[0.5,\"#f7f7f7\"],[0.6,\"#e6f5d0\"],[0.7,\"#b8e186\"],[0.8,\"#7fbc41\"],[0.9,\"#4d9221\"],[1,\"#276419\"]]},\"xaxis\":{\"gridcolor\":\"white\",\"linecolor\":\"white\",\"ticks\":\"\",\"title\":{\"standoff\":15},\"zerolinecolor\":\"white\",\"automargin\":true,\"zerolinewidth\":2},\"yaxis\":{\"gridcolor\":\"white\",\"linecolor\":\"white\",\"ticks\":\"\",\"title\":{\"standoff\":15},\"zerolinecolor\":\"white\",\"automargin\":true,\"zerolinewidth\":2},\"scene\":{\"xaxis\":{\"backgroundcolor\":\"#E5ECF6\",\"gridcolor\":\"white\",\"linecolor\":\"white\",\"showbackground\":true,\"ticks\":\"\",\"zerolinecolor\":\"white\",\"gridwidth\":2},\"yaxis\":{\"backgroundcolor\":\"#E5ECF6\",\"gridcolor\":\"white\",\"linecolor\":\"white\",\"showbackground\":true,\"ticks\":\"\",\"zerolinecolor\":\"white\",\"gridwidth\":2},\"zaxis\":{\"backgroundcolor\":\"#E5ECF6\",\"gridcolor\":\"white\",\"linecolor\":\"white\",\"showbackground\":true,\"ticks\":\"\",\"zerolinecolor\":\"white\",\"gridwidth\":2}},\"shapedefaults\":{\"line\":{\"color\":\"#2a3f5f\"}},\"annotationdefaults\":{\"arrowcolor\":\"#2a3f5f\",\"arrowhead\":0,\"arrowwidth\":1},\"geo\":{\"bgcolor\":\"white\",\"landcolor\":\"#E5ECF6\",\"subunitcolor\":\"white\",\"showland\":true,\"showlakes\":true,\"lakecolor\":\"white\"},\"title\":{\"x\":0.05},\"mapbox\":{\"style\":\"light\"}}},\"title\":{\"text\":\"Species Observed vs pH Level\"},\"xaxis\":{\"title\":{\"text\":\"pH Level\"}},\"yaxis\":{\"title\":{\"text\":\"Number of Species Observed\"}}},                        {\"responsive\": true}                    ).then(function(){\n",
       "                            \n",
       "var gd = document.getElementById('cbb1b3bb-d6dd-4537-901e-353ed8ab3432');\n",
       "var x = new MutationObserver(function (mutations, observer) {{\n",
       "        var display = window.getComputedStyle(gd).display;\n",
       "        if (!display || display === 'none') {{\n",
       "            console.log([gd, 'removed!']);\n",
       "            Plotly.purge(gd);\n",
       "            observer.disconnect();\n",
       "        }}\n",
       "}});\n",
       "\n",
       "// Listen for the removal of the full notebook cells\n",
       "var notebookContainer = gd.closest('#notebook-container');\n",
       "if (notebookContainer) {{\n",
       "    x.observe(notebookContainer, {childList: true});\n",
       "}}\n",
       "\n",
       "// Listen for the clearing of the current output cell\n",
       "var outputEl = gd.closest('.output');\n",
       "if (outputEl) {{\n",
       "    x.observe(outputEl, {childList: true});\n",
       "}}\n",
       "\n",
       "                        })                };                            </script>        </div>\n",
       "</body>\n",
       "</html>"
      ]
     },
     "metadata": {},
     "output_type": "display_data"
    }
   ],
   "source": [
    "import plotly.graph_objects as go\n",
    "\n",
    "# Scatter plot for Species vs pH \n",
    "fig_pH = go.Figure()\n",
    "\n",
    "fig_pH.add_trace(go.Scatter(\n",
    "    x=df_activity['pH Level'],\n",
    "    y=df_activity['Species Observed'],\n",
    "    mode='markers',\n",
    "    marker=dict(color='green', size=8, opacity=0.7),\n",
    "    name='Species vs pH Level',\n",
    "    hovertemplate=\n",
    "        'pH Level: %{x}<br>' +  \n",
    "        'Species: %{y}<br>' + \n",
    "        '<extra></extra>'  \n",
    "))\n",
    "\n",
    "fig_pH.update_layout(\n",
    "    title=\"Species Observed vs pH Level\",\n",
    "    xaxis_title=\"pH Level\",\n",
    "    yaxis_title=\"Number of Species Observed\",\n",
    ")\n",
    "fig_pH.show()"
   ]
  },
  {
   "cell_type": "markdown",
   "id": "c8f1e8cf",
   "metadata": {
    "papermill": {
     "duration": 0.01054,
     "end_time": "2025-04-29T10:39:49.853764",
     "exception": false,
     "start_time": "2025-04-29T10:39:49.843224",
     "status": "completed"
    },
    "tags": []
   },
   "source": [
    "A decrease in pH (increasing acidity) can have detrimental effects on marine organisms, particularly on those that rely on calcium for building shells and skeletons (like corals and mollusks). This plot helps visualize how changes in ocean chemistry are affecting marine biodiversity. Lower pH levels might correlate with fewer species observed due to the harmful effects of acidification.\n",
    "\n",
    "____"
   ]
  },
  {
   "cell_type": "markdown",
   "id": "d34bd2c2",
   "metadata": {
    "papermill": {
     "duration": 0.010398,
     "end_time": "2025-04-29T10:39:49.874964",
     "exception": false,
     "start_time": "2025-04-29T10:39:49.864566",
     "status": "completed"
    },
    "tags": []
   },
   "source": [
    "### Marine Heatwaves Per Year"
   ]
  },
  {
   "cell_type": "code",
   "execution_count": 18,
   "id": "fa440174",
   "metadata": {
    "execution": {
     "iopub.execute_input": "2025-04-29T10:39:49.897754Z",
     "iopub.status.busy": "2025-04-29T10:39:49.897455Z",
     "iopub.status.idle": "2025-04-29T10:39:49.972997Z",
     "shell.execute_reply": "2025-04-29T10:39:49.971816Z"
    },
    "papermill": {
     "duration": 0.089199,
     "end_time": "2025-04-29T10:39:49.974821",
     "exception": false,
     "start_time": "2025-04-29T10:39:49.885622",
     "status": "completed"
    },
    "tags": []
   },
   "outputs": [
    {
     "data": {
      "text/html": [
       "<html>\n",
       "<head><meta charset=\"utf-8\" /></head>\n",
       "<body>\n",
       "    <div>            <script src=\"https://cdnjs.cloudflare.com/ajax/libs/mathjax/2.7.5/MathJax.js?config=TeX-AMS-MML_SVG\"></script><script type=\"text/javascript\">if (window.MathJax && window.MathJax.Hub && window.MathJax.Hub.Config) {window.MathJax.Hub.Config({SVG: {font: \"STIX-Web\"}});}</script>                <script type=\"text/javascript\">window.PlotlyConfig = {MathJaxConfig: 'local'};</script>\n",
       "        <script charset=\"utf-8\" src=\"https://cdn.plot.ly/plotly-2.35.2.min.js\"></script>                <div id=\"9bdf54ad-eb6e-41ae-90dd-a5153a260c12\" class=\"plotly-graph-div\" style=\"height:525px; width:100%;\"></div>            <script type=\"text/javascript\">                                    window.PLOTLYENV=window.PLOTLYENV || {};                                    if (document.getElementById(\"9bdf54ad-eb6e-41ae-90dd-a5153a260c12\")) {                    Plotly.newPlot(                        \"9bdf54ad-eb6e-41ae-90dd-a5153a260c12\",                        [{\"alignmentgroup\":\"True\",\"hovertemplate\":\"color=2015\\u003cbr\\u003eYear=%{x}\\u003cbr\\u003eCount of Marine Heatwaves=%{y}\\u003cextra\\u003e\\u003c\\u002fextra\\u003e\",\"legendgroup\":\"2015\",\"marker\":{\"color\":\"#636efa\",\"pattern\":{\"shape\":\"\"}},\"name\":\"2015\",\"offsetgroup\":\"2015\",\"orientation\":\"v\",\"showlegend\":true,\"textposition\":\"auto\",\"x\":[2015],\"xaxis\":\"x\",\"y\":[10],\"yaxis\":\"y\",\"type\":\"bar\"},{\"alignmentgroup\":\"True\",\"hovertemplate\":\"color=2016\\u003cbr\\u003eYear=%{x}\\u003cbr\\u003eCount of Marine Heatwaves=%{y}\\u003cextra\\u003e\\u003c\\u002fextra\\u003e\",\"legendgroup\":\"2016\",\"marker\":{\"color\":\"#EF553B\",\"pattern\":{\"shape\":\"\"}},\"name\":\"2016\",\"offsetgroup\":\"2016\",\"orientation\":\"v\",\"showlegend\":true,\"textposition\":\"auto\",\"x\":[2016],\"xaxis\":\"x\",\"y\":[5],\"yaxis\":\"y\",\"type\":\"bar\"},{\"alignmentgroup\":\"True\",\"hovertemplate\":\"color=2017\\u003cbr\\u003eYear=%{x}\\u003cbr\\u003eCount of Marine Heatwaves=%{y}\\u003cextra\\u003e\\u003c\\u002fextra\\u003e\",\"legendgroup\":\"2017\",\"marker\":{\"color\":\"#00cc96\",\"pattern\":{\"shape\":\"\"}},\"name\":\"2017\",\"offsetgroup\":\"2017\",\"orientation\":\"v\",\"showlegend\":true,\"textposition\":\"auto\",\"x\":[2017],\"xaxis\":\"x\",\"y\":[8],\"yaxis\":\"y\",\"type\":\"bar\"},{\"alignmentgroup\":\"True\",\"hovertemplate\":\"color=2018\\u003cbr\\u003eYear=%{x}\\u003cbr\\u003eCount of Marine Heatwaves=%{y}\\u003cextra\\u003e\\u003c\\u002fextra\\u003e\",\"legendgroup\":\"2018\",\"marker\":{\"color\":\"#ab63fa\",\"pattern\":{\"shape\":\"\"}},\"name\":\"2018\",\"offsetgroup\":\"2018\",\"orientation\":\"v\",\"showlegend\":true,\"textposition\":\"auto\",\"x\":[2018],\"xaxis\":\"x\",\"y\":[10],\"yaxis\":\"y\",\"type\":\"bar\"},{\"alignmentgroup\":\"True\",\"hovertemplate\":\"color=2019\\u003cbr\\u003eYear=%{x}\\u003cbr\\u003eCount of Marine Heatwaves=%{y}\\u003cextra\\u003e\\u003c\\u002fextra\\u003e\",\"legendgroup\":\"2019\",\"marker\":{\"color\":\"#FFA15A\",\"pattern\":{\"shape\":\"\"}},\"name\":\"2019\",\"offsetgroup\":\"2019\",\"orientation\":\"v\",\"showlegend\":true,\"textposition\":\"auto\",\"x\":[2019],\"xaxis\":\"x\",\"y\":[6],\"yaxis\":\"y\",\"type\":\"bar\"},{\"alignmentgroup\":\"True\",\"hovertemplate\":\"color=2020\\u003cbr\\u003eYear=%{x}\\u003cbr\\u003eCount of Marine Heatwaves=%{y}\\u003cextra\\u003e\\u003c\\u002fextra\\u003e\",\"legendgroup\":\"2020\",\"marker\":{\"color\":\"#19d3f3\",\"pattern\":{\"shape\":\"\"}},\"name\":\"2020\",\"offsetgroup\":\"2020\",\"orientation\":\"v\",\"showlegend\":true,\"textposition\":\"auto\",\"x\":[2020],\"xaxis\":\"x\",\"y\":[13],\"yaxis\":\"y\",\"type\":\"bar\"},{\"alignmentgroup\":\"True\",\"hovertemplate\":\"color=2021\\u003cbr\\u003eYear=%{x}\\u003cbr\\u003eCount of Marine Heatwaves=%{y}\\u003cextra\\u003e\\u003c\\u002fextra\\u003e\",\"legendgroup\":\"2021\",\"marker\":{\"color\":\"#FF6692\",\"pattern\":{\"shape\":\"\"}},\"name\":\"2021\",\"offsetgroup\":\"2021\",\"orientation\":\"v\",\"showlegend\":true,\"textposition\":\"auto\",\"x\":[2021],\"xaxis\":\"x\",\"y\":[7],\"yaxis\":\"y\",\"type\":\"bar\"},{\"alignmentgroup\":\"True\",\"hovertemplate\":\"color=2022\\u003cbr\\u003eYear=%{x}\\u003cbr\\u003eCount of Marine Heatwaves=%{y}\\u003cextra\\u003e\\u003c\\u002fextra\\u003e\",\"legendgroup\":\"2022\",\"marker\":{\"color\":\"#B6E880\",\"pattern\":{\"shape\":\"\"}},\"name\":\"2022\",\"offsetgroup\":\"2022\",\"orientation\":\"v\",\"showlegend\":true,\"textposition\":\"auto\",\"x\":[2022],\"xaxis\":\"x\",\"y\":[8],\"yaxis\":\"y\",\"type\":\"bar\"},{\"alignmentgroup\":\"True\",\"hovertemplate\":\"color=2023\\u003cbr\\u003eYear=%{x}\\u003cbr\\u003eCount of Marine Heatwaves=%{y}\\u003cextra\\u003e\\u003c\\u002fextra\\u003e\",\"legendgroup\":\"2023\",\"marker\":{\"color\":\"#FF97FF\",\"pattern\":{\"shape\":\"\"}},\"name\":\"2023\",\"offsetgroup\":\"2023\",\"orientation\":\"v\",\"showlegend\":true,\"textposition\":\"auto\",\"x\":[2023],\"xaxis\":\"x\",\"y\":[6],\"yaxis\":\"y\",\"type\":\"bar\"}],                        {\"template\":{\"data\":{\"histogram2dcontour\":[{\"type\":\"histogram2dcontour\",\"colorbar\":{\"outlinewidth\":0,\"ticks\":\"\"},\"colorscale\":[[0.0,\"#0d0887\"],[0.1111111111111111,\"#46039f\"],[0.2222222222222222,\"#7201a8\"],[0.3333333333333333,\"#9c179e\"],[0.4444444444444444,\"#bd3786\"],[0.5555555555555556,\"#d8576b\"],[0.6666666666666666,\"#ed7953\"],[0.7777777777777778,\"#fb9f3a\"],[0.8888888888888888,\"#fdca26\"],[1.0,\"#f0f921\"]]}],\"choropleth\":[{\"type\":\"choropleth\",\"colorbar\":{\"outlinewidth\":0,\"ticks\":\"\"}}],\"histogram2d\":[{\"type\":\"histogram2d\",\"colorbar\":{\"outlinewidth\":0,\"ticks\":\"\"},\"colorscale\":[[0.0,\"#0d0887\"],[0.1111111111111111,\"#46039f\"],[0.2222222222222222,\"#7201a8\"],[0.3333333333333333,\"#9c179e\"],[0.4444444444444444,\"#bd3786\"],[0.5555555555555556,\"#d8576b\"],[0.6666666666666666,\"#ed7953\"],[0.7777777777777778,\"#fb9f3a\"],[0.8888888888888888,\"#fdca26\"],[1.0,\"#f0f921\"]]}],\"heatmap\":[{\"type\":\"heatmap\",\"colorbar\":{\"outlinewidth\":0,\"ticks\":\"\"},\"colorscale\":[[0.0,\"#0d0887\"],[0.1111111111111111,\"#46039f\"],[0.2222222222222222,\"#7201a8\"],[0.3333333333333333,\"#9c179e\"],[0.4444444444444444,\"#bd3786\"],[0.5555555555555556,\"#d8576b\"],[0.6666666666666666,\"#ed7953\"],[0.7777777777777778,\"#fb9f3a\"],[0.8888888888888888,\"#fdca26\"],[1.0,\"#f0f921\"]]}],\"heatmapgl\":[{\"type\":\"heatmapgl\",\"colorbar\":{\"outlinewidth\":0,\"ticks\":\"\"},\"colorscale\":[[0.0,\"#0d0887\"],[0.1111111111111111,\"#46039f\"],[0.2222222222222222,\"#7201a8\"],[0.3333333333333333,\"#9c179e\"],[0.4444444444444444,\"#bd3786\"],[0.5555555555555556,\"#d8576b\"],[0.6666666666666666,\"#ed7953\"],[0.7777777777777778,\"#fb9f3a\"],[0.8888888888888888,\"#fdca26\"],[1.0,\"#f0f921\"]]}],\"contourcarpet\":[{\"type\":\"contourcarpet\",\"colorbar\":{\"outlinewidth\":0,\"ticks\":\"\"}}],\"contour\":[{\"type\":\"contour\",\"colorbar\":{\"outlinewidth\":0,\"ticks\":\"\"},\"colorscale\":[[0.0,\"#0d0887\"],[0.1111111111111111,\"#46039f\"],[0.2222222222222222,\"#7201a8\"],[0.3333333333333333,\"#9c179e\"],[0.4444444444444444,\"#bd3786\"],[0.5555555555555556,\"#d8576b\"],[0.6666666666666666,\"#ed7953\"],[0.7777777777777778,\"#fb9f3a\"],[0.8888888888888888,\"#fdca26\"],[1.0,\"#f0f921\"]]}],\"surface\":[{\"type\":\"surface\",\"colorbar\":{\"outlinewidth\":0,\"ticks\":\"\"},\"colorscale\":[[0.0,\"#0d0887\"],[0.1111111111111111,\"#46039f\"],[0.2222222222222222,\"#7201a8\"],[0.3333333333333333,\"#9c179e\"],[0.4444444444444444,\"#bd3786\"],[0.5555555555555556,\"#d8576b\"],[0.6666666666666666,\"#ed7953\"],[0.7777777777777778,\"#fb9f3a\"],[0.8888888888888888,\"#fdca26\"],[1.0,\"#f0f921\"]]}],\"mesh3d\":[{\"type\":\"mesh3d\",\"colorbar\":{\"outlinewidth\":0,\"ticks\":\"\"}}],\"scatter\":[{\"fillpattern\":{\"fillmode\":\"overlay\",\"size\":10,\"solidity\":0.2},\"type\":\"scatter\"}],\"parcoords\":[{\"type\":\"parcoords\",\"line\":{\"colorbar\":{\"outlinewidth\":0,\"ticks\":\"\"}}}],\"scatterpolargl\":[{\"type\":\"scatterpolargl\",\"marker\":{\"colorbar\":{\"outlinewidth\":0,\"ticks\":\"\"}}}],\"bar\":[{\"error_x\":{\"color\":\"#2a3f5f\"},\"error_y\":{\"color\":\"#2a3f5f\"},\"marker\":{\"line\":{\"color\":\"#E5ECF6\",\"width\":0.5},\"pattern\":{\"fillmode\":\"overlay\",\"size\":10,\"solidity\":0.2}},\"type\":\"bar\"}],\"scattergeo\":[{\"type\":\"scattergeo\",\"marker\":{\"colorbar\":{\"outlinewidth\":0,\"ticks\":\"\"}}}],\"scatterpolar\":[{\"type\":\"scatterpolar\",\"marker\":{\"colorbar\":{\"outlinewidth\":0,\"ticks\":\"\"}}}],\"histogram\":[{\"marker\":{\"pattern\":{\"fillmode\":\"overlay\",\"size\":10,\"solidity\":0.2}},\"type\":\"histogram\"}],\"scattergl\":[{\"type\":\"scattergl\",\"marker\":{\"colorbar\":{\"outlinewidth\":0,\"ticks\":\"\"}}}],\"scatter3d\":[{\"type\":\"scatter3d\",\"line\":{\"colorbar\":{\"outlinewidth\":0,\"ticks\":\"\"}},\"marker\":{\"colorbar\":{\"outlinewidth\":0,\"ticks\":\"\"}}}],\"scattermapbox\":[{\"type\":\"scattermapbox\",\"marker\":{\"colorbar\":{\"outlinewidth\":0,\"ticks\":\"\"}}}],\"scatterternary\":[{\"type\":\"scatterternary\",\"marker\":{\"colorbar\":{\"outlinewidth\":0,\"ticks\":\"\"}}}],\"scattercarpet\":[{\"type\":\"scattercarpet\",\"marker\":{\"colorbar\":{\"outlinewidth\":0,\"ticks\":\"\"}}}],\"carpet\":[{\"aaxis\":{\"endlinecolor\":\"#2a3f5f\",\"gridcolor\":\"white\",\"linecolor\":\"white\",\"minorgridcolor\":\"white\",\"startlinecolor\":\"#2a3f5f\"},\"baxis\":{\"endlinecolor\":\"#2a3f5f\",\"gridcolor\":\"white\",\"linecolor\":\"white\",\"minorgridcolor\":\"white\",\"startlinecolor\":\"#2a3f5f\"},\"type\":\"carpet\"}],\"table\":[{\"cells\":{\"fill\":{\"color\":\"#EBF0F8\"},\"line\":{\"color\":\"white\"}},\"header\":{\"fill\":{\"color\":\"#C8D4E3\"},\"line\":{\"color\":\"white\"}},\"type\":\"table\"}],\"barpolar\":[{\"marker\":{\"line\":{\"color\":\"#E5ECF6\",\"width\":0.5},\"pattern\":{\"fillmode\":\"overlay\",\"size\":10,\"solidity\":0.2}},\"type\":\"barpolar\"}],\"pie\":[{\"automargin\":true,\"type\":\"pie\"}]},\"layout\":{\"autotypenumbers\":\"strict\",\"colorway\":[\"#636efa\",\"#EF553B\",\"#00cc96\",\"#ab63fa\",\"#FFA15A\",\"#19d3f3\",\"#FF6692\",\"#B6E880\",\"#FF97FF\",\"#FECB52\"],\"font\":{\"color\":\"#2a3f5f\"},\"hovermode\":\"closest\",\"hoverlabel\":{\"align\":\"left\"},\"paper_bgcolor\":\"white\",\"plot_bgcolor\":\"#E5ECF6\",\"polar\":{\"bgcolor\":\"#E5ECF6\",\"angularaxis\":{\"gridcolor\":\"white\",\"linecolor\":\"white\",\"ticks\":\"\"},\"radialaxis\":{\"gridcolor\":\"white\",\"linecolor\":\"white\",\"ticks\":\"\"}},\"ternary\":{\"bgcolor\":\"#E5ECF6\",\"aaxis\":{\"gridcolor\":\"white\",\"linecolor\":\"white\",\"ticks\":\"\"},\"baxis\":{\"gridcolor\":\"white\",\"linecolor\":\"white\",\"ticks\":\"\"},\"caxis\":{\"gridcolor\":\"white\",\"linecolor\":\"white\",\"ticks\":\"\"}},\"coloraxis\":{\"colorbar\":{\"outlinewidth\":0,\"ticks\":\"\"}},\"colorscale\":{\"sequential\":[[0.0,\"#0d0887\"],[0.1111111111111111,\"#46039f\"],[0.2222222222222222,\"#7201a8\"],[0.3333333333333333,\"#9c179e\"],[0.4444444444444444,\"#bd3786\"],[0.5555555555555556,\"#d8576b\"],[0.6666666666666666,\"#ed7953\"],[0.7777777777777778,\"#fb9f3a\"],[0.8888888888888888,\"#fdca26\"],[1.0,\"#f0f921\"]],\"sequentialminus\":[[0.0,\"#0d0887\"],[0.1111111111111111,\"#46039f\"],[0.2222222222222222,\"#7201a8\"],[0.3333333333333333,\"#9c179e\"],[0.4444444444444444,\"#bd3786\"],[0.5555555555555556,\"#d8576b\"],[0.6666666666666666,\"#ed7953\"],[0.7777777777777778,\"#fb9f3a\"],[0.8888888888888888,\"#fdca26\"],[1.0,\"#f0f921\"]],\"diverging\":[[0,\"#8e0152\"],[0.1,\"#c51b7d\"],[0.2,\"#de77ae\"],[0.3,\"#f1b6da\"],[0.4,\"#fde0ef\"],[0.5,\"#f7f7f7\"],[0.6,\"#e6f5d0\"],[0.7,\"#b8e186\"],[0.8,\"#7fbc41\"],[0.9,\"#4d9221\"],[1,\"#276419\"]]},\"xaxis\":{\"gridcolor\":\"white\",\"linecolor\":\"white\",\"ticks\":\"\",\"title\":{\"standoff\":15},\"zerolinecolor\":\"white\",\"automargin\":true,\"zerolinewidth\":2},\"yaxis\":{\"gridcolor\":\"white\",\"linecolor\":\"white\",\"ticks\":\"\",\"title\":{\"standoff\":15},\"zerolinecolor\":\"white\",\"automargin\":true,\"zerolinewidth\":2},\"scene\":{\"xaxis\":{\"backgroundcolor\":\"#E5ECF6\",\"gridcolor\":\"white\",\"linecolor\":\"white\",\"showbackground\":true,\"ticks\":\"\",\"zerolinecolor\":\"white\",\"gridwidth\":2},\"yaxis\":{\"backgroundcolor\":\"#E5ECF6\",\"gridcolor\":\"white\",\"linecolor\":\"white\",\"showbackground\":true,\"ticks\":\"\",\"zerolinecolor\":\"white\",\"gridwidth\":2},\"zaxis\":{\"backgroundcolor\":\"#E5ECF6\",\"gridcolor\":\"white\",\"linecolor\":\"white\",\"showbackground\":true,\"ticks\":\"\",\"zerolinecolor\":\"white\",\"gridwidth\":2}},\"shapedefaults\":{\"line\":{\"color\":\"#2a3f5f\"}},\"annotationdefaults\":{\"arrowcolor\":\"#2a3f5f\",\"arrowhead\":0,\"arrowwidth\":1},\"geo\":{\"bgcolor\":\"white\",\"landcolor\":\"#E5ECF6\",\"subunitcolor\":\"white\",\"showland\":true,\"showlakes\":true,\"lakecolor\":\"white\"},\"title\":{\"x\":0.05},\"mapbox\":{\"style\":\"light\"}}},\"xaxis\":{\"anchor\":\"y\",\"domain\":[0.0,1.0],\"title\":{\"text\":\"Year\"}},\"yaxis\":{\"anchor\":\"x\",\"domain\":[0.0,1.0],\"title\":{\"text\":\"Count of Marine Heatwaves\"}},\"legend\":{\"title\":{\"text\":\"color\"},\"tracegroupgap\":0},\"title\":{\"text\":\"Number of Marine Heatwaves Per Year\"},\"barmode\":\"relative\"},                        {\"responsive\": true}                    ).then(function(){\n",
       "                            \n",
       "var gd = document.getElementById('9bdf54ad-eb6e-41ae-90dd-a5153a260c12');\n",
       "var x = new MutationObserver(function (mutations, observer) {{\n",
       "        var display = window.getComputedStyle(gd).display;\n",
       "        if (!display || display === 'none') {{\n",
       "            console.log([gd, 'removed!']);\n",
       "            Plotly.purge(gd);\n",
       "            observer.disconnect();\n",
       "        }}\n",
       "}});\n",
       "\n",
       "// Listen for the removal of the full notebook cells\n",
       "var notebookContainer = gd.closest('#notebook-container');\n",
       "if (notebookContainer) {{\n",
       "    x.observe(notebookContainer, {childList: true});\n",
       "}}\n",
       "\n",
       "// Listen for the clearing of the current output cell\n",
       "var outputEl = gd.closest('.output');\n",
       "if (outputEl) {{\n",
       "    x.observe(outputEl, {childList: true});\n",
       "}}\n",
       "\n",
       "                        })                };                            </script>        </div>\n",
       "</body>\n",
       "</html>"
      ]
     },
     "metadata": {},
     "output_type": "display_data"
    }
   ],
   "source": [
    "# Count the number of heatwaves (True) per year\n",
    "mhw_by_year = df_activity[df_activity['Marine Heatwave'] == True].groupby('Year').size()\n",
    "\n",
    "# Plotting the number of Marine Heatwaves per year with a different color scale\n",
    "fig_mhw_yearly = px.bar(\n",
    "    x=mhw_by_year.index,  # Year\n",
    "    y=mhw_by_year.values,  # Number of Heatwaves per year\n",
    "    title=\"Number of Marine Heatwaves Per Year\",\n",
    "    labels={'x': 'Year', 'y': 'Count of Marine Heatwaves'},\n",
    "    color=mhw_by_year.index.astype(str)\n",
    ")\n",
    "\n",
    "# Show the figure\n",
    "fig_mhw_yearly.show()"
   ]
  },
  {
   "cell_type": "markdown",
   "id": "d8632a02",
   "metadata": {
    "papermill": {
     "duration": 0.010875,
     "end_time": "2025-04-29T10:39:49.997383",
     "exception": false,
     "start_time": "2025-04-29T10:39:49.986508",
     "status": "completed"
    },
    "tags": []
   },
   "source": [
    "This plot allows us to see trends in marine heatwave, helping us to understand how often these extreme events occur and when they occured. An increase in the number of heatwaves over time is a worrying sign of global warming and its potential impact on marine life. Notably, in 2020, there were 13 recorded marine heatwaves—an increase of 8 compared to the 5 events detected in 2016\n",
    "\n",
    "____"
   ]
  },
  {
   "cell_type": "markdown",
   "id": "f9d2e29f",
   "metadata": {
    "papermill": {
     "duration": 0.011089,
     "end_time": "2025-04-29T10:39:50.020330",
     "exception": false,
     "start_time": "2025-04-29T10:39:50.009241",
     "status": "completed"
    },
    "tags": []
   },
   "source": [
    "## Summary"
   ]
  },
  {
   "cell_type": "markdown",
   "id": "02063a96",
   "metadata": {
    "papermill": {
     "duration": 0.010963,
     "end_time": "2025-04-29T10:39:50.042715",
     "exception": false,
     "start_time": "2025-04-29T10:39:50.031752",
     "status": "completed"
    },
    "tags": []
   },
   "source": [
    "1. **🌊 Coral Bleaching & Biodiversity:**\n",
    "   - Low and medium coral bleaching severity correlates with higher marine species numbers.\n",
    "   - High coral bleaching severity corresponds to fewer species, suggesting more severe bleaching is harmful to biodiversity.\n",
    "____\n",
    "2. **🌡️ Ocean Surface Temperature (SST):**\n",
    "   - The moving average plot reveals rising SST over time, signaling ocean warming.\n",
    "   - An increase in SST could indicate a warming climate, which may lead to more frequent and intense marine heatwaves, affecting marine ecosystems, especially corals.\n",
    "____\n",
    "3. **⚖️ Ocean Acidification (pH Levels):**\n",
    "   - A decreasing pH level suggests increased acidity in seawater, which harms marine life, particularly calcifying organisms like corals and shellfish.\n",
    "   - Monitoring pH helps assess the impact of ocean acidification on marine ecosystems.\n",
    "____\n",
    "4. **🔄 Correlation Between SST and pH:**\n",
    "   - A moderate negative correlation (-0.515) between SST and pH indicates that higher SST often leads to lower pH (more acidic water).\n",
    "   - Warmer waters could contribute to ocean acidification, which negatively affects marine organisms, especially corals.\n",
    "____\n",
    "5. **🐠 SST and Biodiversity Relationship:**\n",
    "   - Higher SST correlates with reduced species numbers, as seen during marine heatwaves.\n",
    "   - It raises questions about whether higher temperatures directly result in fewer species or if some species can thrive in warmer waters.\n",
    "____\n",
    "6. **🌿 Marine Acidification & Biodiversity:**\n",
    "   - Lower pH levels (increased acidity) are detrimental to marine organisms, particularly those that rely on calcium for shells and skeletons.\n",
    "   - This negatively affects marine biodiversity, as seen in the visualized data.\n",
    "____\n",
    "7. **🔥 Marine Heatwaves Trends:**\n",
    "   - There’s an increase in marine heatwaves over time, with a notable rise from 5 in 2016 to 13 in 2020.\n",
    "   - More frequent heatwaves indicate the growing impact of global warming on marine life.\n",
    "____"
   ]
  }
 ],
 "metadata": {
  "kaggle": {
   "accelerator": "none",
   "dataSources": [
    {
     "datasetId": 7114697,
     "sourceId": 11366304,
     "sourceType": "datasetVersion"
    }
   ],
   "dockerImageVersionId": 31012,
   "isGpuEnabled": false,
   "isInternetEnabled": true,
   "language": "python",
   "sourceType": "notebook"
  },
  "kernelspec": {
   "display_name": "Python 3",
   "language": "python",
   "name": "python3"
  },
  "language_info": {
   "codemirror_mode": {
    "name": "ipython",
    "version": 3
   },
   "file_extension": ".py",
   "mimetype": "text/x-python",
   "name": "python",
   "nbconvert_exporter": "python",
   "pygments_lexer": "ipython3",
   "version": "3.11.11"
  },
  "papermill": {
   "default_parameters": {},
   "duration": 15.999458,
   "end_time": "2025-04-29T10:39:51.279552",
   "environment_variables": {},
   "exception": null,
   "input_path": "__notebook__.ipynb",
   "output_path": "__notebook__.ipynb",
   "parameters": {},
   "start_time": "2025-04-29T10:39:35.280094",
   "version": "2.6.0"
  }
 },
 "nbformat": 4,
 "nbformat_minor": 5
}
